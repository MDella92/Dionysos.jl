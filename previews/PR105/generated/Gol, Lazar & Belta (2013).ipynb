{
 "cells": [
  {
   "cell_type": "markdown",
   "source": [
    "# Example: Gol, Lazar and Belta (2013)\n",
    "\n",
    "\n",
    "This example was borrowed from [1, Example VIII.A] and tackles\n",
    "an optimal control for the hybrid system with state evolution governed by\n",
    "$$\n",
    "x(k+1) = \\begin{bmatrix} 1 & 1 \\\\ 0 & 1 \\end{bmatrix}x(k) + \\begin{bmatrix} 0.5 \\\\ 1.0 \\end{bmatrix} u(k)\n",
    "$$"
   ],
   "metadata": {}
  },
  {
   "cell_type": "markdown",
   "source": [
    "The goal is to take the state vector toward a target set **XT** by visiting one of the squares\n",
    "**A** or **B** and avoiding the obstacles **O1** and **O2**"
   ],
   "metadata": {}
  },
  {
   "cell_type": "markdown",
   "source": [
    "First, let us import [CDDLib](https://github.com/JuliaPolyhedra/CDDLib.jl),\n",
    "[GLPK](https://github.com/jump-dev/GLPK.jl), [OSQP](https://github.com/oxfordcontrol/OSQP.jl),\n",
    "[JuMP](https://github.com/jump-dev/JuMP.jl), [Pavito](https://github.com/jump-dev/Pavito.jl)\n",
    "and [Ipopt](https://github.com/jump-dev/Ipopt.jl)"
   ],
   "metadata": {}
  },
  {
   "outputs": [],
   "cell_type": "code",
   "source": [
    "import CDDLib\n",
    "import GLPK\n",
    "import OSQP\n",
    "using JuMP\n",
    "import Pavito\n",
    "import Cbc\n",
    "import Ipopt"
   ],
   "metadata": {},
   "execution_count": 1
  },
  {
   "cell_type": "markdown",
   "source": [
    "At this point we import Dionysos"
   ],
   "metadata": {}
  },
  {
   "outputs": [],
   "cell_type": "code",
   "source": [
    "using Dionysos"
   ],
   "metadata": {},
   "execution_count": 2
  },
  {
   "cell_type": "markdown",
   "source": [
    "And the file defining the hybrid system for this problem"
   ],
   "metadata": {}
  },
  {
   "outputs": [
    {
     "output_type": "execute_result",
     "data": {
      "text/plain": "gol_lazar_belta (generic function with 1 method)"
     },
     "metadata": {},
     "execution_count": 3
    }
   ],
   "cell_type": "code",
   "source": [
    "include(joinpath(dirname(dirname(pathof(Dionysos))), \"examples\", \"gol_lazar_belta.jl\"))"
   ],
   "metadata": {},
   "execution_count": 3
  },
  {
   "cell_type": "markdown",
   "source": [
    "Now we instantiate our system using the function provided by [gol\\_lazar\\_belta.jl](https://github.com/dionysos-dev/Dionysos.jl/blob/master/examples/gol_lazar_belta.jl)"
   ],
   "metadata": {}
  },
  {
   "outputs": [],
   "cell_type": "code",
   "source": [
    "system = gol_lazar_belta(CDDLib.Library(), Float64);"
   ],
   "metadata": {},
   "execution_count": 4
  },
  {
   "cell_type": "markdown",
   "source": [
    "Then, we define initial conditions (continuous and discrete states) to this system\n",
    "and set `N` as the search depth, i.e., the number of allowed time steps."
   ],
   "metadata": {}
  },
  {
   "outputs": [],
   "cell_type": "code",
   "source": [
    "x0 = [1.0, -6.0];\n",
    "q0 = 3;\n",
    "\n",
    "N = 11;"
   ],
   "metadata": {},
   "execution_count": 5
  },
  {
   "cell_type": "markdown",
   "source": [
    "We instantiate our Optimal Control Problem by defining the state and transition costs.\n",
    "Notice that Comment that `state_cost` is defined to be zero for each mode/discrete state\n",
    "of the system and the `transition_cost` is defined to be `u_1^2` which is defined by the\n",
    "quadratic form `u' * Q * u` with `Q = ones(1, 1)`."
   ],
   "metadata": {}
  },
  {
   "outputs": [],
   "cell_type": "code",
   "source": [
    "state_cost = Fill(ZeroFunction(), nmodes(system))\n",
    "transition_cost = QuadraticControlFunction(ones(1, 1))\n",
    "\n",
    "problem = OptimalControlProblem(\n",
    "    system,\n",
    "    q0, x0,\n",
    "    Fill(state_cost, N),\n",
    "    Fill(Fill(transition_cost, ntransitions(system)), N),\n",
    "    system.ext[:q_T],\n",
    "    N\n",
    ");"
   ],
   "metadata": {},
   "execution_count": 6
  },
  {
   "cell_type": "markdown",
   "source": [
    "Notice that we used `Fill` for all `N` time steps as we consider time-invariant costs.\n",
    "Finally, we select the method presented in [2] as our optimizer"
   ],
   "metadata": {}
  },
  {
   "outputs": [],
   "cell_type": "code",
   "source": [
    "qp_solver = optimizer_with_attributes(\n",
    "    OSQP.Optimizer,\n",
    "    \"eps_abs\" => 1e-8,\n",
    "    \"eps_rel\" => 1e-8,\n",
    "    \"max_iter\" => 100000,\n",
    "    MOI.Silent() => true\n",
    ");\n",
    "\n",
    "mip_solver = optimizer_with_attributes(\n",
    "    Cbc.Optimizer,\n",
    "    MOI.Silent() => true\n",
    ");\n",
    "\n",
    "cont_solver = optimizer_with_attributes(\n",
    "    Ipopt.Optimizer,\n",
    "    MOI.Silent() => true\n",
    ");\n",
    "\n",
    "miqp_solver = optimizer_with_attributes(\n",
    "    Pavito.Optimizer,\n",
    "    \"mip_solver\" => mip_solver,\n",
    "    \"cont_solver\" => cont_solver,\n",
    "    MOI.Silent() => true\n",
    ");\n",
    "\n",
    "\n",
    "algo = optimizer_with_attributes(BemporadMorari.Optimizer{Float64},\n",
    "    \"continuous_solver\" => qp_solver,\n",
    "    \"mixed_integer_solver\" => miqp_solver,\n",
    "    \"indicator\" => false,\n",
    "    \"log_level\" => 0\n",
    ");"
   ],
   "metadata": {},
   "execution_count": 7
  },
  {
   "cell_type": "markdown",
   "source": [
    "and use it to solve the given problem, with the help of the abstraction layer\n",
    "MathOptInterface provided by [JuMP](https://github.com/jump-dev/JuMP.jl)"
   ],
   "metadata": {}
  },
  {
   "outputs": [
    {
     "name": "stdout",
     "output_type": "stream",
     "text": [
      "\n",
      "******************************************************************************\n",
      "This program contains Ipopt, a library for large-scale nonlinear optimization.\n",
      " Ipopt is released as open source code under the Eclipse Public License (EPL).\n",
      "         For more information visit https://github.com/coin-or/Ipopt\n",
      "******************************************************************************\n",
      "\n"
     ]
    }
   ],
   "cell_type": "code",
   "source": [
    "optimizer = MOI.instantiate(algo)\n",
    "MOI.set(optimizer, MOI.RawParameter(\"problem\"), problem)\n",
    "MOI.optimize!(optimizer)"
   ],
   "metadata": {},
   "execution_count": 8
  },
  {
   "cell_type": "markdown",
   "source": [
    "We check the solver time"
   ],
   "metadata": {}
  },
  {
   "outputs": [
    {
     "output_type": "execute_result",
     "data": {
      "text/plain": "24.211344957351685"
     },
     "metadata": {},
     "execution_count": 9
    }
   ],
   "cell_type": "code",
   "source": [
    "MOI.get(optimizer, MOI.SolveTime())"
   ],
   "metadata": {},
   "execution_count": 9
  },
  {
   "cell_type": "markdown",
   "source": [
    "the termination status"
   ],
   "metadata": {}
  },
  {
   "outputs": [
    {
     "output_type": "execute_result",
     "data": {
      "text/plain": "OPTIMAL::TerminationStatusCode = 1"
     },
     "metadata": {},
     "execution_count": 10
    }
   ],
   "cell_type": "code",
   "source": [
    "termination = MOI.get(optimizer, MOI.TerminationStatus())"
   ],
   "metadata": {},
   "execution_count": 10
  },
  {
   "cell_type": "markdown",
   "source": [
    "the objective value"
   ],
   "metadata": {}
  },
  {
   "outputs": [
    {
     "output_type": "execute_result",
     "data": {
      "text/plain": "11.385062952226304"
     },
     "metadata": {},
     "execution_count": 11
    }
   ],
   "cell_type": "code",
   "source": [
    "objective_value = MOI.get(optimizer, MOI.ObjectiveValue())"
   ],
   "metadata": {},
   "execution_count": 11
  },
  {
   "cell_type": "markdown",
   "source": [
    "and recover the corresponding continuous trajectory"
   ],
   "metadata": {}
  },
  {
   "outputs": [],
   "cell_type": "code",
   "source": [
    "xu = MOI.get(optimizer, ContinuousTrajectoryAttribute());"
   ],
   "metadata": {},
   "execution_count": 12
  },
  {
   "cell_type": "markdown",
   "source": [
    "A little bit of data visualization now:"
   ],
   "metadata": {}
  },
  {
   "outputs": [
    {
     "name": "stdout",
     "output_type": "stream",
     "text": [
      "glp_simplex: unable to recover undefined or non-optimal solution\n",
      "glp_simplex: unable to recover undefined or non-optimal solution\n",
      "glp_simplex: unable to recover undefined or non-optimal solution\n",
      "glp_simplex: unable to recover undefined or non-optimal solution\n",
      "glp_simplex: unable to recover undefined or non-optimal solution\n",
      "glp_simplex: unable to recover undefined or non-optimal solution\n",
      "glp_simplex: unable to recover undefined or non-optimal solution\n",
      "glp_simplex: unable to recover undefined or non-optimal solution\n",
      "glp_simplex: unable to recover undefined or non-optimal solution\n",
      "glp_simplex: unable to recover undefined or non-optimal solution\n",
      "glp_simplex: unable to recover undefined or non-optimal solution\n",
      "glp_simplex: unable to recover undefined or non-optimal solution\n",
      "glp_simplex: unable to recover undefined or non-optimal solution\n",
      "glp_simplex: unable to recover undefined or non-optimal solution\n",
      "glp_simplex: unable to recover undefined or non-optimal solution\n",
      "glp_simplex: unable to recover undefined or non-optimal solution\n",
      "glp_simplex: unable to recover undefined or non-optimal solution\n",
      "glp_simplex: unable to recover undefined or non-optimal solution\n",
      "glp_simplex: unable to recover undefined or non-optimal solution\n",
      "glp_simplex: unable to recover undefined or non-optimal solution\n",
      "glp_simplex: unable to recover undefined or non-optimal solution\n",
      "glp_simplex: unable to recover undefined or non-optimal solution\n",
      "glp_simplex: unable to recover undefined or non-optimal solution\n",
      "glp_simplex: unable to recover undefined or non-optimal solution\n",
      "glp_simplex: unable to recover undefined or non-optimal solution\n",
      "glp_simplex: unable to recover undefined or non-optimal solution\n",
      "glp_simplex: unable to recover undefined or non-optimal solution\n",
      "glp_simplex: unable to recover undefined or non-optimal solution\n",
      "glp_simplex: unable to recover undefined or non-optimal solution\n",
      "glp_simplex: unable to recover undefined or non-optimal solution\n",
      "glp_simplex: unable to recover undefined or non-optimal solution\n",
      "glp_simplex: unable to recover undefined or non-optimal solution\n",
      "glp_simplex: unable to recover undefined or non-optimal solution\n",
      "glp_simplex: unable to recover undefined or non-optimal solution\n",
      "glp_simplex: unable to recover undefined or non-optimal solution\n",
      "glp_simplex: unable to recover undefined or non-optimal solution\n",
      "glp_simplex: unable to recover undefined or non-optimal solution\n"
     ]
    },
    {
     "output_type": "execute_result",
     "data": {
      "text/plain": "Plot{Plots.GRBackend() n=24}",
      "image/png": "[encoded data removed]",
      "text/html": [
       "<img src=\"data:image/png;base64,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\" />"
      ],
      "image/svg+xml": [
       "<?xml version=\"1.0\" encoding=\"utf-8\"?>\n",
       "<svg xmlns=\"http://www.w3.org/2000/svg\" xmlns:xlink=\"http://www.w3.org/1999/xlink\" width=\"600\" height=\"400\" viewBox=\"0 0 2400 1600\">\n",
       "<defs>\n",
       "  <clipPath id=\"clip750\">\n",
       "    <rect x=\"0\" y=\"0\" width=\"2400\" height=\"1600\"/>\n",
       "  </clipPath>\n",
       "</defs>\n",
       "<path clip-path=\"url(#clip750)\" d=\"\n",
       "M0 1600 L2400 1600 L2400 0 L0 0  Z\n",
       "  \" fill=\"#ffffff\" fill-rule=\"evenodd\" fill-opacity=\"1\"/>\n",
       "<defs>\n",
       "  <clipPath id=\"clip751\">\n",
       "    <rect x=\"480\" y=\"0\" width=\"1681\" height=\"1600\"/>\n",
       "  </clipPath>\n",
       "</defs>\n",
       "<path clip-path=\"url(#clip750)\" d=\"\n",
       "M86.9921 1521.01 L2352.76 1521.01 L2352.76 47.2441 L86.9921 47.2441  Z\n",
       "  \" fill=\"#ffffff\" fill-rule=\"evenodd\" fill-opacity=\"1\"/>\n",
       "<defs>\n",
       "  <clipPath id=\"clip752\">\n",
       "    <rect x=\"86\" y=\"47\" width=\"2267\" height=\"1475\"/>\n",
       "  </clipPath>\n",
       "</defs>\n",
       "<polyline clip-path=\"url(#clip752)\" style=\"stroke:#000000; stroke-width:2; stroke-opacity:0.1; fill:none\" points=\"\n",
       "  151.118,1521.01 151.118,47.2441 \n",
       "  \"/>\n",
       "<polyline clip-path=\"url(#clip752)\" style=\"stroke:#000000; stroke-width:2; stroke-opacity:0.1; fill:none\" points=\"\n",
       "  602.07,1521.01 602.07,47.2441 \n",
       "  \"/>\n",
       "<polyline clip-path=\"url(#clip752)\" style=\"stroke:#000000; stroke-width:2; stroke-opacity:0.1; fill:none\" points=\"\n",
       "  1053.02,1521.01 1053.02,47.2441 \n",
       "  \"/>\n",
       "<polyline clip-path=\"url(#clip752)\" style=\"stroke:#000000; stroke-width:2; stroke-opacity:0.1; fill:none\" points=\"\n",
       "  1503.97,1521.01 1503.97,47.2441 \n",
       "  \"/>\n",
       "<polyline clip-path=\"url(#clip752)\" style=\"stroke:#000000; stroke-width:2; stroke-opacity:0.1; fill:none\" points=\"\n",
       "  1954.93,1521.01 1954.93,47.2441 \n",
       "  \"/>\n",
       "<polyline clip-path=\"url(#clip750)\" style=\"stroke:#000000; stroke-width:4; stroke-opacity:1; fill:none\" points=\"\n",
       "  86.9921,1521.01 2352.76,1521.01 \n",
       "  \"/>\n",
       "<polyline clip-path=\"url(#clip750)\" style=\"stroke:#000000; stroke-width:4; stroke-opacity:1; fill:none\" points=\"\n",
       "  151.118,1521.01 151.118,1503.32 \n",
       "  \"/>\n",
       "<polyline clip-path=\"url(#clip750)\" style=\"stroke:#000000; stroke-width:4; stroke-opacity:1; fill:none\" points=\"\n",
       "  602.07,1521.01 602.07,1503.32 \n",
       "  \"/>\n",
       "<polyline clip-path=\"url(#clip750)\" style=\"stroke:#000000; stroke-width:4; stroke-opacity:1; fill:none\" points=\"\n",
       "  1053.02,1521.01 1053.02,1503.32 \n",
       "  \"/>\n",
       "<polyline clip-path=\"url(#clip750)\" style=\"stroke:#000000; stroke-width:4; stroke-opacity:1; fill:none\" points=\"\n",
       "  1503.97,1521.01 1503.97,1503.32 \n",
       "  \"/>\n",
       "<polyline clip-path=\"url(#clip750)\" style=\"stroke:#000000; stroke-width:4; stroke-opacity:1; fill:none\" points=\"\n",
       "  1954.93,1521.01 1954.93,1503.32 \n",
       "  \"/>\n",
       "<path clip-path=\"url(#clip750)\" d=\"M 0 0 M82.5646 1564.85 L112.24 1564.85 L112.24 1568.79 L82.5646 1568.79 L82.5646 1564.85 Z\" fill=\"#000000\" fill-rule=\"evenodd\" fill-opacity=\"1\" /><path clip-path=\"url(#clip750)\" d=\"M 0 0 M123.143 1577.74 L130.782 1577.74 L130.782 1551.38 L122.472 1553.05 L122.472 1548.79 L130.736 1547.12 L135.412 1547.12 L135.412 1577.74 L143.05 1577.74 L143.05 1581.68 L123.143 1581.68 L123.143 1577.74 Z\" fill=\"#000000\" fill-rule=\"evenodd\" fill-opacity=\"1\" /><path clip-path=\"url(#clip750)\" d=\"M 0 0 M162.495 1550.2 Q158.884 1550.2 157.055 1553.76 Q155.249 1557.31 155.249 1564.43 Q155.249 1571.54 157.055 1575.11 Q158.884 1578.65 162.495 1578.65 Q166.129 1578.65 167.935 1575.11 Q169.763 1571.54 169.763 1564.43 Q169.763 1557.31 167.935 1553.76 Q166.129 1550.2 162.495 1550.2 M162.495 1546.49 Q168.305 1546.49 171.36 1551.1 Q174.439 1555.68 174.439 1564.43 Q174.439 1573.16 171.36 1577.77 Q168.305 1582.35 162.495 1582.35 Q156.685 1582.35 153.606 1577.77 Q150.55 1573.16 150.55 1564.43 Q150.55 1555.68 153.606 1551.1 Q156.685 1546.49 162.495 1546.49 Z\" fill=\"#000000\" fill-rule=\"evenodd\" fill-opacity=\"1\" /><path clip-path=\"url(#clip750)\" d=\"M 0 0 M182.657 1575.8 L187.541 1575.8 L187.541 1581.68 L182.657 1581.68 L182.657 1575.8 Z\" fill=\"#000000\" fill-rule=\"evenodd\" fill-opacity=\"1\" /><path clip-path=\"url(#clip750)\" d=\"M 0 0 M207.726 1550.2 Q204.115 1550.2 202.286 1553.76 Q200.481 1557.31 200.481 1564.43 Q200.481 1571.54 202.286 1575.11 Q204.115 1578.65 207.726 1578.65 Q211.36 1578.65 213.166 1575.11 Q214.994 1571.54 214.994 1564.43 Q214.994 1557.31 213.166 1553.76 Q211.36 1550.2 207.726 1550.2 M207.726 1546.49 Q213.536 1546.49 216.592 1551.1 Q219.67 1555.68 219.67 1564.43 Q219.67 1573.16 216.592 1577.77 Q213.536 1582.35 207.726 1582.35 Q201.916 1582.35 198.837 1577.77 Q195.782 1573.16 195.782 1564.43 Q195.782 1555.68 198.837 1551.1 Q201.916 1546.49 207.726 1546.49 Z\" fill=\"#000000\" fill-rule=\"evenodd\" fill-opacity=\"1\" /><path clip-path=\"url(#clip750)\" d=\"M 0 0 M549.095 1564.85 L578.771 1564.85 L578.771 1568.79 L549.095 1568.79 L549.095 1564.85 Z\" fill=\"#000000\" fill-rule=\"evenodd\" fill-opacity=\"1\" /><path clip-path=\"url(#clip750)\" d=\"M 0 0 M587.683 1547.12 L609.905 1547.12 L609.905 1549.11 L597.359 1581.68 L592.475 1581.68 L604.28 1551.06 L587.683 1551.06 L587.683 1547.12 Z\" fill=\"#000000\" fill-rule=\"evenodd\" fill-opacity=\"1\" /><path clip-path=\"url(#clip750)\" d=\"M 0 0 M619.026 1575.8 L623.91 1575.8 L623.91 1581.68 L619.026 1581.68 L619.026 1575.8 Z\" fill=\"#000000\" fill-rule=\"evenodd\" fill-opacity=\"1\" /><path clip-path=\"url(#clip750)\" d=\"M 0 0 M634.141 1547.12 L652.498 1547.12 L652.498 1551.06 L638.424 1551.06 L638.424 1559.53 Q639.442 1559.18 640.461 1559.02 Q641.479 1558.83 642.498 1558.83 Q648.285 1558.83 651.664 1562 Q655.044 1565.18 655.044 1570.59 Q655.044 1576.17 651.572 1579.27 Q648.099 1582.35 641.78 1582.35 Q639.604 1582.35 637.336 1581.98 Q635.09 1581.61 632.683 1580.87 L632.683 1576.17 Q634.766 1577.3 636.988 1577.86 Q639.211 1578.42 641.687 1578.42 Q645.692 1578.42 648.03 1576.31 Q650.368 1574.2 650.368 1570.59 Q650.368 1566.98 648.03 1564.87 Q645.692 1562.77 641.687 1562.77 Q639.812 1562.77 637.937 1563.18 Q636.086 1563.6 634.141 1564.48 L634.141 1547.12 Z\" fill=\"#000000\" fill-rule=\"evenodd\" fill-opacity=\"1\" /><path clip-path=\"url(#clip750)\" d=\"M 0 0 M999.55 1564.85 L1029.23 1564.85 L1029.23 1568.79 L999.55 1568.79 L999.55 1564.85 Z\" fill=\"#000000\" fill-rule=\"evenodd\" fill-opacity=\"1\" /><path clip-path=\"url(#clip750)\" d=\"M 0 0 M1039.36 1547.12 L1057.72 1547.12 L1057.72 1551.06 L1043.65 1551.06 L1043.65 1559.53 Q1044.67 1559.18 1045.68 1559.02 Q1046.7 1558.83 1047.72 1558.83 Q1053.51 1558.83 1056.89 1562 Q1060.27 1565.18 1060.27 1570.59 Q1060.27 1576.17 1056.79 1579.27 Q1053.32 1582.35 1047 1582.35 Q1044.83 1582.35 1042.56 1581.98 Q1040.31 1581.61 1037.91 1580.87 L1037.91 1576.17 Q1039.99 1577.3 1042.21 1577.86 Q1044.43 1578.42 1046.91 1578.42 Q1050.92 1578.42 1053.25 1576.31 Q1055.59 1574.2 1055.59 1570.59 Q1055.59 1566.98 1053.25 1564.87 Q1050.92 1562.77 1046.91 1562.77 Q1045.04 1562.77 1043.16 1563.18 Q1041.31 1563.6 1039.36 1564.48 L1039.36 1547.12 Z\" fill=\"#000000\" fill-rule=\"evenodd\" fill-opacity=\"1\" /><path clip-path=\"url(#clip750)\" d=\"M 0 0 M1069.48 1575.8 L1074.36 1575.8 L1074.36 1581.68 L1069.48 1581.68 L1069.48 1575.8 Z\" fill=\"#000000\" fill-rule=\"evenodd\" fill-opacity=\"1\" /><path clip-path=\"url(#clip750)\" d=\"M 0 0 M1094.55 1550.2 Q1090.94 1550.2 1089.11 1553.76 Q1087.3 1557.31 1087.3 1564.43 Q1087.3 1571.54 1089.11 1575.11 Q1090.94 1578.65 1094.55 1578.65 Q1098.18 1578.65 1099.99 1575.11 Q1101.82 1571.54 1101.82 1564.43 Q1101.82 1557.31 1099.99 1553.76 Q1098.18 1550.2 1094.55 1550.2 M1094.55 1546.49 Q1100.36 1546.49 1103.41 1551.1 Q1106.49 1555.68 1106.49 1564.43 Q1106.49 1573.16 1103.41 1577.77 Q1100.36 1582.35 1094.55 1582.35 Q1088.74 1582.35 1085.66 1577.77 Q1082.6 1573.16 1082.6 1564.43 Q1082.6 1555.68 1085.66 1551.1 Q1088.74 1546.49 1094.55 1546.49 Z\" fill=\"#000000\" fill-rule=\"evenodd\" fill-opacity=\"1\" /><path clip-path=\"url(#clip750)\" d=\"M 0 0 M1451 1564.85 L1480.68 1564.85 L1480.68 1568.79 L1451 1568.79 L1451 1564.85 Z\" fill=\"#000000\" fill-rule=\"evenodd\" fill-opacity=\"1\" /><path clip-path=\"url(#clip750)\" d=\"M 0 0 M1494.8 1577.74 L1511.12 1577.74 L1511.12 1581.68 L1489.17 1581.68 L1489.17 1577.74 Q1491.83 1574.99 1496.42 1570.36 Q1501.02 1565.71 1502.2 1564.37 Q1504.45 1561.84 1505.33 1560.11 Q1506.23 1558.35 1506.23 1556.66 Q1506.23 1553.9 1504.29 1552.17 Q1502.37 1550.43 1499.26 1550.43 Q1497.06 1550.43 1494.61 1551.19 Q1492.18 1551.96 1489.4 1553.51 L1489.4 1548.79 Q1492.23 1547.65 1494.68 1547.07 Q1497.13 1546.49 1499.17 1546.49 Q1504.54 1546.49 1507.74 1549.18 Q1510.93 1551.87 1510.93 1556.36 Q1510.93 1558.49 1510.12 1560.41 Q1509.33 1562.3 1507.23 1564.9 Q1506.65 1565.57 1503.55 1568.79 Q1500.44 1571.98 1494.8 1577.74 Z\" fill=\"#000000\" fill-rule=\"evenodd\" fill-opacity=\"1\" /><path clip-path=\"url(#clip750)\" d=\"M 0 0 M1520.93 1575.8 L1525.81 1575.8 L1525.81 1581.68 L1520.93 1581.68 L1520.93 1575.8 Z\" fill=\"#000000\" fill-rule=\"evenodd\" fill-opacity=\"1\" /><path clip-path=\"url(#clip750)\" d=\"M 0 0 M1536.05 1547.12 L1554.4 1547.12 L1554.4 1551.06 L1540.33 1551.06 L1540.33 1559.53 Q1541.35 1559.18 1542.36 1559.02 Q1543.38 1558.83 1544.4 1558.83 Q1550.19 1558.83 1553.57 1562 Q1556.95 1565.18 1556.95 1570.59 Q1556.95 1576.17 1553.48 1579.27 Q1550 1582.35 1543.68 1582.35 Q1541.51 1582.35 1539.24 1581.98 Q1536.99 1581.61 1534.59 1580.87 L1534.59 1576.17 Q1536.67 1577.3 1538.89 1577.86 Q1541.11 1578.42 1543.59 1578.42 Q1547.6 1578.42 1549.93 1576.31 Q1552.27 1574.2 1552.27 1570.59 Q1552.27 1566.98 1549.93 1564.87 Q1547.6 1562.77 1543.59 1562.77 Q1541.72 1562.77 1539.84 1563.18 Q1537.99 1563.6 1536.05 1564.48 L1536.05 1547.12 Z\" fill=\"#000000\" fill-rule=\"evenodd\" fill-opacity=\"1\" /><path clip-path=\"url(#clip750)\" d=\"M 0 0 M1932.31 1550.2 Q1928.7 1550.2 1926.87 1553.76 Q1925.07 1557.31 1925.07 1564.43 Q1925.07 1571.54 1926.87 1575.11 Q1928.7 1578.65 1932.31 1578.65 Q1935.94 1578.65 1937.75 1575.11 Q1939.58 1571.54 1939.58 1564.43 Q1939.58 1557.31 1937.75 1553.76 Q1935.94 1550.2 1932.31 1550.2 M1932.31 1546.49 Q1938.12 1546.49 1941.18 1551.1 Q1944.25 1555.68 1944.25 1564.43 Q1944.25 1573.16 1941.18 1577.77 Q1938.12 1582.35 1932.31 1582.35 Q1926.5 1582.35 1923.42 1577.77 Q1920.37 1573.16 1920.37 1564.43 Q1920.37 1555.68 1923.42 1551.1 Q1926.5 1546.49 1932.31 1546.49 Z\" fill=\"#000000\" fill-rule=\"evenodd\" fill-opacity=\"1\" /><path clip-path=\"url(#clip750)\" d=\"M 0 0 M1952.47 1575.8 L1957.36 1575.8 L1957.36 1581.68 L1952.47 1581.68 L1952.47 1575.8 Z\" fill=\"#000000\" fill-rule=\"evenodd\" fill-opacity=\"1\" /><path clip-path=\"url(#clip750)\" d=\"M 0 0 M1977.54 1550.2 Q1973.93 1550.2 1972.1 1553.76 Q1970.3 1557.31 1970.3 1564.43 Q1970.3 1571.54 1972.1 1575.11 Q1973.93 1578.65 1977.54 1578.65 Q1981.18 1578.65 1982.98 1575.11 Q1984.81 1571.54 1984.81 1564.43 Q1984.81 1557.31 1982.98 1553.76 Q1981.18 1550.2 1977.54 1550.2 M1977.54 1546.49 Q1983.35 1546.49 1986.41 1551.1 Q1989.49 1555.68 1989.49 1564.43 Q1989.49 1573.16 1986.41 1577.77 Q1983.35 1582.35 1977.54 1582.35 Q1971.73 1582.35 1968.65 1577.77 Q1965.6 1573.16 1965.6 1564.43 Q1965.6 1555.68 1968.65 1551.1 Q1971.73 1546.49 1977.54 1546.49 Z\" fill=\"#000000\" fill-rule=\"evenodd\" fill-opacity=\"1\" /><polyline clip-path=\"url(#clip752)\" style=\"stroke:#000000; stroke-width:2; stroke-opacity:0.1; fill:none\" points=\"\n",
       "  86.9921,1479.3 2352.76,1479.3 \n",
       "  \"/>\n",
       "<polyline clip-path=\"url(#clip752)\" style=\"stroke:#000000; stroke-width:2; stroke-opacity:0.1; fill:none\" points=\"\n",
       "  86.9921,1189.64 2352.76,1189.64 \n",
       "  \"/>\n",
       "<polyline clip-path=\"url(#clip752)\" style=\"stroke:#000000; stroke-width:2; stroke-opacity:0.1; fill:none\" points=\"\n",
       "  86.9921,899.988 2352.76,899.988 \n",
       "  \"/>\n",
       "<polyline clip-path=\"url(#clip752)\" style=\"stroke:#000000; stroke-width:2; stroke-opacity:0.1; fill:none\" points=\"\n",
       "  86.9921,610.333 2352.76,610.333 \n",
       "  \"/>\n",
       "<polyline clip-path=\"url(#clip752)\" style=\"stroke:#000000; stroke-width:2; stroke-opacity:0.1; fill:none\" points=\"\n",
       "  86.9921,320.678 2352.76,320.678 \n",
       "  \"/>\n",
       "<polyline clip-path=\"url(#clip750)\" style=\"stroke:#000000; stroke-width:4; stroke-opacity:1; fill:none\" points=\"\n",
       "  86.9921,1521.01 86.9921,47.2441 \n",
       "  \"/>\n",
       "<polyline clip-path=\"url(#clip750)\" style=\"stroke:#000000; stroke-width:4; stroke-opacity:1; fill:none\" points=\"\n",
       "  86.9921,1479.3 114.181,1479.3 \n",
       "  \"/>\n",
       "<polyline clip-path=\"url(#clip750)\" style=\"stroke:#000000; stroke-width:4; stroke-opacity:1; fill:none\" points=\"\n",
       "  86.9921,1189.64 114.181,1189.64 \n",
       "  \"/>\n",
       "<polyline clip-path=\"url(#clip750)\" style=\"stroke:#000000; stroke-width:4; stroke-opacity:1; fill:none\" points=\"\n",
       "  86.9921,899.988 114.181,899.988 \n",
       "  \"/>\n",
       "<polyline clip-path=\"url(#clip750)\" style=\"stroke:#000000; stroke-width:4; stroke-opacity:1; fill:none\" points=\"\n",
       "  86.9921,610.333 114.181,610.333 \n",
       "  \"/>\n",
       "<polyline clip-path=\"url(#clip750)\" style=\"stroke:#000000; stroke-width:4; stroke-opacity:1; fill:none\" points=\"\n",
       "  86.9921,320.678 114.181,320.678 \n",
       "  \"/>\n",
       "<path clip-path=\"url(#clip750)\" d=\"M 0 0 M-86.1136 1479.75 L-56.4379 1479.75 L-56.4379 1483.68 L-86.1136 1483.68 L-86.1136 1479.75 Z\" fill=\"#000000\" fill-rule=\"evenodd\" fill-opacity=\"1\" /><path clip-path=\"url(#clip750)\" d=\"M 0 0 M-45.5351 1492.64 L-37.8963 1492.64 L-37.8963 1466.28 L-46.2064 1467.94 L-46.2064 1463.68 L-37.9426 1462.02 L-33.2667 1462.02 L-33.2667 1492.64 L-25.6278 1492.64 L-25.6278 1496.58 L-45.5351 1496.58 L-45.5351 1492.64 Z\" fill=\"#000000\" fill-rule=\"evenodd\" fill-opacity=\"1\" /><path clip-path=\"url(#clip750)\" d=\"M 0 0 M-6.18349 1465.1 Q-9.79459 1465.1 -11.6233 1468.66 Q-13.4288 1472.2 -13.4288 1479.33 Q-13.4288 1486.44 -11.6233 1490 Q-9.79459 1493.55 -6.18349 1493.55 Q-2.54925 1493.55 -0.743708 1490 Q1.08499 1486.44 1.08499 1479.33 Q1.08499 1472.2 -0.743708 1468.66 Q-2.54925 1465.1 -6.18349 1465.1 M-6.18349 1461.39 Q-0.37334 1461.39 2.6822 1466 Q5.76089 1470.58 5.76089 1479.33 Q5.76089 1488.06 2.6822 1492.67 Q-0.37334 1497.25 -6.18349 1497.25 Q-11.9936 1497.25 -15.0723 1492.67 Q-18.1279 1488.06 -18.1279 1479.33 Q-18.1279 1470.58 -15.0723 1466 Q-11.9936 1461.39 -6.18349 1461.39 Z\" fill=\"#000000\" fill-rule=\"evenodd\" fill-opacity=\"1\" /><path clip-path=\"url(#clip750)\" d=\"M 0 0 M13.9784 1490.7 L18.8627 1490.7 L18.8627 1496.58 L13.9784 1496.58 L13.9784 1490.7 Z\" fill=\"#000000\" fill-rule=\"evenodd\" fill-opacity=\"1\" /><path clip-path=\"url(#clip750)\" d=\"M 0 0 M39.0477 1465.1 Q35.4367 1465.1 33.608 1468.66 Q31.8024 1472.2 31.8024 1479.33 Q31.8024 1486.44 33.608 1490 Q35.4367 1493.55 39.0477 1493.55 Q42.682 1493.55 44.4875 1490 Q46.3162 1486.44 46.3162 1479.33 Q46.3162 1472.2 44.4875 1468.66 Q42.682 1465.1 39.0477 1465.1 M39.0477 1461.39 Q44.8579 1461.39 47.9134 1466 Q50.9921 1470.58 50.9921 1479.33 Q50.9921 1488.06 47.9134 1492.67 Q44.8579 1497.25 39.0477 1497.25 Q33.2376 1497.25 30.1589 1492.67 Q27.1034 1488.06 27.1034 1479.33 Q27.1034 1470.58 30.1589 1466 Q33.2376 1461.39 39.0477 1461.39 Z\" fill=\"#000000\" fill-rule=\"evenodd\" fill-opacity=\"1\" /><path clip-path=\"url(#clip750)\" d=\"M 0 0 M-54.9564 1190.09 L-25.2806 1190.09 L-25.2806 1194.03 L-54.9564 1194.03 L-54.9564 1190.09 Z\" fill=\"#000000\" fill-rule=\"evenodd\" fill-opacity=\"1\" /><path clip-path=\"url(#clip750)\" d=\"M 0 0 M-16.3686 1172.36 L5.85348 1172.36 L5.85348 1174.35 L-6.69275 1206.92 L-11.577 1206.92 L0.228509 1176.3 L-16.3686 1176.3 L-16.3686 1172.36 Z\" fill=\"#000000\" fill-rule=\"evenodd\" fill-opacity=\"1\" /><path clip-path=\"url(#clip750)\" d=\"M 0 0 M14.9738 1201.04 L19.858 1201.04 L19.858 1206.92 L14.9738 1206.92 L14.9738 1201.04 Z\" fill=\"#000000\" fill-rule=\"evenodd\" fill-opacity=\"1\" /><path clip-path=\"url(#clip750)\" d=\"M 0 0 M30.0895 1172.36 L48.4458 1172.36 L48.4458 1176.3 L34.3718 1176.3 L34.3718 1184.77 Q35.3904 1184.42 36.4089 1184.26 Q37.4274 1184.08 38.4459 1184.08 Q44.2329 1184.08 47.6125 1187.25 Q50.9921 1190.42 50.9921 1195.83 Q50.9921 1201.41 47.5199 1204.52 Q44.0477 1207.59 37.7283 1207.59 Q35.5524 1207.59 33.2839 1207.22 Q31.0385 1206.85 28.6311 1206.11 L28.6311 1201.41 Q30.7145 1202.55 32.9367 1203.1 Q35.1589 1203.66 37.6357 1203.66 Q41.6403 1203.66 43.9783 1201.55 Q46.3162 1199.45 46.3162 1195.83 Q46.3162 1192.22 43.9783 1190.12 Q41.6403 1188.01 37.6357 1188.01 Q35.7607 1188.01 33.8857 1188.43 Q32.0339 1188.84 30.0895 1189.72 L30.0895 1172.36 Z\" fill=\"#000000\" fill-rule=\"evenodd\" fill-opacity=\"1\" /><path clip-path=\"url(#clip750)\" d=\"M 0 0 M-55.9517 900.439 L-26.276 900.439 L-26.276 904.374 L-55.9517 904.374 L-55.9517 900.439 Z\" fill=\"#000000\" fill-rule=\"evenodd\" fill-opacity=\"1\" /><path clip-path=\"url(#clip750)\" d=\"M 0 0 M-16.1371 882.708 L2.21924 882.708 L2.21924 886.643 L-11.8548 886.643 L-11.8548 895.115 Q-10.8362 894.768 -9.81773 894.606 Q-8.79922 894.421 -7.78071 894.421 Q-1.9937 894.421 1.38591 897.592 Q4.76552 900.763 4.76552 906.18 Q4.76552 911.759 1.29332 914.861 Q-2.17889 917.939 -8.4983 917.939 Q-10.6742 917.939 -12.9427 917.569 Q-15.1881 917.198 -17.5955 916.458 L-17.5955 911.759 Q-15.5121 912.893 -13.2899 913.448 Q-11.0677 914.004 -8.59089 914.004 Q-4.58628 914.004 -2.24833 911.898 Q0.089621 909.791 0.089621 906.18 Q0.089621 902.569 -2.24833 900.462 Q-4.58628 898.356 -8.59089 898.356 Q-10.4659 898.356 -12.3409 898.773 Q-14.1927 899.189 -16.1371 900.069 L-16.1371 882.708 Z\" fill=\"#000000\" fill-rule=\"evenodd\" fill-opacity=\"1\" /><path clip-path=\"url(#clip750)\" d=\"M 0 0 M13.9784 911.388 L18.8627 911.388 L18.8627 917.268 L13.9784 917.268 L13.9784 911.388 Z\" fill=\"#000000\" fill-rule=\"evenodd\" fill-opacity=\"1\" /><path clip-path=\"url(#clip750)\" d=\"M 0 0 M39.0477 885.787 Q35.4367 885.787 33.608 889.351 Q31.8024 892.893 31.8024 900.023 Q31.8024 907.129 33.608 910.694 Q35.4367 914.236 39.0477 914.236 Q42.682 914.236 44.4875 910.694 Q46.3162 907.129 46.3162 900.023 Q46.3162 892.893 44.4875 889.351 Q42.682 885.787 39.0477 885.787 M39.0477 882.083 Q44.8579 882.083 47.9134 886.689 Q50.9921 891.273 50.9921 900.023 Q50.9921 908.749 47.9134 913.356 Q44.8579 917.939 39.0477 917.939 Q33.2376 917.939 30.1589 913.356 Q27.1034 908.749 27.1034 900.023 Q27.1034 891.273 30.1589 886.689 Q33.2376 882.083 39.0477 882.083 Z\" fill=\"#000000\" fill-rule=\"evenodd\" fill-opacity=\"1\" /><path clip-path=\"url(#clip750)\" d=\"M 0 0 M-54.9564 610.784 L-25.2806 610.784 L-25.2806 614.72 L-54.9564 614.72 L-54.9564 610.784 Z\" fill=\"#000000\" fill-rule=\"evenodd\" fill-opacity=\"1\" /><path clip-path=\"url(#clip750)\" d=\"M 0 0 M-11.1603 623.678 L5.15904 623.678 L5.15904 627.613 L-16.7853 627.613 L-16.7853 623.678 Q-14.1233 620.923 -9.53996 616.294 Q-4.9335 611.641 -3.75295 610.298 Q-1.50759 607.775 -0.627968 606.039 Q0.274805 604.28 0.274805 602.59 Q0.274805 599.835 -1.66963 598.099 Q-3.59091 596.363 -6.69275 596.363 Q-8.89181 596.363 -11.3455 597.127 Q-13.776 597.891 -16.5538 599.442 L-16.5538 594.72 Q-13.7297 593.585 -11.2761 593.007 Q-8.82237 592.428 -6.78534 592.428 Q-1.415 592.428 1.77943 595.113 Q4.97385 597.798 4.97385 602.289 Q4.97385 604.419 4.16367 606.34 Q3.37664 608.238 1.27017 610.831 Q0.69147 611.502 -2.41037 614.72 Q-5.5122 617.914 -11.1603 623.678 Z\" fill=\"#000000\" fill-rule=\"evenodd\" fill-opacity=\"1\" /><path clip-path=\"url(#clip750)\" d=\"M 0 0 M14.9738 621.733 L19.858 621.733 L19.858 627.613 L14.9738 627.613 L14.9738 621.733 Z\" fill=\"#000000\" fill-rule=\"evenodd\" fill-opacity=\"1\" /><path clip-path=\"url(#clip750)\" d=\"M 0 0 M30.0895 593.053 L48.4458 593.053 L48.4458 596.988 L34.3718 596.988 L34.3718 605.46 Q35.3904 605.113 36.4089 604.951 Q37.4274 604.766 38.4459 604.766 Q44.2329 604.766 47.6125 607.937 Q50.9921 611.109 50.9921 616.525 Q50.9921 622.104 47.5199 625.206 Q44.0477 628.284 37.7283 628.284 Q35.5524 628.284 33.2839 627.914 Q31.0385 627.544 28.6311 626.803 L28.6311 622.104 Q30.7145 623.238 32.9367 623.794 Q35.1589 624.349 37.6357 624.349 Q41.6403 624.349 43.9783 622.243 Q46.3162 620.136 46.3162 616.525 Q46.3162 612.914 43.9783 610.808 Q41.6403 608.701 37.6357 608.701 Q35.7607 608.701 33.8857 609.118 Q32.0339 609.534 30.0895 610.414 L30.0895 593.053 Z\" fill=\"#000000\" fill-rule=\"evenodd\" fill-opacity=\"1\" /><path clip-path=\"url(#clip750)\" d=\"M 0 0 M-6.18349 306.477 Q-9.79459 306.477 -11.6233 310.042 Q-13.4288 313.583 -13.4288 320.713 Q-13.4288 327.819 -11.6233 331.384 Q-9.79459 334.926 -6.18349 334.926 Q-2.54925 334.926 -0.743708 331.384 Q1.08499 327.819 1.08499 320.713 Q1.08499 313.583 -0.743708 310.042 Q-2.54925 306.477 -6.18349 306.477 M-6.18349 302.773 Q-0.37334 302.773 2.6822 307.38 Q5.76089 311.963 5.76089 320.713 Q5.76089 329.44 2.6822 334.046 Q-0.37334 338.63 -6.18349 338.63 Q-11.9936 338.63 -15.0723 334.046 Q-18.1279 329.44 -18.1279 320.713 Q-18.1279 311.963 -15.0723 307.38 Q-11.9936 302.773 -6.18349 302.773 Z\" fill=\"#000000\" fill-rule=\"evenodd\" fill-opacity=\"1\" /><path clip-path=\"url(#clip750)\" d=\"M 0 0 M13.9784 332.079 L18.8627 332.079 L18.8627 337.958 L13.9784 337.958 L13.9784 332.079 Z\" fill=\"#000000\" fill-rule=\"evenodd\" fill-opacity=\"1\" /><path clip-path=\"url(#clip750)\" d=\"M 0 0 M39.0477 306.477 Q35.4367 306.477 33.608 310.042 Q31.8024 313.583 31.8024 320.713 Q31.8024 327.819 33.608 331.384 Q35.4367 334.926 39.0477 334.926 Q42.682 334.926 44.4875 331.384 Q46.3162 327.819 46.3162 320.713 Q46.3162 313.583 44.4875 310.042 Q42.682 306.477 39.0477 306.477 M39.0477 302.773 Q44.8579 302.773 47.9134 307.38 Q50.9921 311.963 50.9921 320.713 Q50.9921 329.44 47.9134 334.046 Q44.8579 338.63 39.0477 338.63 Q33.2376 338.63 30.1589 334.046 Q27.1034 329.44 27.1034 320.713 Q27.1034 311.963 30.1589 307.38 Q33.2376 302.773 39.0477 302.773 Z\" fill=\"#000000\" fill-rule=\"evenodd\" fill-opacity=\"1\" /><path clip-path=\"url(#clip752)\" d=\"\n",
       "M872.641 204.816 L1053.02 204.816 L1053.02 899.988 L872.641 899.988 L872.641 204.816 L872.641 204.816  Z\n",
       "  \" fill=\"#ffffff\" fill-rule=\"evenodd\" fill-opacity=\"1\"/>\n",
       "<polyline clip-path=\"url(#clip752)\" style=\"stroke:#000000; stroke-width:4; stroke-opacity:1; fill:none\" points=\"\n",
       "  872.641,204.816 1053.02,204.816 1053.02,899.988 872.641,899.988 872.641,204.816 \n",
       "  \"/>\n",
       "<path clip-path=\"url(#clip752)\" d=\"\n",
       "M151.118 88.9544 L872.641 88.9544 L872.641 899.988 L151.118 899.988 L151.118 88.9544 L151.118 88.9544  Z\n",
       "  \" fill=\"#ffffff\" fill-rule=\"evenodd\" fill-opacity=\"1\"/>\n",
       "<polyline clip-path=\"url(#clip752)\" style=\"stroke:#000000; stroke-width:4; stroke-opacity:1; fill:none\" points=\"\n",
       "  151.118,88.9544 872.641,88.9544 872.641,899.988 151.118,899.988 151.118,88.9544 \n",
       "  \"/>\n",
       "<path clip-path=\"url(#clip752)\" d=\"\n",
       "M1053.02 784.126 L2288.63 784.126 L2288.63 1479.3 L1053.02 1479.3 L1053.02 784.126 L1053.02 784.126  Z\n",
       "  \" fill=\"#ffffff\" fill-rule=\"evenodd\" fill-opacity=\"1\"/>\n",
       "<polyline clip-path=\"url(#clip752)\" style=\"stroke:#000000; stroke-width:4; stroke-opacity:1; fill:none\" points=\"\n",
       "  1053.02,784.126 2288.63,784.126 2288.63,1479.3 1053.02,1479.3 1053.02,784.126 \n",
       "  \"/>\n",
       "<path clip-path=\"url(#clip752)\" d=\"\n",
       "M1233.4 88.9544 L1864.74 88.9544 L1864.74 668.264 L1233.4 668.264 L1233.4 88.9544 L1233.4 88.9544  Z\n",
       "  \" fill=\"#ffffff\" fill-rule=\"evenodd\" fill-opacity=\"1\"/>\n",
       "<polyline clip-path=\"url(#clip752)\" style=\"stroke:#000000; stroke-width:4; stroke-opacity:1; fill:none\" points=\"\n",
       "  1233.4,88.9544 1864.74,88.9544 1864.74,668.264 1233.4,668.264 1233.4,88.9544 \n",
       "  \"/>\n",
       "<path clip-path=\"url(#clip752)\" d=\"\n",
       "M1053.02 88.9544 L1233.4 88.9544 L1233.4 552.402 L1053.02 552.402 L1053.02 88.9544 L1053.02 88.9544  Z\n",
       "  \" fill=\"#ffffff\" fill-rule=\"evenodd\" fill-opacity=\"1\"/>\n",
       "<polyline clip-path=\"url(#clip752)\" style=\"stroke:#000000; stroke-width:4; stroke-opacity:1; fill:none\" points=\"\n",
       "  1053.02,88.9544 1233.4,88.9544 1233.4,552.402 1053.02,552.402 1053.02,88.9544 \n",
       "  \"/>\n",
       "<path clip-path=\"url(#clip752)\" d=\"\n",
       "M1864.74 378.609 L2045.12 378.609 L2045.12 668.264 L1864.74 668.264 L1864.74 378.609 L1864.74 378.609  Z\n",
       "  \" fill=\"#ffffff\" fill-rule=\"evenodd\" fill-opacity=\"1\"/>\n",
       "<polyline clip-path=\"url(#clip752)\" style=\"stroke:#000000; stroke-width:4; stroke-opacity:1; fill:none\" points=\"\n",
       "  1864.74,378.609 2045.12,378.609 2045.12,668.264 1864.74,668.264 1864.74,378.609 \n",
       "  \"/>\n",
       "<path clip-path=\"url(#clip752)\" d=\"\n",
       "M1864.74 262.747 L1864.74 88.9544 L2045.12 88.9544 L2045.12 262.747 L1864.74 262.747 L1864.74 262.747  Z\n",
       "  \" fill=\"#ffffff\" fill-rule=\"evenodd\" fill-opacity=\"1\"/>\n",
       "<polyline clip-path=\"url(#clip752)\" style=\"stroke:#000000; stroke-width:4; stroke-opacity:1; fill:none\" points=\"\n",
       "  1864.74,262.747 1864.74,88.9544 2045.12,88.9544 2045.12,262.747 1864.74,262.747 \n",
       "  \"/>\n",
       "<path clip-path=\"url(#clip752)\" d=\"\n",
       "M2045.12 88.9544 L2288.63 88.9544 L2288.63 668.264 L2045.12 668.264 L2045.12 88.9544 L2045.12 88.9544  Z\n",
       "  \" fill=\"#ffffff\" fill-rule=\"evenodd\" fill-opacity=\"1\"/>\n",
       "<polyline clip-path=\"url(#clip752)\" style=\"stroke:#000000; stroke-width:4; stroke-opacity:1; fill:none\" points=\"\n",
       "  2045.12,88.9544 2288.63,88.9544 2288.63,668.264 2045.12,668.264 2045.12,88.9544 \n",
       "  \"/>\n",
       "<path clip-path=\"url(#clip752)\" d=\"\n",
       "M1864.74 378.609 L1864.74 262.747 L2045.12 262.747 L2045.12 378.609 L1864.74 378.609 L1864.74 378.609  Z\n",
       "  \" fill=\"#ffffff\" fill-rule=\"evenodd\" fill-opacity=\"1\"/>\n",
       "<polyline clip-path=\"url(#clip752)\" style=\"stroke:#000000; stroke-width:4; stroke-opacity:1; fill:none\" points=\"\n",
       "  1864.74,378.609 1864.74,262.747 2045.12,262.747 2045.12,378.609 1864.74,378.609 \n",
       "  \"/>\n",
       "<path clip-path=\"url(#clip752)\" d=\"\n",
       "M872.641 204.816 L872.641 88.9544 L1053.02 88.9544 L1053.02 204.816 L872.641 204.816 L872.641 204.816  Z\n",
       "  \" fill=\"#ffffff\" fill-rule=\"evenodd\" fill-opacity=\"1\"/>\n",
       "<polyline clip-path=\"url(#clip752)\" style=\"stroke:#000000; stroke-width:4; stroke-opacity:1; fill:none\" points=\"\n",
       "  872.641,204.816 872.641,88.9544 1053.02,88.9544 1053.02,204.816 872.641,204.816 \n",
       "  \"/>\n",
       "<path clip-path=\"url(#clip752)\" d=\"\n",
       "M1053.02 552.402 L1233.4 552.402 L1233.4 668.264 L1053.02 668.264 L1053.02 552.402 L1053.02 552.402  Z\n",
       "  \" fill=\"#ffffff\" fill-rule=\"evenodd\" fill-opacity=\"1\"/>\n",
       "<polyline clip-path=\"url(#clip752)\" style=\"stroke:#000000; stroke-width:4; stroke-opacity:1; fill:none\" points=\"\n",
       "  1053.02,552.402 1233.4,552.402 1233.4,668.264 1053.02,668.264 1053.02,552.402 \n",
       "  \"/>\n",
       "<path clip-path=\"url(#clip752)\" d=\"\n",
       "M872.641 204.816 L1053.02 204.816 L1053.02 899.988 L872.641 899.988 L872.641 204.816 L872.641 204.816  Z\n",
       "  \" fill=\"#ffffff\" fill-rule=\"evenodd\" fill-opacity=\"1\"/>\n",
       "<polyline clip-path=\"url(#clip752)\" style=\"stroke:#000000; stroke-width:4; stroke-opacity:1; fill:none\" points=\"\n",
       "  872.641,204.816 1053.02,204.816 1053.02,899.988 872.641,899.988 872.641,204.816 \n",
       "  \"/>\n",
       "<path clip-path=\"url(#clip752)\" d=\"\n",
       "M151.118 88.9544 L872.641 88.9544 L872.641 899.988 L151.118 899.988 L151.118 88.9544 L151.118 88.9544  Z\n",
       "  \" fill=\"#ffffff\" fill-rule=\"evenodd\" fill-opacity=\"1\"/>\n",
       "<polyline clip-path=\"url(#clip752)\" style=\"stroke:#000000; stroke-width:4; stroke-opacity:1; fill:none\" points=\"\n",
       "  151.118,88.9544 872.641,88.9544 872.641,899.988 151.118,899.988 151.118,88.9544 \n",
       "  \"/>\n",
       "<path clip-path=\"url(#clip752)\" d=\"\n",
       "M1053.02 784.126 L2288.63 784.126 L2288.63 1479.3 L1053.02 1479.3 L1053.02 784.126 L1053.02 784.126  Z\n",
       "  \" fill=\"#ffffff\" fill-rule=\"evenodd\" fill-opacity=\"1\"/>\n",
       "<polyline clip-path=\"url(#clip752)\" style=\"stroke:#000000; stroke-width:4; stroke-opacity:1; fill:none\" points=\"\n",
       "  1053.02,784.126 2288.63,784.126 2288.63,1479.3 1053.02,1479.3 1053.02,784.126 \n",
       "  \"/>\n",
       "<path clip-path=\"url(#clip752)\" d=\"\n",
       "M1233.4 88.9544 L1864.74 88.9544 L1864.74 668.264 L1233.4 668.264 L1233.4 88.9544 L1233.4 88.9544  Z\n",
       "  \" fill=\"#ffffff\" fill-rule=\"evenodd\" fill-opacity=\"1\"/>\n",
       "<polyline clip-path=\"url(#clip752)\" style=\"stroke:#000000; stroke-width:4; stroke-opacity:1; fill:none\" points=\"\n",
       "  1233.4,88.9544 1864.74,88.9544 1864.74,668.264 1233.4,668.264 1233.4,88.9544 \n",
       "  \"/>\n",
       "<path clip-path=\"url(#clip752)\" d=\"\n",
       "M1053.02 88.9544 L1233.4 88.9544 L1233.4 552.402 L1053.02 552.402 L1053.02 88.9544 L1053.02 88.9544  Z\n",
       "  \" fill=\"#ffffff\" fill-rule=\"evenodd\" fill-opacity=\"1\"/>\n",
       "<polyline clip-path=\"url(#clip752)\" style=\"stroke:#000000; stroke-width:4; stroke-opacity:1; fill:none\" points=\"\n",
       "  1053.02,88.9544 1233.4,88.9544 1233.4,552.402 1053.02,552.402 1053.02,88.9544 \n",
       "  \"/>\n",
       "<path clip-path=\"url(#clip752)\" d=\"\n",
       "M1864.74 378.609 L2045.12 378.609 L2045.12 668.264 L1864.74 668.264 L1864.74 378.609 L1864.74 378.609  Z\n",
       "  \" fill=\"#ffffff\" fill-rule=\"evenodd\" fill-opacity=\"1\"/>\n",
       "<polyline clip-path=\"url(#clip752)\" style=\"stroke:#000000; stroke-width:4; stroke-opacity:1; fill:none\" points=\"\n",
       "  1864.74,378.609 2045.12,378.609 2045.12,668.264 1864.74,668.264 1864.74,378.609 \n",
       "  \"/>\n",
       "<path clip-path=\"url(#clip752)\" d=\"\n",
       "M1864.74 262.747 L1864.74 88.9544 L2045.12 88.9544 L2045.12 262.747 L1864.74 262.747 L1864.74 262.747  Z\n",
       "  \" fill=\"#ffffff\" fill-rule=\"evenodd\" fill-opacity=\"1\"/>\n",
       "<polyline clip-path=\"url(#clip752)\" style=\"stroke:#000000; stroke-width:4; stroke-opacity:1; fill:none\" points=\"\n",
       "  1864.74,262.747 1864.74,88.9544 2045.12,88.9544 2045.12,262.747 1864.74,262.747 \n",
       "  \"/>\n",
       "<path clip-path=\"url(#clip752)\" d=\"\n",
       "M2045.12 88.9544 L2288.63 88.9544 L2288.63 668.264 L2045.12 668.264 L2045.12 88.9544 L2045.12 88.9544  Z\n",
       "  \" fill=\"#ffffff\" fill-rule=\"evenodd\" fill-opacity=\"1\"/>\n",
       "<polyline clip-path=\"url(#clip752)\" style=\"stroke:#000000; stroke-width:4; stroke-opacity:1; fill:none\" points=\"\n",
       "  2045.12,88.9544 2288.63,88.9544 2288.63,668.264 2045.12,668.264 2045.12,88.9544 \n",
       "  \"/>\n",
       "<path clip-path=\"url(#clip752)\" d=\"\n",
       "M1864.74 378.609 L1864.74 262.747 L2045.12 262.747 L2045.12 378.609 L1864.74 378.609 L1864.74 378.609  Z\n",
       "  \" fill=\"#ffffff\" fill-rule=\"evenodd\" fill-opacity=\"1\"/>\n",
       "<polyline clip-path=\"url(#clip752)\" style=\"stroke:#000000; stroke-width:4; stroke-opacity:1; fill:none\" points=\"\n",
       "  1864.74,378.609 1864.74,262.747 2045.12,262.747 2045.12,378.609 1864.74,378.609 \n",
       "  \"/>\n",
       "<path clip-path=\"url(#clip752)\" d=\"\n",
       "M151.118 899.988 L1053.02 899.988 L1053.02 1479.3 L151.118 1479.3 L151.118 899.988 L151.118 899.988  Z\n",
       "  \" fill=\"#000000\" fill-rule=\"evenodd\" fill-opacity=\"0.1\"/>\n",
       "<polyline clip-path=\"url(#clip752)\" style=\"stroke:#000000; stroke-width:4; stroke-opacity:1; fill:none\" points=\"\n",
       "  151.118,899.988 1053.02,899.988 1053.02,1479.3 151.118,1479.3 151.118,899.988 \n",
       "  \"/>\n",
       "<path clip-path=\"url(#clip752)\" d=\"\n",
       "M1053.02 668.264 L2288.63 668.264 L2288.63 784.126 L1053.02 784.126 L1053.02 668.264 L1053.02 668.264  Z\n",
       "  \" fill=\"#000000\" fill-rule=\"evenodd\" fill-opacity=\"0.1\"/>\n",
       "<polyline clip-path=\"url(#clip752)\" style=\"stroke:#000000; stroke-width:4; stroke-opacity:1; fill:none\" points=\"\n",
       "  1053.02,668.264 2288.63,668.264 2288.63,784.126 1053.02,784.126 1053.02,668.264 \n",
       "  \"/>\n",
       "<circle clip-path=\"url(#clip752)\" cx=\"2135.31\" cy=\"1015.85\" r=\"14\" fill=\"#ed5d92\" fill-rule=\"evenodd\" fill-opacity=\"1\" stroke=\"#000000\" stroke-opacity=\"1\" stroke-width=\"3.2\"/>\n",
       "<circle clip-path=\"url(#clip752)\" cx=\"1229.43\" cy=\"789.234\" r=\"14\" fill=\"#c68125\" fill-rule=\"evenodd\" fill-opacity=\"1\" stroke=\"#000000\" stroke-opacity=\"1\" stroke-width=\"3.2\"/>\n",
       "<circle clip-path=\"url(#clip752)\" cx=\"650.746\" cy=\"595.517\" r=\"14\" fill=\"#c68125\" fill-rule=\"evenodd\" fill-opacity=\"1\" stroke=\"#000000\" stroke-opacity=\"1\" stroke-width=\"3.2\"/>\n",
       "<circle clip-path=\"url(#clip752)\" cx=\"348.045\" cy=\"434.7\" r=\"14\" fill=\"#c68125\" fill-rule=\"evenodd\" fill-opacity=\"1\" stroke=\"#000000\" stroke-opacity=\"1\" stroke-width=\"3.2\"/>\n",
       "<circle clip-path=\"url(#clip752)\" cx=\"270.104\" cy=\"306.782\" r=\"14\" fill=\"#c68125\" fill-rule=\"evenodd\" fill-opacity=\"1\" stroke=\"#000000\" stroke-opacity=\"1\" stroke-width=\"3.2\"/>\n",
       "<circle clip-path=\"url(#clip752)\" cx=\"365.703\" cy=\"211.764\" r=\"14\" fill=\"#c68125\" fill-rule=\"evenodd\" fill-opacity=\"1\" stroke=\"#000000\" stroke-opacity=\"1\" stroke-width=\"3.2\"/>\n",
       "<circle clip-path=\"url(#clip752)\" cx=\"583.622\" cy=\"149.645\" r=\"14\" fill=\"#c68125\" fill-rule=\"evenodd\" fill-opacity=\"1\" stroke=\"#000000\" stroke-opacity=\"1\" stroke-width=\"3.2\"/>\n",
       "<circle clip-path=\"url(#clip752)\" cx=\"872.641\" cy=\"120.426\" r=\"14\" fill=\"#c68125\" fill-rule=\"evenodd\" fill-opacity=\"1\" stroke=\"#000000\" stroke-opacity=\"1\" stroke-width=\"3.2\"/>\n",
       "<circle clip-path=\"url(#clip752)\" cx=\"1184.94\" cy=\"119.744\" r=\"14\" fill=\"#c68125\" fill-rule=\"evenodd\" fill-opacity=\"1\" stroke=\"#000000\" stroke-opacity=\"1\" stroke-width=\"3.2\"/>\n",
       "<circle clip-path=\"url(#clip752)\" cx=\"1479.48\" cy=\"143.237\" r=\"14\" fill=\"#c68125\" fill-rule=\"evenodd\" fill-opacity=\"1\" stroke=\"#000000\" stroke-opacity=\"1\" stroke-width=\"3.2\"/>\n",
       "<circle clip-path=\"url(#clip752)\" cx=\"1718.62\" cy=\"190.905\" r=\"14\" fill=\"#c68125\" fill-rule=\"evenodd\" fill-opacity=\"1\" stroke=\"#000000\" stroke-opacity=\"1\" stroke-width=\"3.2\"/>\n",
       "<circle clip-path=\"url(#clip752)\" cx=\"1864.74\" cy=\"262.747\" r=\"14\" fill=\"#c68125\" fill-rule=\"evenodd\" fill-opacity=\"1\" stroke=\"#000000\" stroke-opacity=\"1\" stroke-width=\"3.2\"/>\n",
       "<path clip-path=\"url(#clip750)\" d=\"M 0 0 M948.404 572.419 L959.863 572.419 L959.863 532.871 L947.397 535.371 L947.397 528.982 L959.793 526.482 L966.807 526.482 L966.807 572.419 L978.265 572.419 L978.265 578.322 L948.404 578.322 L948.404 572.419 Z\" fill=\"#000000\" fill-rule=\"evenodd\" fill-opacity=\"1\" /><path clip-path=\"url(#clip750)\" d=\"M 0 0 M503.858 514.488 L528.337 514.488 L528.337 520.391 L495.421 520.391 L495.421 514.488 Q499.414 510.356 506.289 503.412 Q513.199 496.433 514.969 494.419 Q518.338 490.634 519.657 488.03 Q521.011 485.391 521.011 482.857 Q521.011 478.725 518.094 476.121 Q515.213 473.516 510.56 473.516 Q507.261 473.516 503.581 474.662 Q499.935 475.808 495.768 478.134 L495.768 471.051 Q500.004 469.35 503.685 468.482 Q507.365 467.614 510.421 467.614 Q518.476 467.614 523.268 471.641 Q528.06 475.669 528.06 482.405 Q528.06 485.6 526.844 488.482 Q525.664 491.329 522.504 495.218 Q521.636 496.225 516.983 501.051 Q512.331 505.843 503.858 514.488 Z\" fill=\"#000000\" fill-rule=\"evenodd\" fill-opacity=\"1\" /><path clip-path=\"url(#clip750)\" d=\"M 0 0 M1677.2 1129.68 Q1682.23 1130.76 1685.04 1134.16 Q1687.89 1137.56 1687.89 1142.56 Q1687.89 1150.24 1682.61 1154.44 Q1677.34 1158.64 1667.61 1158.64 Q1664.35 1158.64 1660.88 1157.98 Q1657.44 1157.35 1653.76 1156.07 L1653.76 1149.3 Q1656.68 1151 1660.15 1151.87 Q1663.62 1152.74 1667.41 1152.74 Q1674 1152.74 1677.44 1150.13 Q1680.91 1147.53 1680.91 1142.56 Q1680.91 1137.98 1677.68 1135.41 Q1674.49 1132.81 1668.76 1132.81 L1662.72 1132.81 L1662.72 1127.04 L1669.04 1127.04 Q1674.21 1127.04 1676.95 1124.99 Q1679.7 1122.91 1679.7 1119.02 Q1679.7 1115.03 1676.85 1112.91 Q1674.04 1110.76 1668.76 1110.76 Q1665.88 1110.76 1662.58 1111.38 Q1659.28 1112.01 1655.32 1113.33 L1655.32 1107.08 Q1659.32 1105.97 1662.79 1105.41 Q1666.29 1104.85 1669.39 1104.85 Q1677.37 1104.85 1682.02 1108.5 Q1686.68 1112.11 1686.68 1118.29 Q1686.68 1122.6 1684.21 1125.58 Q1681.75 1128.53 1677.2 1129.68 Z\" fill=\"#000000\" fill-rule=\"evenodd\" fill-opacity=\"1\" /><path clip-path=\"url(#clip750)\" d=\"M 0 0 M1553.58 358.8 L1535.87 386.474 L1553.58 386.474 L1553.58 358.8 M1551.74 352.689 L1560.56 352.689 L1560.56 386.474 L1567.96 386.474 L1567.96 392.307 L1560.56 392.307 L1560.56 404.529 L1553.58 404.529 L1553.58 392.307 L1530.18 392.307 L1530.18 385.536 L1551.74 352.689 Z\" fill=\"#000000\" fill-rule=\"evenodd\" fill-opacity=\"1\" /><path clip-path=\"url(#clip750)\" d=\"M 0 0 M1128.63 294.758 L1156.16 294.758 L1156.16 300.661 L1135.05 300.661 L1135.05 313.369 Q1136.58 312.848 1138.11 312.605 Q1139.64 312.328 1141.16 312.328 Q1149.84 312.328 1154.91 317.085 Q1159.98 321.841 1159.98 329.966 Q1159.98 338.334 1154.77 342.987 Q1149.57 347.605 1140.09 347.605 Q1136.82 347.605 1133.42 347.05 Q1130.05 346.494 1126.44 345.383 L1126.44 338.334 Q1129.57 340.036 1132.9 340.869 Q1136.23 341.702 1139.95 341.702 Q1145.96 341.702 1149.46 338.543 Q1152.97 335.383 1152.97 329.966 Q1152.97 324.55 1149.46 321.39 Q1145.96 318.23 1139.95 318.23 Q1137.14 318.23 1134.32 318.855 Q1131.55 319.48 1128.63 320.8 L1128.63 294.758 Z\" fill=\"#000000\" fill-rule=\"evenodd\" fill-opacity=\"1\" /><path clip-path=\"url(#clip750)\" d=\"M 0 0 M1955.53 520.642 Q1950.81 520.642 1948.03 523.871 Q1945.29 527.1 1945.29 532.725 Q1945.29 538.315 1948.03 541.579 Q1950.81 544.808 1955.53 544.808 Q1960.26 544.808 1963 541.579 Q1965.78 538.315 1965.78 532.725 Q1965.78 527.1 1963 523.871 Q1960.26 520.642 1955.53 520.642 M1969.46 498.662 L1969.46 505.051 Q1966.82 503.801 1964.11 503.142 Q1961.44 502.482 1958.8 502.482 Q1951.85 502.482 1948.17 507.169 Q1944.53 511.857 1944.01 521.336 Q1946.05 518.315 1949.14 516.718 Q1952.23 515.086 1955.95 515.086 Q1963.76 515.086 1968.28 519.843 Q1972.83 524.565 1972.83 532.725 Q1972.83 540.711 1968.1 545.537 Q1963.38 550.364 1955.53 550.364 Q1946.54 550.364 1941.78 543.489 Q1937.03 536.579 1937.03 523.489 Q1937.03 511.197 1942.86 503.905 Q1948.69 496.579 1958.52 496.579 Q1961.16 496.579 1963.83 497.1 Q1966.54 497.621 1969.46 498.662 Z\" fill=\"#000000\" fill-rule=\"evenodd\" fill-opacity=\"1\" /><path clip-path=\"url(#clip750)\" d=\"M 0 0 M1938.26 149.931 L1971.59 149.931 L1971.59 152.917 L1952.77 201.771 L1945.45 201.771 L1963.16 155.834 L1938.26 155.834 L1938.26 149.931 Z\" fill=\"#000000\" fill-rule=\"evenodd\" fill-opacity=\"1\" /><path clip-path=\"url(#clip750)\" d=\"M 0 0 M2166.87 379.911 Q2161.87 379.911 2158.99 382.585 Q2156.14 385.258 2156.14 389.946 Q2156.14 394.633 2158.99 397.307 Q2161.87 399.981 2166.87 399.981 Q2171.87 399.981 2174.76 397.307 Q2177.64 394.599 2177.64 389.946 Q2177.64 385.258 2174.76 382.585 Q2171.91 379.911 2166.87 379.911 M2159.86 376.925 Q2155.35 375.814 2152.81 372.724 Q2150.31 369.634 2150.31 365.189 Q2150.31 358.974 2154.72 355.363 Q2159.17 351.752 2166.87 351.752 Q2174.62 351.752 2179.03 355.363 Q2183.44 358.974 2183.44 365.189 Q2183.44 369.634 2180.9 372.724 Q2178.4 375.814 2173.92 376.925 Q2178.99 378.106 2181.8 381.543 Q2184.65 384.981 2184.65 389.946 Q2184.65 397.481 2180.03 401.508 Q2175.45 405.536 2166.87 405.536 Q2158.3 405.536 2153.68 401.508 Q2149.1 397.481 2149.1 389.946 Q2149.1 384.981 2151.94 381.543 Q2154.79 378.106 2159.86 376.925 M2157.29 365.849 Q2157.29 369.877 2159.79 372.134 Q2162.32 374.39 2166.87 374.39 Q2171.39 374.39 2173.92 372.134 Q2176.49 369.877 2176.49 365.849 Q2176.49 361.821 2173.92 359.564 Q2171.39 357.307 2166.87 357.307 Q2162.32 357.307 2159.79 359.564 Q2157.29 361.821 2157.29 365.849 Z\" fill=\"#000000\" fill-rule=\"evenodd\" fill-opacity=\"1\" /><path clip-path=\"url(#clip750)\" d=\"M 0 0 M1912.79 294.758 L1920.33 294.758 L1933.21 314.029 L1946.16 294.758 L1953.69 294.758 L1937.03 319.654 L1954.8 346.598 L1947.27 346.598 L1932.69 324.55 L1918 346.598 L1910.43 346.598 L1928.94 318.925 L1912.79 294.758 Z\" fill=\"#000000\" fill-rule=\"evenodd\" fill-opacity=\"1\" /><path clip-path=\"url(#clip750)\" d=\"M 0 0 M1955.57 294.758 L1999.42 294.758 L1999.42 300.661 L1981.02 300.661 L1981.02 346.598 L1973.97 346.598 L1973.97 300.661 L1955.57 300.661 L1955.57 294.758 Z\" fill=\"#000000\" fill-rule=\"evenodd\" fill-opacity=\"1\" /><path clip-path=\"url(#clip750)\" d=\"M 0 0 M962.831 127.875 L953.317 153.674 L972.38 153.674 L962.831 127.875 M958.873 120.965 L966.824 120.965 L986.581 172.805 L979.29 172.805 L974.567 159.507 L951.199 159.507 L946.477 172.805 L939.081 172.805 L958.873 120.965 Z\" fill=\"#000000\" fill-rule=\"evenodd\" fill-opacity=\"1\" /><path clip-path=\"url(#clip750)\" d=\"M 0 0 M1131.84 611.496 L1131.84 630.489 L1143.09 630.489 Q1148.75 630.489 1151.46 628.163 Q1154.2 625.802 1154.2 620.975 Q1154.2 616.114 1151.46 613.823 Q1148.75 611.496 1143.09 611.496 L1131.84 611.496 M1131.84 590.177 L1131.84 605.802 L1142.22 605.802 Q1147.36 605.802 1149.86 603.892 Q1152.4 601.948 1152.4 597.989 Q1152.4 594.066 1149.86 592.121 Q1147.36 590.177 1142.22 590.177 L1131.84 590.177 M1124.83 584.413 L1142.74 584.413 Q1150.76 584.413 1155.1 587.746 Q1159.44 591.08 1159.44 597.226 Q1159.44 601.982 1157.22 604.795 Q1155 607.607 1150.69 608.302 Q1155.87 609.413 1158.72 612.955 Q1161.6 616.462 1161.6 621.739 Q1161.6 628.684 1156.88 632.468 Q1152.15 636.253 1143.44 636.253 L1124.83 636.253 L1124.83 584.413 Z\" fill=\"#000000\" fill-rule=\"evenodd\" fill-opacity=\"1\" /><path clip-path=\"url(#clip750)\" d=\"M 0 0 M948.404 572.419 L959.863 572.419 L959.863 532.871 L947.397 535.371 L947.397 528.982 L959.793 526.482 L966.807 526.482 L966.807 572.419 L978.265 572.419 L978.265 578.322 L948.404 578.322 L948.404 572.419 Z\" fill=\"#000000\" fill-rule=\"evenodd\" fill-opacity=\"1\" /><path clip-path=\"url(#clip750)\" d=\"M 0 0 M503.858 514.488 L528.337 514.488 L528.337 520.391 L495.421 520.391 L495.421 514.488 Q499.414 510.356 506.289 503.412 Q513.199 496.433 514.969 494.419 Q518.338 490.634 519.657 488.03 Q521.011 485.391 521.011 482.857 Q521.011 478.725 518.094 476.121 Q515.213 473.516 510.56 473.516 Q507.261 473.516 503.581 474.662 Q499.935 475.808 495.768 478.134 L495.768 471.051 Q500.004 469.35 503.685 468.482 Q507.365 467.614 510.421 467.614 Q518.476 467.614 523.268 471.641 Q528.06 475.669 528.06 482.405 Q528.06 485.6 526.844 488.482 Q525.664 491.329 522.504 495.218 Q521.636 496.225 516.983 501.051 Q512.331 505.843 503.858 514.488 Z\" fill=\"#000000\" fill-rule=\"evenodd\" fill-opacity=\"1\" /><path clip-path=\"url(#clip750)\" d=\"M 0 0 M1677.2 1129.68 Q1682.23 1130.76 1685.04 1134.16 Q1687.89 1137.56 1687.89 1142.56 Q1687.89 1150.24 1682.61 1154.44 Q1677.34 1158.64 1667.61 1158.64 Q1664.35 1158.64 1660.88 1157.98 Q1657.44 1157.35 1653.76 1156.07 L1653.76 1149.3 Q1656.68 1151 1660.15 1151.87 Q1663.62 1152.74 1667.41 1152.74 Q1674 1152.74 1677.44 1150.13 Q1680.91 1147.53 1680.91 1142.56 Q1680.91 1137.98 1677.68 1135.41 Q1674.49 1132.81 1668.76 1132.81 L1662.72 1132.81 L1662.72 1127.04 L1669.04 1127.04 Q1674.21 1127.04 1676.95 1124.99 Q1679.7 1122.91 1679.7 1119.02 Q1679.7 1115.03 1676.85 1112.91 Q1674.04 1110.76 1668.76 1110.76 Q1665.88 1110.76 1662.58 1111.38 Q1659.28 1112.01 1655.32 1113.33 L1655.32 1107.08 Q1659.32 1105.97 1662.79 1105.41 Q1666.29 1104.85 1669.39 1104.85 Q1677.37 1104.85 1682.02 1108.5 Q1686.68 1112.11 1686.68 1118.29 Q1686.68 1122.6 1684.21 1125.58 Q1681.75 1128.53 1677.2 1129.68 Z\" fill=\"#000000\" fill-rule=\"evenodd\" fill-opacity=\"1\" /><path clip-path=\"url(#clip750)\" d=\"M 0 0 M1553.58 358.8 L1535.87 386.474 L1553.58 386.474 L1553.58 358.8 M1551.74 352.689 L1560.56 352.689 L1560.56 386.474 L1567.96 386.474 L1567.96 392.307 L1560.56 392.307 L1560.56 404.529 L1553.58 404.529 L1553.58 392.307 L1530.18 392.307 L1530.18 385.536 L1551.74 352.689 Z\" fill=\"#000000\" fill-rule=\"evenodd\" fill-opacity=\"1\" /><path clip-path=\"url(#clip750)\" d=\"M 0 0 M1128.63 294.758 L1156.16 294.758 L1156.16 300.661 L1135.05 300.661 L1135.05 313.369 Q1136.58 312.848 1138.11 312.605 Q1139.64 312.328 1141.16 312.328 Q1149.84 312.328 1154.91 317.085 Q1159.98 321.841 1159.98 329.966 Q1159.98 338.334 1154.77 342.987 Q1149.57 347.605 1140.09 347.605 Q1136.82 347.605 1133.42 347.05 Q1130.05 346.494 1126.44 345.383 L1126.44 338.334 Q1129.57 340.036 1132.9 340.869 Q1136.23 341.702 1139.95 341.702 Q1145.96 341.702 1149.46 338.543 Q1152.97 335.383 1152.97 329.966 Q1152.97 324.55 1149.46 321.39 Q1145.96 318.23 1139.95 318.23 Q1137.14 318.23 1134.32 318.855 Q1131.55 319.48 1128.63 320.8 L1128.63 294.758 Z\" fill=\"#000000\" fill-rule=\"evenodd\" fill-opacity=\"1\" /><path clip-path=\"url(#clip750)\" d=\"M 0 0 M1955.53 520.642 Q1950.81 520.642 1948.03 523.871 Q1945.29 527.1 1945.29 532.725 Q1945.29 538.315 1948.03 541.579 Q1950.81 544.808 1955.53 544.808 Q1960.26 544.808 1963 541.579 Q1965.78 538.315 1965.78 532.725 Q1965.78 527.1 1963 523.871 Q1960.26 520.642 1955.53 520.642 M1969.46 498.662 L1969.46 505.051 Q1966.82 503.801 1964.11 503.142 Q1961.44 502.482 1958.8 502.482 Q1951.85 502.482 1948.17 507.169 Q1944.53 511.857 1944.01 521.336 Q1946.05 518.315 1949.14 516.718 Q1952.23 515.086 1955.95 515.086 Q1963.76 515.086 1968.28 519.843 Q1972.83 524.565 1972.83 532.725 Q1972.83 540.711 1968.1 545.537 Q1963.38 550.364 1955.53 550.364 Q1946.54 550.364 1941.78 543.489 Q1937.03 536.579 1937.03 523.489 Q1937.03 511.197 1942.86 503.905 Q1948.69 496.579 1958.52 496.579 Q1961.16 496.579 1963.83 497.1 Q1966.54 497.621 1969.46 498.662 Z\" fill=\"#000000\" fill-rule=\"evenodd\" fill-opacity=\"1\" /><path clip-path=\"url(#clip750)\" d=\"M 0 0 M1938.26 149.931 L1971.59 149.931 L1971.59 152.917 L1952.77 201.771 L1945.45 201.771 L1963.16 155.834 L1938.26 155.834 L1938.26 149.931 Z\" fill=\"#000000\" fill-rule=\"evenodd\" fill-opacity=\"1\" /><path clip-path=\"url(#clip750)\" d=\"M 0 0 M2166.87 379.911 Q2161.87 379.911 2158.99 382.585 Q2156.14 385.258 2156.14 389.946 Q2156.14 394.633 2158.99 397.307 Q2161.87 399.981 2166.87 399.981 Q2171.87 399.981 2174.76 397.307 Q2177.64 394.599 2177.64 389.946 Q2177.64 385.258 2174.76 382.585 Q2171.91 379.911 2166.87 379.911 M2159.86 376.925 Q2155.35 375.814 2152.81 372.724 Q2150.31 369.634 2150.31 365.189 Q2150.31 358.974 2154.72 355.363 Q2159.17 351.752 2166.87 351.752 Q2174.62 351.752 2179.03 355.363 Q2183.44 358.974 2183.44 365.189 Q2183.44 369.634 2180.9 372.724 Q2178.4 375.814 2173.92 376.925 Q2178.99 378.106 2181.8 381.543 Q2184.65 384.981 2184.65 389.946 Q2184.65 397.481 2180.03 401.508 Q2175.45 405.536 2166.87 405.536 Q2158.3 405.536 2153.68 401.508 Q2149.1 397.481 2149.1 389.946 Q2149.1 384.981 2151.94 381.543 Q2154.79 378.106 2159.86 376.925 M2157.29 365.849 Q2157.29 369.877 2159.79 372.134 Q2162.32 374.39 2166.87 374.39 Q2171.39 374.39 2173.92 372.134 Q2176.49 369.877 2176.49 365.849 Q2176.49 361.821 2173.92 359.564 Q2171.39 357.307 2166.87 357.307 Q2162.32 357.307 2159.79 359.564 Q2157.29 361.821 2157.29 365.849 Z\" fill=\"#000000\" fill-rule=\"evenodd\" fill-opacity=\"1\" /><path clip-path=\"url(#clip750)\" d=\"M 0 0 M1912.79 294.758 L1920.33 294.758 L1933.21 314.029 L1946.16 294.758 L1953.69 294.758 L1937.03 319.654 L1954.8 346.598 L1947.27 346.598 L1932.69 324.55 L1918 346.598 L1910.43 346.598 L1928.94 318.925 L1912.79 294.758 Z\" fill=\"#000000\" fill-rule=\"evenodd\" fill-opacity=\"1\" /><path clip-path=\"url(#clip750)\" d=\"M 0 0 M1955.57 294.758 L1999.42 294.758 L1999.42 300.661 L1981.02 300.661 L1981.02 346.598 L1973.97 346.598 L1973.97 300.661 L1955.57 300.661 L1955.57 294.758 Z\" fill=\"#000000\" fill-rule=\"evenodd\" fill-opacity=\"1\" /><path clip-path=\"url(#clip750)\" d=\"M 0 0 M580.768 1168.48 Q573.129 1168.48 568.615 1174.17 Q564.136 1179.87 564.136 1189.69 Q564.136 1199.49 568.615 1205.18 Q573.129 1210.88 580.768 1210.88 Q588.407 1210.88 592.851 1205.18 Q597.33 1199.49 597.33 1189.69 Q597.33 1179.87 592.851 1174.17 Q588.407 1168.48 580.768 1168.48 M580.768 1162.79 Q591.67 1162.79 598.198 1170.11 Q604.726 1177.4 604.726 1189.69 Q604.726 1201.95 598.198 1209.28 Q591.67 1216.57 580.768 1216.57 Q569.83 1216.57 563.268 1209.28 Q556.74 1201.99 556.74 1189.69 Q556.74 1177.4 563.268 1170.11 Q569.83 1162.79 580.768 1162.79 Z\" fill=\"#000000\" fill-rule=\"evenodd\" fill-opacity=\"1\" /><path clip-path=\"url(#clip750)\" d=\"M 0 0 M617.538 1209.66 L628.997 1209.66 L628.997 1170.11 L616.531 1172.61 L616.531 1166.22 L628.927 1163.72 L635.941 1163.72 L635.941 1209.66 L647.399 1209.66 L647.399 1215.56 L617.538 1215.56 L617.538 1209.66 Z\" fill=\"#000000\" fill-rule=\"evenodd\" fill-opacity=\"1\" /><path clip-path=\"url(#clip750)\" d=\"M 0 0 M1649.8 705.032 Q1642.16 705.032 1637.65 710.726 Q1633.17 716.421 1633.17 726.247 Q1633.17 736.039 1637.65 741.733 Q1642.16 747.428 1649.8 747.428 Q1657.44 747.428 1661.89 741.733 Q1666.36 736.039 1666.36 726.247 Q1666.36 716.421 1661.89 710.726 Q1657.44 705.032 1649.8 705.032 M1649.8 699.338 Q1660.7 699.338 1667.23 706.664 Q1673.76 713.956 1673.76 726.247 Q1673.76 738.504 1667.23 745.83 Q1660.7 753.122 1649.8 753.122 Q1638.86 753.122 1632.3 745.83 Q1625.77 738.539 1625.77 726.247 Q1625.77 713.956 1632.3 706.664 Q1638.86 699.338 1649.8 699.338 Z\" fill=\"#000000\" fill-rule=\"evenodd\" fill-opacity=\"1\" /><path clip-path=\"url(#clip750)\" d=\"M 0 0 M1691.4 746.212 L1715.88 746.212 L1715.88 752.115 L1682.96 752.115 L1682.96 746.212 Q1686.95 742.08 1693.83 735.136 Q1700.74 728.157 1702.51 726.143 Q1705.88 722.358 1707.2 719.754 Q1708.55 717.115 1708.55 714.58 Q1708.55 710.449 1705.63 707.844 Q1702.75 705.24 1698.1 705.24 Q1694.8 705.24 1691.12 706.386 Q1687.48 707.532 1683.31 709.858 L1683.31 702.775 Q1687.54 701.074 1691.23 700.206 Q1694.91 699.338 1697.96 699.338 Q1706.02 699.338 1710.81 703.365 Q1715.6 707.393 1715.6 714.129 Q1715.6 717.324 1714.38 720.205 Q1713.2 723.053 1710.04 726.942 Q1709.18 727.948 1704.52 732.775 Q1699.87 737.566 1691.4 746.212 Z\" fill=\"#000000\" fill-rule=\"evenodd\" fill-opacity=\"1\" /><path clip-path=\"url(#clip750)\" d=\"M 0 0 M2132.56 1062.97 L2120.84 1078.74 L2133.17 1095.38 L2126.89 1095.38 L2117.45 1082.65 L2108.02 1095.38 L2101.74 1095.38 L2114.33 1078.42 L2102.81 1062.97 L2109.09 1062.97 L2117.69 1074.52 L2126.28 1062.97 L2132.56 1062.97 Z\" fill=\"#000000\" fill-rule=\"evenodd\" fill-opacity=\"1\" /><path clip-path=\"url(#clip750)\" d=\"M 0 0 M2153.94 1056.03 Q2149.43 1056.03 2147.14 1060.49 Q2144.88 1064.91 2144.88 1073.82 Q2144.88 1082.71 2147.14 1087.16 Q2149.43 1091.59 2153.94 1091.59 Q2158.48 1091.59 2160.74 1087.16 Q2163.03 1082.71 2163.03 1073.82 Q2163.03 1064.91 2160.74 1060.49 Q2158.48 1056.03 2153.94 1056.03 M2153.94 1051.4 Q2161.2 1051.4 2165.02 1057.16 Q2168.87 1062.89 2168.87 1073.82 Q2168.87 1084.73 2165.02 1090.49 Q2161.2 1096.22 2153.94 1096.22 Q2146.68 1096.22 2142.83 1090.49 Q2139.01 1084.73 2139.01 1073.82 Q2139.01 1062.89 2142.83 1057.16 Q2146.68 1051.4 2153.94 1051.4 Z\" fill=\"#000000\" fill-rule=\"evenodd\" fill-opacity=\"1\" /></svg>\n"
      ]
     },
     "metadata": {},
     "execution_count": 13
    }
   ],
   "cell_type": "code",
   "source": [
    "using Plots\n",
    "using Colors\n",
    "\n",
    "##Auxiliary function for annotating\n",
    "function text_in_set_plot!(pl, po, t; kws...)\n",
    "    ##solve finding center (other solvers? https://jump.dev/JuMP.jl/dev/installation/#Supported-solvers)\n",
    "    solver = optimizer_with_attributes(GLPK.Optimizer, \"presolve\" => GLPK.ON)\n",
    "    plot!(pl, po; kws...)\n",
    "    if t !== nothing\n",
    "        c, r = hchebyshevcenter(hrep(po), solver, verbose=0)\n",
    "        annotate!(pl, [(c..., text(t, 12))])\n",
    "    end\n",
    "end\n",
    "\n",
    "##Initialize our canvas\n",
    "p = Plots.plot(fmt = :png, fillcolor = :white)\n",
    "\n",
    "##Show the discrete modes\n",
    "for mode in states(system)\n",
    "    t = (system.ext[:q_T] in [mode, mode + 11]) ? \"XT\" : (mode == system.ext[:q_A] ? \"A\" : (mode == system.ext[:q_B] ? \"B\" :\n",
    "            mode <= 11 ? string(mode) : string(mode - 11)))\n",
    "    text_in_set_plot!(p, stateset(system, mode), t, fillcolor = :white, linecolor = :black)\n",
    "end\n",
    "\n",
    "##Plot obstacles\n",
    "for i in eachindex(system.ext[:obstacles])\n",
    "    text_in_set_plot!(p, system.ext[:obstacles][i], \"O$i\", fillcolor = :black, fillalpha = 0.1)\n",
    "end\n",
    "\n",
    "\n",
    "##Initial state\n",
    "scatter!(p, [x0[1]], [x0[2]])\n",
    "annotate!(p, [(x0[1], x0[2] - 0.5, text(\"x0\", 10))])\n",
    "\n",
    "##Split the vector into x1 and x2\n",
    "x1 = [xu.x[j][1] for j in eachindex(xu.x)]\n",
    "x2 = [xu.x[j][2] for j in eachindex(xu.x)]\n",
    "\n",
    "##Plot the trajectory\n",
    "scatter!(p, x1, x2)"
   ],
   "metadata": {},
   "execution_count": 13
  },
  {
   "cell_type": "markdown",
   "source": [
    "### References\n",
    "\n",
    "1. Gol, E. A., Lazar, M., & Belta, C. (2013). Language-guided controller synthesis for linear systems. IEEE Transactions on Automatic Control, 59(5), 1163-1176.\n",
    "1. Bemporad, A., & Morari, M. (1999). Control of systems integrating logic, dynamics, and constraints. Automatica, 35(3), 407-427."
   ],
   "metadata": {}
  },
  {
   "cell_type": "markdown",
   "source": [
    "---\n",
    "\n",
    "*This notebook was generated using [Literate.jl](https://github.com/fredrikekre/Literate.jl).*"
   ],
   "metadata": {}
  }
 ],
 "nbformat_minor": 3,
 "metadata": {
  "language_info": {
   "file_extension": ".jl",
   "mimetype": "application/julia",
   "name": "julia",
   "version": "1.6.1"
  },
  "kernelspec": {
   "name": "julia-1.6",
   "display_name": "Julia 1.6.1",
   "language": "julia"
  }
 },
 "nbformat": 4
}
