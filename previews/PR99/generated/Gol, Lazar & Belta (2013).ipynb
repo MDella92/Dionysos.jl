{
 "cells": [
  {
   "cell_type": "markdown",
   "source": [
    "# Example: Gol, Lazar and Belta (2013)\n",
    "\n",
    "\n",
    "This example was borrowed from [1, Example VIII.A] and tackles\n",
    "an optimal control for the hybrid system with state evolution governed by\n",
    "$$\n",
    "x(k+1) = \\begin{bmatrix} 1 & 1 \\\\ 0 & 1 \\end{bmatrix}x(k) + \\begin{bmatrix} 0.5 \\\\ 1.0 \\end{bmatrix} u(k)\n",
    "$$"
   ],
   "metadata": {}
  },
  {
   "cell_type": "markdown",
   "source": [
    "The goal is to take the state vector toward a target set **XT** by visiting one of the squares\n",
    "**A** or **B** and avoiding the obstacles **O1** and **O2**"
   ],
   "metadata": {}
  },
  {
   "cell_type": "markdown",
   "source": [
    "First, let us import [CDDLib](https://github.com/JuliaPolyhedra/CDDLib.jl),\n",
    "[GLPK](https://github.com/jump-dev/GLPK.jl), [OSQP](https://github.com/oxfordcontrol/OSQP.jl),\n",
    "[JuMP](https://github.com/jump-dev/JuMP.jl), [Pavito](https://github.com/jump-dev/Pavito.jl)\n",
    "and [Ipopt](https://github.com/jump-dev/Ipopt.jl)"
   ],
   "metadata": {}
  },
  {
   "outputs": [],
   "cell_type": "code",
   "source": [
    "import CDDLib\n",
    "import GLPK\n",
    "import OSQP\n",
    "using JuMP\n",
    "import Pavito\n",
    "import Cbc\n",
    "import Ipopt"
   ],
   "metadata": {},
   "execution_count": 1
  },
  {
   "cell_type": "markdown",
   "source": [
    "At this point we import Dionysos"
   ],
   "metadata": {}
  },
  {
   "outputs": [],
   "cell_type": "code",
   "source": [
    "using Dionysos"
   ],
   "metadata": {},
   "execution_count": 2
  },
  {
   "cell_type": "markdown",
   "source": [
    "And the file defining the hybrid system for this problem"
   ],
   "metadata": {}
  },
  {
   "outputs": [
    {
     "output_type": "execute_result",
     "data": {
      "text/plain": "gol_lazar_belta (generic function with 1 method)"
     },
     "metadata": {},
     "execution_count": 3
    }
   ],
   "cell_type": "code",
   "source": [
    "include(joinpath(dirname(dirname(pathof(Dionysos))), \"examples\", \"gol_lazar_belta.jl\"))"
   ],
   "metadata": {},
   "execution_count": 3
  },
  {
   "cell_type": "markdown",
   "source": [
    "Now we instantiate our system using the function provided by [gol\\_lazar\\_belta.jl](https://github.com/dionysos-dev/Dionysos.jl/blob/master/examples/gol_lazar_belta.jl)"
   ],
   "metadata": {}
  },
  {
   "outputs": [],
   "cell_type": "code",
   "source": [
    "system = gol_lazar_belta(CDDLib.Library());"
   ],
   "metadata": {},
   "execution_count": 4
  },
  {
   "cell_type": "markdown",
   "source": [
    "Then, we define initial conditions (continuous and discrete states) to this system\n",
    "and set `N` as the search depth, i.e., the number of allowed time steps."
   ],
   "metadata": {}
  },
  {
   "outputs": [],
   "cell_type": "code",
   "source": [
    "x0 = [1.0, -6.0];\n",
    "q0 = 3;\n",
    "\n",
    "N = 11;"
   ],
   "metadata": {},
   "execution_count": 5
  },
  {
   "cell_type": "markdown",
   "source": [
    "We instantiate our Optimal Control Problem by defining the state and transition costs.\n",
    "Notice that Comment that `state_cost` is defined to be zero for each mode/discrete state\n",
    "of the system and the `transition_cost` is defined to be `u_1^2` which is defined by the\n",
    "quadratic form `u' * Q * u` with `Q = ones(1, 1)`."
   ],
   "metadata": {}
  },
  {
   "outputs": [],
   "cell_type": "code",
   "source": [
    "state_cost = Fill(ZeroFunction(), nmodes(system))\n",
    "transition_cost = QuadraticControlFunction(ones(1, 1))\n",
    "\n",
    "problem = OptimalControlProblem(\n",
    "    system,\n",
    "    q0, x0,\n",
    "    Fill(state_cost, N),\n",
    "    Fill(Fill(transition_cost, ntransitions(system)), N),\n",
    "    system.ext[:q_T],\n",
    "    N\n",
    ");"
   ],
   "metadata": {},
   "execution_count": 6
  },
  {
   "cell_type": "markdown",
   "source": [
    "Notice that we used `Fill` for all `N` time steps as we consider time-invariant costs.\n",
    "Finally, we select the method presented in [2] as our optimizer"
   ],
   "metadata": {}
  },
  {
   "outputs": [],
   "cell_type": "code",
   "source": [
    "qp_solver = optimizer_with_attributes(\n",
    "    OSQP.Optimizer,\n",
    "    \"eps_abs\" => 1e-8,\n",
    "    \"eps_rel\" => 1e-8,\n",
    "    \"max_iter\" => 100000,\n",
    "    MOI.Silent() => true\n",
    ");\n",
    "\n",
    "mip_solver = optimizer_with_attributes(\n",
    "    Cbc.Optimizer,\n",
    "    MOI.Silent() => true\n",
    ");\n",
    "\n",
    "cont_solver = optimizer_with_attributes(\n",
    "    Ipopt.Optimizer,\n",
    "    MOI.Silent() => true\n",
    ");\n",
    "\n",
    "miqp_solver = optimizer_with_attributes(\n",
    "    Pavito.Optimizer,\n",
    "    \"mip_solver\" => mip_solver,\n",
    "    \"cont_solver\" => cont_solver,\n",
    "    MOI.Silent() => true\n",
    ");\n",
    "\n",
    "\n",
    "algo = optimizer_with_attributes(BemporadMorari.Optimizer,\n",
    "    \"continuous_solver\" => qp_solver,\n",
    "    \"mixed_integer_solver\" => miqp_solver,\n",
    "    \"indicator\" => false,\n",
    "    \"log_level\" => 0\n",
    ");"
   ],
   "metadata": {},
   "execution_count": 7
  },
  {
   "cell_type": "markdown",
   "source": [
    "and use it to solve the given problem, with the help of the abstraction layer\n",
    "MathOptInterface provided by [JuMP](https://github.com/jump-dev/JuMP.jl)"
   ],
   "metadata": {}
  },
  {
   "outputs": [
    {
     "name": "stdout",
     "output_type": "stream",
     "text": [
      "\n",
      "******************************************************************************\n",
      "This program contains Ipopt, a library for large-scale nonlinear optimization.\n",
      " Ipopt is released as open source code under the Eclipse Public License (EPL).\n",
      "         For more information visit https://github.com/coin-or/Ipopt\n",
      "******************************************************************************\n",
      "\n",
      "┌ Warning: Infeasible NLP problem terminated with primal status: NEARLY_FEASIBLE_POINT. This cannot be as this NLP problem was feasible by design.\n",
      "└ @ Pavito /home/runner/.julia/packages/Pavito/H744k/src/algorithm.jl:428\n"
     ]
    }
   ],
   "cell_type": "code",
   "source": [
    "optimizer = MOI.instantiate(algo)\n",
    "MOI.set(optimizer, MOI.RawParameter(\"problem\"), problem)\n",
    "MOI.optimize!(optimizer)"
   ],
   "metadata": {},
   "execution_count": 8
  },
  {
   "cell_type": "markdown",
   "source": [
    "We check the solver time"
   ],
   "metadata": {}
  },
  {
   "outputs": [
    {
     "output_type": "execute_result",
     "data": {
      "text/plain": "14.07869005203247"
     },
     "metadata": {},
     "execution_count": 9
    }
   ],
   "cell_type": "code",
   "source": [
    "MOI.get(optimizer, MOI.SolveTime())"
   ],
   "metadata": {},
   "execution_count": 9
  },
  {
   "cell_type": "markdown",
   "source": [
    "the termination status"
   ],
   "metadata": {}
  },
  {
   "outputs": [
    {
     "output_type": "execute_result",
     "data": {
      "text/plain": "OPTIMAL::TerminationStatusCode = 1"
     },
     "metadata": {},
     "execution_count": 10
    }
   ],
   "cell_type": "code",
   "source": [
    "termination = MOI.get(optimizer, MOI.TerminationStatus())"
   ],
   "metadata": {},
   "execution_count": 10
  },
  {
   "cell_type": "markdown",
   "source": [
    "the objective value"
   ],
   "metadata": {}
  },
  {
   "outputs": [
    {
     "output_type": "execute_result",
     "data": {
      "text/plain": "11.385062952226304"
     },
     "metadata": {},
     "execution_count": 11
    }
   ],
   "cell_type": "code",
   "source": [
    "objective_value = MOI.get(optimizer, MOI.ObjectiveValue())"
   ],
   "metadata": {},
   "execution_count": 11
  },
  {
   "cell_type": "markdown",
   "source": [
    "and recover the corresponding continuous trajectory"
   ],
   "metadata": {}
  },
  {
   "outputs": [],
   "cell_type": "code",
   "source": [
    "xu = MOI.get(optimizer, ContinuousTrajectoryAttribute());"
   ],
   "metadata": {},
   "execution_count": 12
  },
  {
   "cell_type": "markdown",
   "source": [
    "A little bit of data visualization now:"
   ],
   "metadata": {}
  },
  {
   "outputs": [
    {
     "name": "stdout",
     "output_type": "stream",
     "text": [
      "glp_simplex: unable to recover undefined or non-optimal solution\n",
      "glp_simplex: unable to recover undefined or non-optimal solution\n",
      "glp_simplex: unable to recover undefined or non-optimal solution\n",
      "glp_simplex: unable to recover undefined or non-optimal solution\n",
      "glp_simplex: unable to recover undefined or non-optimal solution\n",
      "glp_simplex: unable to recover undefined or non-optimal solution\n",
      "glp_simplex: unable to recover undefined or non-optimal solution\n",
      "glp_simplex: unable to recover undefined or non-optimal solution\n",
      "glp_simplex: unable to recover undefined or non-optimal solution\n",
      "glp_simplex: unable to recover undefined or non-optimal solution\n",
      "glp_simplex: unable to recover undefined or non-optimal solution\n",
      "glp_simplex: unable to recover undefined or non-optimal solution\n",
      "glp_simplex: unable to recover undefined or non-optimal solution\n",
      "glp_simplex: unable to recover undefined or non-optimal solution\n",
      "glp_simplex: unable to recover undefined or non-optimal solution\n",
      "glp_simplex: unable to recover undefined or non-optimal solution\n",
      "glp_simplex: unable to recover undefined or non-optimal solution\n",
      "glp_simplex: unable to recover undefined or non-optimal solution\n",
      "glp_simplex: unable to recover undefined or non-optimal solution\n",
      "glp_simplex: unable to recover undefined or non-optimal solution\n",
      "glp_simplex: unable to recover undefined or non-optimal solution\n",
      "glp_simplex: unable to recover undefined or non-optimal solution\n",
      "glp_simplex: unable to recover undefined or non-optimal solution\n",
      "glp_simplex: unable to recover undefined or non-optimal solution\n",
      "glp_simplex: unable to recover undefined or non-optimal solution\n",
      "glp_simplex: unable to recover undefined or non-optimal solution\n",
      "glp_simplex: unable to recover undefined or non-optimal solution\n",
      "glp_simplex: unable to recover undefined or non-optimal solution\n",
      "glp_simplex: unable to recover undefined or non-optimal solution\n",
      "glp_simplex: unable to recover undefined or non-optimal solution\n",
      "glp_simplex: unable to recover undefined or non-optimal solution\n",
      "glp_simplex: unable to recover undefined or non-optimal solution\n",
      "glp_simplex: unable to recover undefined or non-optimal solution\n",
      "glp_simplex: unable to recover undefined or non-optimal solution\n",
      "glp_simplex: unable to recover undefined or non-optimal solution\n",
      "glp_simplex: unable to recover undefined or non-optimal solution\n",
      "glp_simplex: unable to recover undefined or non-optimal solution\n"
     ]
    },
    {
     "output_type": "execute_result",
     "data": {
      "text/plain": "Plot{Plots.GRBackend() n=24}",
      "image/png": "[encoded data removed]",
      "text/html": [
       "<img src=\"data:image/png;base64,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\" />"
      ],
      "image/svg+xml": [
       "<?xml version=\"1.0\" encoding=\"utf-8\"?>\n",
       "<svg xmlns=\"http://www.w3.org/2000/svg\" xmlns:xlink=\"http://www.w3.org/1999/xlink\" width=\"600\" height=\"400\" viewBox=\"0 0 2400 1600\">\n",
       "<defs>\n",
       "  <clipPath id=\"clip470\">\n",
       "    <rect x=\"0\" y=\"0\" width=\"2400\" height=\"1600\"/>\n",
       "  </clipPath>\n",
       "</defs>\n",
       "<path clip-path=\"url(#clip470)\" d=\"\n",
       "M0 1600 L2400 1600 L2400 0 L0 0  Z\n",
       "  \" fill=\"#ffffff\" fill-rule=\"evenodd\" fill-opacity=\"1\"/>\n",
       "<defs>\n",
       "  <clipPath id=\"clip471\">\n",
       "    <rect x=\"480\" y=\"0\" width=\"1681\" height=\"1600\"/>\n",
       "  </clipPath>\n",
       "</defs>\n",
       "<path clip-path=\"url(#clip470)\" d=\"\n",
       "M86.9921 1521.01 L2352.76 1521.01 L2352.76 47.2441 L86.9921 47.2441  Z\n",
       "  \" fill=\"#ffffff\" fill-rule=\"evenodd\" fill-opacity=\"1\"/>\n",
       "<defs>\n",
       "  <clipPath id=\"clip472\">\n",
       "    <rect x=\"86\" y=\"47\" width=\"2267\" height=\"1475\"/>\n",
       "  </clipPath>\n",
       "</defs>\n",
       "<polyline clip-path=\"url(#clip472)\" style=\"stroke:#000000; stroke-width:2; stroke-opacity:0.1; fill:none\" points=\"\n",
       "  151.118,1521.01 151.118,47.2441 \n",
       "  \"/>\n",
       "<polyline clip-path=\"url(#clip472)\" style=\"stroke:#000000; stroke-width:2; stroke-opacity:0.1; fill:none\" points=\"\n",
       "  602.07,1521.01 602.07,47.2441 \n",
       "  \"/>\n",
       "<polyline clip-path=\"url(#clip472)\" style=\"stroke:#000000; stroke-width:2; stroke-opacity:0.1; fill:none\" points=\"\n",
       "  1053.02,1521.01 1053.02,47.2441 \n",
       "  \"/>\n",
       "<polyline clip-path=\"url(#clip472)\" style=\"stroke:#000000; stroke-width:2; stroke-opacity:0.1; fill:none\" points=\"\n",
       "  1503.97,1521.01 1503.97,47.2441 \n",
       "  \"/>\n",
       "<polyline clip-path=\"url(#clip472)\" style=\"stroke:#000000; stroke-width:2; stroke-opacity:0.1; fill:none\" points=\"\n",
       "  1954.93,1521.01 1954.93,47.2441 \n",
       "  \"/>\n",
       "<polyline clip-path=\"url(#clip470)\" style=\"stroke:#000000; stroke-width:4; stroke-opacity:1; fill:none\" points=\"\n",
       "  86.9921,1521.01 2352.76,1521.01 \n",
       "  \"/>\n",
       "<polyline clip-path=\"url(#clip470)\" style=\"stroke:#000000; stroke-width:4; stroke-opacity:1; fill:none\" points=\"\n",
       "  151.118,1521.01 151.118,1503.32 \n",
       "  \"/>\n",
       "<polyline clip-path=\"url(#clip470)\" style=\"stroke:#000000; stroke-width:4; stroke-opacity:1; fill:none\" points=\"\n",
       "  602.07,1521.01 602.07,1503.32 \n",
       "  \"/>\n",
       "<polyline clip-path=\"url(#clip470)\" style=\"stroke:#000000; stroke-width:4; stroke-opacity:1; fill:none\" points=\"\n",
       "  1053.02,1521.01 1053.02,1503.32 \n",
       "  \"/>\n",
       "<polyline clip-path=\"url(#clip470)\" style=\"stroke:#000000; stroke-width:4; stroke-opacity:1; fill:none\" points=\"\n",
       "  1503.97,1521.01 1503.97,1503.32 \n",
       "  \"/>\n",
       "<polyline clip-path=\"url(#clip470)\" style=\"stroke:#000000; stroke-width:4; stroke-opacity:1; fill:none\" points=\"\n",
       "  1954.93,1521.01 1954.93,1503.32 \n",
       "  \"/>\n",
       "<path clip-path=\"url(#clip470)\" d=\"M 0 0 M91.3956 1564.85 L121.071 1564.85 L121.071 1568.79 L91.3956 1568.79 L91.3956 1564.85 Z\" fill=\"#000000\" fill-rule=\"evenodd\" fill-opacity=\"1\" /><path clip-path=\"url(#clip470)\" d=\"M 0 0 M126.951 1577.74 L134.59 1577.74 L134.59 1551.38 L126.28 1553.05 L126.28 1548.79 L134.544 1547.12 L139.219 1547.12 L139.219 1577.74 L146.858 1577.74 L146.858 1581.68 L126.951 1581.68 L126.951 1577.74 Z\" fill=\"#000000\" fill-rule=\"evenodd\" fill-opacity=\"1\" /><path clip-path=\"url(#clip470)\" d=\"M 0 0 M161.928 1550.2 Q158.317 1550.2 156.488 1553.76 Q154.682 1557.31 154.682 1564.43 Q154.682 1571.54 156.488 1575.11 Q158.317 1578.65 161.928 1578.65 Q165.562 1578.65 167.367 1575.11 Q169.196 1571.54 169.196 1564.43 Q169.196 1557.31 167.367 1553.76 Q165.562 1550.2 161.928 1550.2 M161.928 1546.49 Q167.738 1546.49 170.793 1551.1 Q173.872 1555.68 173.872 1564.43 Q173.872 1573.16 170.793 1577.77 Q167.738 1582.35 161.928 1582.35 Q156.117 1582.35 153.039 1577.77 Q149.983 1573.16 149.983 1564.43 Q149.983 1555.68 153.039 1551.1 Q156.117 1546.49 161.928 1546.49 Z\" fill=\"#000000\" fill-rule=\"evenodd\" fill-opacity=\"1\" /><path clip-path=\"url(#clip470)\" d=\"M 0 0 M178.941 1575.8 L183.826 1575.8 L183.826 1581.68 L178.941 1581.68 L178.941 1575.8 Z\" fill=\"#000000\" fill-rule=\"evenodd\" fill-opacity=\"1\" /><path clip-path=\"url(#clip470)\" d=\"M 0 0 M198.895 1550.2 Q195.284 1550.2 193.455 1553.76 Q191.65 1557.31 191.65 1564.43 Q191.65 1571.54 193.455 1575.11 Q195.284 1578.65 198.895 1578.65 Q202.529 1578.65 204.335 1575.11 Q206.164 1571.54 206.164 1564.43 Q206.164 1557.31 204.335 1553.76 Q202.529 1550.2 198.895 1550.2 M198.895 1546.49 Q204.705 1546.49 207.761 1551.1 Q210.839 1555.68 210.839 1564.43 Q210.839 1573.16 207.761 1577.77 Q204.705 1582.35 198.895 1582.35 Q193.085 1582.35 190.006 1577.77 Q186.951 1573.16 186.951 1564.43 Q186.951 1555.68 190.006 1551.1 Q193.085 1546.49 198.895 1546.49 Z\" fill=\"#000000\" fill-rule=\"evenodd\" fill-opacity=\"1\" /><path clip-path=\"url(#clip470)\" d=\"M 0 0 M556.19 1564.85 L585.866 1564.85 L585.866 1568.79 L556.19 1568.79 L556.19 1564.85 Z\" fill=\"#000000\" fill-rule=\"evenodd\" fill-opacity=\"1\" /><path clip-path=\"url(#clip470)\" d=\"M 0 0 M589.755 1547.12 L611.977 1547.12 L611.977 1549.11 L599.431 1581.68 L594.547 1581.68 L606.352 1551.06 L589.755 1551.06 L589.755 1547.12 Z\" fill=\"#000000\" fill-rule=\"evenodd\" fill-opacity=\"1\" /><path clip-path=\"url(#clip470)\" d=\"M 0 0 M617.046 1575.8 L621.931 1575.8 L621.931 1581.68 L617.046 1581.68 L617.046 1575.8 Z\" fill=\"#000000\" fill-rule=\"evenodd\" fill-opacity=\"1\" /><path clip-path=\"url(#clip470)\" d=\"M 0 0 M627.046 1547.12 L645.403 1547.12 L645.403 1551.06 L631.329 1551.06 L631.329 1559.53 Q632.347 1559.18 633.366 1559.02 Q634.384 1558.83 635.403 1558.83 Q641.19 1558.83 644.569 1562 Q647.949 1565.18 647.949 1570.59 Q647.949 1576.17 644.477 1579.27 Q641.005 1582.35 634.685 1582.35 Q632.509 1582.35 630.241 1581.98 Q627.995 1581.61 625.588 1580.87 L625.588 1576.17 Q627.671 1577.3 629.894 1577.86 Q632.116 1578.42 634.593 1578.42 Q638.597 1578.42 640.935 1576.31 Q643.273 1574.2 643.273 1570.59 Q643.273 1566.98 640.935 1564.87 Q638.597 1562.77 634.593 1562.77 Q632.718 1562.77 630.843 1563.18 Q628.991 1563.6 627.046 1564.48 L627.046 1547.12 Z\" fill=\"#000000\" fill-rule=\"evenodd\" fill-opacity=\"1\" /><path clip-path=\"url(#clip470)\" d=\"M 0 0 M1006.69 1564.85 L1036.37 1564.85 L1036.37 1568.79 L1006.69 1568.79 L1006.69 1564.85 Z\" fill=\"#000000\" fill-rule=\"evenodd\" fill-opacity=\"1\" /><path clip-path=\"url(#clip470)\" d=\"M 0 0 M1041.48 1547.12 L1059.84 1547.12 L1059.84 1551.06 L1045.76 1551.06 L1045.76 1559.53 Q1046.78 1559.18 1047.8 1559.02 Q1048.82 1558.83 1049.84 1558.83 Q1055.63 1558.83 1059.01 1562 Q1062.39 1565.18 1062.39 1570.59 Q1062.39 1576.17 1058.91 1579.27 Q1055.44 1582.35 1049.12 1582.35 Q1046.95 1582.35 1044.68 1581.98 Q1042.43 1581.61 1040.02 1580.87 L1040.02 1576.17 Q1042.11 1577.3 1044.33 1577.86 Q1046.55 1578.42 1049.03 1578.42 Q1053.03 1578.42 1055.37 1576.31 Q1057.71 1574.2 1057.71 1570.59 Q1057.71 1566.98 1055.37 1564.87 Q1053.03 1562.77 1049.03 1562.77 Q1047.15 1562.77 1045.28 1563.18 Q1043.43 1563.6 1041.48 1564.48 L1041.48 1547.12 Z\" fill=\"#000000\" fill-rule=\"evenodd\" fill-opacity=\"1\" /><path clip-path=\"url(#clip470)\" d=\"M 0 0 M1067.45 1575.8 L1072.34 1575.8 L1072.34 1581.68 L1067.45 1581.68 L1067.45 1575.8 Z\" fill=\"#000000\" fill-rule=\"evenodd\" fill-opacity=\"1\" /><path clip-path=\"url(#clip470)\" d=\"M 0 0 M1087.41 1550.2 Q1083.8 1550.2 1081.97 1553.76 Q1080.16 1557.31 1080.16 1564.43 Q1080.16 1571.54 1081.97 1575.11 Q1083.8 1578.65 1087.41 1578.65 Q1091.04 1578.65 1092.85 1575.11 Q1094.68 1571.54 1094.68 1564.43 Q1094.68 1557.31 1092.85 1553.76 Q1091.04 1550.2 1087.41 1550.2 M1087.41 1546.49 Q1093.22 1546.49 1096.27 1551.1 Q1099.35 1555.68 1099.35 1564.43 Q1099.35 1573.16 1096.27 1577.77 Q1093.22 1582.35 1087.41 1582.35 Q1081.6 1582.35 1078.52 1577.77 Q1075.46 1573.16 1075.46 1564.43 Q1075.46 1555.68 1078.52 1551.1 Q1081.6 1546.49 1087.41 1546.49 Z\" fill=\"#000000\" fill-rule=\"evenodd\" fill-opacity=\"1\" /><path clip-path=\"url(#clip470)\" d=\"M 0 0 M1458.44 1564.85 L1488.12 1564.85 L1488.12 1568.79 L1458.44 1568.79 L1458.44 1564.85 Z\" fill=\"#000000\" fill-rule=\"evenodd\" fill-opacity=\"1\" /><path clip-path=\"url(#clip470)\" d=\"M 0 0 M1497.21 1577.74 L1513.53 1577.74 L1513.53 1581.68 L1491.59 1581.68 L1491.59 1577.74 Q1494.25 1574.99 1498.83 1570.36 Q1503.44 1565.71 1504.62 1564.37 Q1506.87 1561.84 1507.75 1560.11 Q1508.65 1558.35 1508.65 1556.66 Q1508.65 1553.9 1506.71 1552.17 Q1504.78 1550.43 1501.68 1550.43 Q1499.48 1550.43 1497.03 1551.19 Q1494.6 1551.96 1491.82 1553.51 L1491.82 1548.79 Q1494.65 1547.65 1497.1 1547.07 Q1499.55 1546.49 1501.59 1546.49 Q1506.96 1546.49 1510.15 1549.18 Q1513.35 1551.87 1513.35 1556.36 Q1513.35 1558.49 1512.54 1560.41 Q1511.75 1562.3 1509.65 1564.9 Q1509.07 1565.57 1505.96 1568.79 Q1502.86 1571.98 1497.21 1577.74 Z\" fill=\"#000000\" fill-rule=\"evenodd\" fill-opacity=\"1\" /><path clip-path=\"url(#clip470)\" d=\"M 0 0 M1518.6 1575.8 L1523.49 1575.8 L1523.49 1581.68 L1518.6 1581.68 L1518.6 1575.8 Z\" fill=\"#000000\" fill-rule=\"evenodd\" fill-opacity=\"1\" /><path clip-path=\"url(#clip470)\" d=\"M 0 0 M1528.6 1547.12 L1546.96 1547.12 L1546.96 1551.06 L1532.89 1551.06 L1532.89 1559.53 Q1533.9 1559.18 1534.92 1559.02 Q1535.94 1558.83 1536.96 1558.83 Q1542.75 1558.83 1546.13 1562 Q1549.51 1565.18 1549.51 1570.59 Q1549.51 1576.17 1546.03 1579.27 Q1542.56 1582.35 1536.24 1582.35 Q1534.07 1582.35 1531.8 1581.98 Q1529.55 1581.61 1527.15 1580.87 L1527.15 1576.17 Q1529.23 1577.3 1531.45 1577.86 Q1533.67 1578.42 1536.15 1578.42 Q1540.15 1578.42 1542.49 1576.31 Q1544.83 1574.2 1544.83 1570.59 Q1544.83 1566.98 1542.49 1564.87 Q1540.15 1562.77 1536.15 1562.77 Q1534.27 1562.77 1532.4 1563.18 Q1530.55 1563.6 1528.6 1564.48 L1528.6 1547.12 Z\" fill=\"#000000\" fill-rule=\"evenodd\" fill-opacity=\"1\" /><path clip-path=\"url(#clip470)\" d=\"M 0 0 M1936.44 1550.2 Q1932.83 1550.2 1931 1553.76 Q1929.2 1557.31 1929.2 1564.43 Q1929.2 1571.54 1931 1575.11 Q1932.83 1578.65 1936.44 1578.65 Q1940.08 1578.65 1941.88 1575.11 Q1943.71 1571.54 1943.71 1564.43 Q1943.71 1557.31 1941.88 1553.76 Q1940.08 1550.2 1936.44 1550.2 M1936.44 1546.49 Q1942.25 1546.49 1945.31 1551.1 Q1948.39 1555.68 1948.39 1564.43 Q1948.39 1573.16 1945.31 1577.77 Q1942.25 1582.35 1936.44 1582.35 Q1930.63 1582.35 1927.55 1577.77 Q1924.5 1573.16 1924.5 1564.43 Q1924.5 1555.68 1927.55 1551.1 Q1930.63 1546.49 1936.44 1546.49 Z\" fill=\"#000000\" fill-rule=\"evenodd\" fill-opacity=\"1\" /><path clip-path=\"url(#clip470)\" d=\"M 0 0 M1953.46 1575.8 L1958.34 1575.8 L1958.34 1581.68 L1953.46 1581.68 L1953.46 1575.8 Z\" fill=\"#000000\" fill-rule=\"evenodd\" fill-opacity=\"1\" /><path clip-path=\"url(#clip470)\" d=\"M 0 0 M1973.41 1550.2 Q1969.8 1550.2 1967.97 1553.76 Q1966.16 1557.31 1966.16 1564.43 Q1966.16 1571.54 1967.97 1575.11 Q1969.8 1578.65 1973.41 1578.65 Q1977.04 1578.65 1978.85 1575.11 Q1980.68 1571.54 1980.68 1564.43 Q1980.68 1557.31 1978.85 1553.76 Q1977.04 1550.2 1973.41 1550.2 M1973.41 1546.49 Q1979.22 1546.49 1982.28 1551.1 Q1985.35 1555.68 1985.35 1564.43 Q1985.35 1573.16 1982.28 1577.77 Q1979.22 1582.35 1973.41 1582.35 Q1967.6 1582.35 1964.52 1577.77 Q1961.47 1573.16 1961.47 1564.43 Q1961.47 1555.68 1964.52 1551.1 Q1967.6 1546.49 1973.41 1546.49 Z\" fill=\"#000000\" fill-rule=\"evenodd\" fill-opacity=\"1\" /><polyline clip-path=\"url(#clip472)\" style=\"stroke:#000000; stroke-width:2; stroke-opacity:0.1; fill:none\" points=\"\n",
       "  86.9921,1479.3 2352.76,1479.3 \n",
       "  \"/>\n",
       "<polyline clip-path=\"url(#clip472)\" style=\"stroke:#000000; stroke-width:2; stroke-opacity:0.1; fill:none\" points=\"\n",
       "  86.9921,1189.64 2352.76,1189.64 \n",
       "  \"/>\n",
       "<polyline clip-path=\"url(#clip472)\" style=\"stroke:#000000; stroke-width:2; stroke-opacity:0.1; fill:none\" points=\"\n",
       "  86.9921,899.988 2352.76,899.988 \n",
       "  \"/>\n",
       "<polyline clip-path=\"url(#clip472)\" style=\"stroke:#000000; stroke-width:2; stroke-opacity:0.1; fill:none\" points=\"\n",
       "  86.9921,610.333 2352.76,610.333 \n",
       "  \"/>\n",
       "<polyline clip-path=\"url(#clip472)\" style=\"stroke:#000000; stroke-width:2; stroke-opacity:0.1; fill:none\" points=\"\n",
       "  86.9921,320.678 2352.76,320.678 \n",
       "  \"/>\n",
       "<polyline clip-path=\"url(#clip470)\" style=\"stroke:#000000; stroke-width:4; stroke-opacity:1; fill:none\" points=\"\n",
       "  86.9921,1521.01 86.9921,47.2441 \n",
       "  \"/>\n",
       "<polyline clip-path=\"url(#clip470)\" style=\"stroke:#000000; stroke-width:4; stroke-opacity:1; fill:none\" points=\"\n",
       "  86.9921,1479.3 114.181,1479.3 \n",
       "  \"/>\n",
       "<polyline clip-path=\"url(#clip470)\" style=\"stroke:#000000; stroke-width:4; stroke-opacity:1; fill:none\" points=\"\n",
       "  86.9921,1189.64 114.181,1189.64 \n",
       "  \"/>\n",
       "<polyline clip-path=\"url(#clip470)\" style=\"stroke:#000000; stroke-width:4; stroke-opacity:1; fill:none\" points=\"\n",
       "  86.9921,899.988 114.181,899.988 \n",
       "  \"/>\n",
       "<polyline clip-path=\"url(#clip470)\" style=\"stroke:#000000; stroke-width:4; stroke-opacity:1; fill:none\" points=\"\n",
       "  86.9921,610.333 114.181,610.333 \n",
       "  \"/>\n",
       "<polyline clip-path=\"url(#clip470)\" style=\"stroke:#000000; stroke-width:4; stroke-opacity:1; fill:none\" points=\"\n",
       "  86.9921,320.678 114.181,320.678 \n",
       "  \"/>\n",
       "<path clip-path=\"url(#clip470)\" d=\"M 0 0 M-68.4517 1479.75 L-38.7759 1479.75 L-38.7759 1483.68 L-68.4517 1483.68 L-68.4517 1479.75 Z\" fill=\"#000000\" fill-rule=\"evenodd\" fill-opacity=\"1\" /><path clip-path=\"url(#clip470)\" d=\"M 0 0 M-32.8963 1492.64 L-25.2575 1492.64 L-25.2575 1466.28 L-33.5676 1467.94 L-33.5676 1463.68 L-25.3038 1462.02 L-20.6279 1462.02 L-20.6279 1492.64 L-12.989 1492.64 L-12.989 1496.58 L-32.8963 1496.58 L-32.8963 1492.64 Z\" fill=\"#000000\" fill-rule=\"evenodd\" fill-opacity=\"1\" /><path clip-path=\"url(#clip470)\" d=\"M 0 0 M2.08035 1465.1 Q-1.53074 1465.1 -3.35943 1468.66 Q-5.16498 1472.2 -5.16498 1479.33 Q-5.16498 1486.44 -3.35943 1490 Q-1.53074 1493.55 2.08035 1493.55 Q5.71459 1493.55 7.52014 1490 Q9.34883 1486.44 9.34883 1479.33 Q9.34883 1472.2 7.52014 1468.66 Q5.71459 1465.1 2.08035 1465.1 M2.08035 1461.39 Q7.89051 1461.39 10.946 1466 Q14.0247 1470.58 14.0247 1479.33 Q14.0247 1488.06 10.946 1492.67 Q7.89051 1497.25 2.08035 1497.25 Q-3.7298 1497.25 -6.80849 1492.67 Q-9.86403 1488.06 -9.86403 1479.33 Q-9.86403 1470.58 -6.80849 1466 Q-3.7298 1461.39 2.08035 1461.39 Z\" fill=\"#000000\" fill-rule=\"evenodd\" fill-opacity=\"1\" /><path clip-path=\"url(#clip470)\" d=\"M 0 0 M19.0941 1490.7 L23.9784 1490.7 L23.9784 1496.58 L19.0941 1496.58 L19.0941 1490.7 Z\" fill=\"#000000\" fill-rule=\"evenodd\" fill-opacity=\"1\" /><path clip-path=\"url(#clip470)\" d=\"M 0 0 M39.0477 1465.1 Q35.4367 1465.1 33.608 1468.66 Q31.8024 1472.2 31.8024 1479.33 Q31.8024 1486.44 33.608 1490 Q35.4367 1493.55 39.0477 1493.55 Q42.682 1493.55 44.4875 1490 Q46.3162 1486.44 46.3162 1479.33 Q46.3162 1472.2 44.4875 1468.66 Q42.682 1465.1 39.0477 1465.1 M39.0477 1461.39 Q44.8579 1461.39 47.9134 1466 Q50.9921 1470.58 50.9921 1479.33 Q50.9921 1488.06 47.9134 1492.67 Q44.8579 1497.25 39.0477 1497.25 Q33.2376 1497.25 30.1589 1492.67 Q27.1034 1488.06 27.1034 1479.33 Q27.1034 1470.58 30.1589 1466 Q33.2376 1461.39 39.0477 1461.39 Z\" fill=\"#000000\" fill-rule=\"evenodd\" fill-opacity=\"1\" /><path clip-path=\"url(#clip470)\" d=\"M 0 0 M-40.7666 1190.09 L-11.0909 1190.09 L-11.0909 1194.03 L-40.7666 1194.03 L-40.7666 1190.09 Z\" fill=\"#000000\" fill-rule=\"evenodd\" fill-opacity=\"1\" /><path clip-path=\"url(#clip470)\" d=\"M 0 0 M-7.20201 1172.36 L15.0201 1172.36 L15.0201 1174.35 L2.47387 1206.92 L-2.41037 1206.92 L9.39513 1176.3 L-7.20201 1176.3 L-7.20201 1172.36 Z\" fill=\"#000000\" fill-rule=\"evenodd\" fill-opacity=\"1\" /><path clip-path=\"url(#clip470)\" d=\"M 0 0 M20.0895 1201.04 L24.9737 1201.04 L24.9737 1206.92 L20.0895 1206.92 L20.0895 1201.04 Z\" fill=\"#000000\" fill-rule=\"evenodd\" fill-opacity=\"1\" /><path clip-path=\"url(#clip470)\" d=\"M 0 0 M30.0895 1172.36 L48.4458 1172.36 L48.4458 1176.3 L34.3718 1176.3 L34.3718 1184.77 Q35.3904 1184.42 36.4089 1184.26 Q37.4274 1184.08 38.4459 1184.08 Q44.2329 1184.08 47.6125 1187.25 Q50.9921 1190.42 50.9921 1195.83 Q50.9921 1201.41 47.5199 1204.52 Q44.0477 1207.59 37.7283 1207.59 Q35.5524 1207.59 33.2839 1207.22 Q31.0385 1206.85 28.6311 1206.11 L28.6311 1201.41 Q30.7145 1202.55 32.9367 1203.1 Q35.1589 1203.66 37.6357 1203.66 Q41.6403 1203.66 43.9783 1201.55 Q46.3162 1199.45 46.3162 1195.83 Q46.3162 1192.22 43.9783 1190.12 Q41.6403 1188.01 37.6357 1188.01 Q35.7607 1188.01 33.8857 1188.43 Q32.0339 1188.84 30.0895 1189.72 L30.0895 1172.36 Z\" fill=\"#000000\" fill-rule=\"evenodd\" fill-opacity=\"1\" /><path clip-path=\"url(#clip470)\" d=\"M 0 0 M-41.6694 900.439 L-11.9936 900.439 L-11.9936 904.374 L-41.6694 904.374 L-41.6694 900.439 Z\" fill=\"#000000\" fill-rule=\"evenodd\" fill-opacity=\"1\" /><path clip-path=\"url(#clip470)\" d=\"M 0 0 M-6.87793 882.708 L11.4784 882.708 L11.4784 886.643 L-2.59555 886.643 L-2.59555 895.115 Q-1.57704 894.768 -0.558524 894.606 Q0.459989 894.421 1.4785 894.421 Q7.26551 894.421 10.6451 897.592 Q14.0247 900.763 14.0247 906.18 Q14.0247 911.759 10.5525 914.861 Q7.08032 917.939 0.760914 917.939 Q-1.415 917.939 -3.68351 917.569 Q-5.92887 917.198 -8.33626 916.458 L-8.33626 911.759 Q-6.25294 912.893 -4.03073 913.448 Q-1.80852 914.004 0.668322 914.004 Q4.67293 914.004 7.01088 911.898 Q9.34883 909.791 9.34883 906.18 Q9.34883 902.569 7.01088 900.462 Q4.67293 898.356 0.668322 898.356 Q-1.20667 898.356 -3.08166 898.773 Q-4.9335 899.189 -6.87793 900.069 L-6.87793 882.708 Z\" fill=\"#000000\" fill-rule=\"evenodd\" fill-opacity=\"1\" /><path clip-path=\"url(#clip470)\" d=\"M 0 0 M19.0941 911.388 L23.9784 911.388 L23.9784 917.268 L19.0941 917.268 L19.0941 911.388 Z\" fill=\"#000000\" fill-rule=\"evenodd\" fill-opacity=\"1\" /><path clip-path=\"url(#clip470)\" d=\"M 0 0 M39.0477 885.787 Q35.4367 885.787 33.608 889.351 Q31.8024 892.893 31.8024 900.023 Q31.8024 907.129 33.608 910.694 Q35.4367 914.236 39.0477 914.236 Q42.682 914.236 44.4875 910.694 Q46.3162 907.129 46.3162 900.023 Q46.3162 892.893 44.4875 889.351 Q42.682 885.787 39.0477 885.787 M39.0477 882.083 Q44.8579 882.083 47.9134 886.689 Q50.9921 891.273 50.9921 900.023 Q50.9921 908.749 47.9134 913.356 Q44.8579 917.939 39.0477 917.939 Q33.2376 917.939 30.1589 913.356 Q27.1034 908.749 27.1034 900.023 Q27.1034 891.273 30.1589 886.689 Q33.2376 882.083 39.0477 882.083 Z\" fill=\"#000000\" fill-rule=\"evenodd\" fill-opacity=\"1\" /><path clip-path=\"url(#clip470)\" d=\"M 0 0 M-40.0722 610.784 L-10.3964 610.784 L-10.3964 614.72 L-40.0722 614.72 L-40.0722 610.784 Z\" fill=\"#000000\" fill-rule=\"evenodd\" fill-opacity=\"1\" /><path clip-path=\"url(#clip470)\" d=\"M 0 0 M-1.29926 623.678 L15.0201 623.678 L15.0201 627.613 L-6.92423 627.613 L-6.92423 623.678 Q-4.26221 620.923 0.321101 616.294 Q4.92756 611.641 6.10811 610.298 Q8.35347 607.775 9.23309 606.039 Q10.1359 604.28 10.1359 602.59 Q10.1359 599.835 8.19143 598.099 Q6.27014 596.363 3.16831 596.363 Q0.969246 596.363 -1.48444 597.127 Q-3.91499 597.891 -6.69275 599.442 L-6.69275 594.72 Q-3.86869 593.585 -1.415 593.007 Q1.03869 592.428 3.07572 592.428 Q8.44606 592.428 11.6405 595.113 Q14.8349 597.798 14.8349 602.289 Q14.8349 604.419 14.0247 606.34 Q13.2377 608.238 11.1312 610.831 Q10.5525 611.502 7.45069 614.72 Q4.34886 617.914 -1.29926 623.678 Z\" fill=\"#000000\" fill-rule=\"evenodd\" fill-opacity=\"1\" /><path clip-path=\"url(#clip470)\" d=\"M 0 0 M20.0895 621.733 L24.9737 621.733 L24.9737 627.613 L20.0895 627.613 L20.0895 621.733 Z\" fill=\"#000000\" fill-rule=\"evenodd\" fill-opacity=\"1\" /><path clip-path=\"url(#clip470)\" d=\"M 0 0 M30.0895 593.053 L48.4458 593.053 L48.4458 596.988 L34.3718 596.988 L34.3718 605.46 Q35.3904 605.113 36.4089 604.951 Q37.4274 604.766 38.4459 604.766 Q44.2329 604.766 47.6125 607.937 Q50.9921 611.109 50.9921 616.525 Q50.9921 622.104 47.5199 625.206 Q44.0477 628.284 37.7283 628.284 Q35.5524 628.284 33.2839 627.914 Q31.0385 627.544 28.6311 626.803 L28.6311 622.104 Q30.7145 623.238 32.9367 623.794 Q35.1589 624.349 37.6357 624.349 Q41.6403 624.349 43.9783 622.243 Q46.3162 620.136 46.3162 616.525 Q46.3162 612.914 43.9783 610.808 Q41.6403 608.701 37.6357 608.701 Q35.7607 608.701 33.8857 609.118 Q32.0339 609.534 30.0895 610.414 L30.0895 593.053 Z\" fill=\"#000000\" fill-rule=\"evenodd\" fill-opacity=\"1\" /><path clip-path=\"url(#clip470)\" d=\"M 0 0 M2.08035 306.477 Q-1.53074 306.477 -3.35943 310.042 Q-5.16498 313.583 -5.16498 320.713 Q-5.16498 327.819 -3.35943 331.384 Q-1.53074 334.926 2.08035 334.926 Q5.71459 334.926 7.52014 331.384 Q9.34883 327.819 9.34883 320.713 Q9.34883 313.583 7.52014 310.042 Q5.71459 306.477 2.08035 306.477 M2.08035 302.773 Q7.89051 302.773 10.946 307.38 Q14.0247 311.963 14.0247 320.713 Q14.0247 329.44 10.946 334.046 Q7.89051 338.63 2.08035 338.63 Q-3.7298 338.63 -6.80849 334.046 Q-9.86403 329.44 -9.86403 320.713 Q-9.86403 311.963 -6.80849 307.38 Q-3.7298 302.773 2.08035 302.773 Z\" fill=\"#000000\" fill-rule=\"evenodd\" fill-opacity=\"1\" /><path clip-path=\"url(#clip470)\" d=\"M 0 0 M19.0941 332.079 L23.9784 332.079 L23.9784 337.958 L19.0941 337.958 L19.0941 332.079 Z\" fill=\"#000000\" fill-rule=\"evenodd\" fill-opacity=\"1\" /><path clip-path=\"url(#clip470)\" d=\"M 0 0 M39.0477 306.477 Q35.4367 306.477 33.608 310.042 Q31.8024 313.583 31.8024 320.713 Q31.8024 327.819 33.608 331.384 Q35.4367 334.926 39.0477 334.926 Q42.682 334.926 44.4875 331.384 Q46.3162 327.819 46.3162 320.713 Q46.3162 313.583 44.4875 310.042 Q42.682 306.477 39.0477 306.477 M39.0477 302.773 Q44.8579 302.773 47.9134 307.38 Q50.9921 311.963 50.9921 320.713 Q50.9921 329.44 47.9134 334.046 Q44.8579 338.63 39.0477 338.63 Q33.2376 338.63 30.1589 334.046 Q27.1034 329.44 27.1034 320.713 Q27.1034 311.963 30.1589 307.38 Q33.2376 302.773 39.0477 302.773 Z\" fill=\"#000000\" fill-rule=\"evenodd\" fill-opacity=\"1\" /><path clip-path=\"url(#clip472)\" d=\"\n",
       "M872.641 204.816 L1053.02 204.816 L1053.02 899.988 L872.641 899.988 L872.641 204.816 L872.641 204.816  Z\n",
       "  \" fill=\"#ffffff\" fill-rule=\"evenodd\" fill-opacity=\"1\"/>\n",
       "<polyline clip-path=\"url(#clip472)\" style=\"stroke:#000000; stroke-width:4; stroke-opacity:1; fill:none\" points=\"\n",
       "  872.641,204.816 1053.02,204.816 1053.02,899.988 872.641,899.988 872.641,204.816 \n",
       "  \"/>\n",
       "<path clip-path=\"url(#clip472)\" d=\"\n",
       "M151.118 88.9544 L872.641 88.9544 L872.641 899.988 L151.118 899.988 L151.118 88.9544 L151.118 88.9544  Z\n",
       "  \" fill=\"#ffffff\" fill-rule=\"evenodd\" fill-opacity=\"1\"/>\n",
       "<polyline clip-path=\"url(#clip472)\" style=\"stroke:#000000; stroke-width:4; stroke-opacity:1; fill:none\" points=\"\n",
       "  151.118,88.9544 872.641,88.9544 872.641,899.988 151.118,899.988 151.118,88.9544 \n",
       "  \"/>\n",
       "<path clip-path=\"url(#clip472)\" d=\"\n",
       "M1053.02 784.126 L2288.63 784.126 L2288.63 1479.3 L1053.02 1479.3 L1053.02 784.126 L1053.02 784.126  Z\n",
       "  \" fill=\"#ffffff\" fill-rule=\"evenodd\" fill-opacity=\"1\"/>\n",
       "<polyline clip-path=\"url(#clip472)\" style=\"stroke:#000000; stroke-width:4; stroke-opacity:1; fill:none\" points=\"\n",
       "  1053.02,784.126 2288.63,784.126 2288.63,1479.3 1053.02,1479.3 1053.02,784.126 \n",
       "  \"/>\n",
       "<path clip-path=\"url(#clip472)\" d=\"\n",
       "M1233.4 88.9544 L1864.74 88.9544 L1864.74 668.264 L1233.4 668.264 L1233.4 88.9544 L1233.4 88.9544  Z\n",
       "  \" fill=\"#ffffff\" fill-rule=\"evenodd\" fill-opacity=\"1\"/>\n",
       "<polyline clip-path=\"url(#clip472)\" style=\"stroke:#000000; stroke-width:4; stroke-opacity:1; fill:none\" points=\"\n",
       "  1233.4,88.9544 1864.74,88.9544 1864.74,668.264 1233.4,668.264 1233.4,88.9544 \n",
       "  \"/>\n",
       "<path clip-path=\"url(#clip472)\" d=\"\n",
       "M1053.02 88.9544 L1233.4 88.9544 L1233.4 552.402 L1053.02 552.402 L1053.02 88.9544 L1053.02 88.9544  Z\n",
       "  \" fill=\"#ffffff\" fill-rule=\"evenodd\" fill-opacity=\"1\"/>\n",
       "<polyline clip-path=\"url(#clip472)\" style=\"stroke:#000000; stroke-width:4; stroke-opacity:1; fill:none\" points=\"\n",
       "  1053.02,88.9544 1233.4,88.9544 1233.4,552.402 1053.02,552.402 1053.02,88.9544 \n",
       "  \"/>\n",
       "<path clip-path=\"url(#clip472)\" d=\"\n",
       "M1864.74 378.609 L2045.12 378.609 L2045.12 668.264 L1864.74 668.264 L1864.74 378.609 L1864.74 378.609  Z\n",
       "  \" fill=\"#ffffff\" fill-rule=\"evenodd\" fill-opacity=\"1\"/>\n",
       "<polyline clip-path=\"url(#clip472)\" style=\"stroke:#000000; stroke-width:4; stroke-opacity:1; fill:none\" points=\"\n",
       "  1864.74,378.609 2045.12,378.609 2045.12,668.264 1864.74,668.264 1864.74,378.609 \n",
       "  \"/>\n",
       "<path clip-path=\"url(#clip472)\" d=\"\n",
       "M1864.74 262.747 L1864.74 88.9544 L2045.12 88.9544 L2045.12 262.747 L1864.74 262.747 L1864.74 262.747  Z\n",
       "  \" fill=\"#ffffff\" fill-rule=\"evenodd\" fill-opacity=\"1\"/>\n",
       "<polyline clip-path=\"url(#clip472)\" style=\"stroke:#000000; stroke-width:4; stroke-opacity:1; fill:none\" points=\"\n",
       "  1864.74,262.747 1864.74,88.9544 2045.12,88.9544 2045.12,262.747 1864.74,262.747 \n",
       "  \"/>\n",
       "<path clip-path=\"url(#clip472)\" d=\"\n",
       "M2045.12 88.9544 L2288.63 88.9544 L2288.63 668.264 L2045.12 668.264 L2045.12 88.9544 L2045.12 88.9544  Z\n",
       "  \" fill=\"#ffffff\" fill-rule=\"evenodd\" fill-opacity=\"1\"/>\n",
       "<polyline clip-path=\"url(#clip472)\" style=\"stroke:#000000; stroke-width:4; stroke-opacity:1; fill:none\" points=\"\n",
       "  2045.12,88.9544 2288.63,88.9544 2288.63,668.264 2045.12,668.264 2045.12,88.9544 \n",
       "  \"/>\n",
       "<path clip-path=\"url(#clip472)\" d=\"\n",
       "M1864.74 378.609 L1864.74 262.747 L2045.12 262.747 L2045.12 378.609 L1864.74 378.609 L1864.74 378.609  Z\n",
       "  \" fill=\"#ffffff\" fill-rule=\"evenodd\" fill-opacity=\"1\"/>\n",
       "<polyline clip-path=\"url(#clip472)\" style=\"stroke:#000000; stroke-width:4; stroke-opacity:1; fill:none\" points=\"\n",
       "  1864.74,378.609 1864.74,262.747 2045.12,262.747 2045.12,378.609 1864.74,378.609 \n",
       "  \"/>\n",
       "<path clip-path=\"url(#clip472)\" d=\"\n",
       "M872.641 204.816 L872.641 88.9544 L1053.02 88.9544 L1053.02 204.816 L872.641 204.816 L872.641 204.816  Z\n",
       "  \" fill=\"#ffffff\" fill-rule=\"evenodd\" fill-opacity=\"1\"/>\n",
       "<polyline clip-path=\"url(#clip472)\" style=\"stroke:#000000; stroke-width:4; stroke-opacity:1; fill:none\" points=\"\n",
       "  872.641,204.816 872.641,88.9544 1053.02,88.9544 1053.02,204.816 872.641,204.816 \n",
       "  \"/>\n",
       "<path clip-path=\"url(#clip472)\" d=\"\n",
       "M1053.02 552.402 L1233.4 552.402 L1233.4 668.264 L1053.02 668.264 L1053.02 552.402 L1053.02 552.402  Z\n",
       "  \" fill=\"#ffffff\" fill-rule=\"evenodd\" fill-opacity=\"1\"/>\n",
       "<polyline clip-path=\"url(#clip472)\" style=\"stroke:#000000; stroke-width:4; stroke-opacity:1; fill:none\" points=\"\n",
       "  1053.02,552.402 1233.4,552.402 1233.4,668.264 1053.02,668.264 1053.02,552.402 \n",
       "  \"/>\n",
       "<path clip-path=\"url(#clip472)\" d=\"\n",
       "M872.641 204.816 L1053.02 204.816 L1053.02 899.988 L872.641 899.988 L872.641 204.816 L872.641 204.816  Z\n",
       "  \" fill=\"#ffffff\" fill-rule=\"evenodd\" fill-opacity=\"1\"/>\n",
       "<polyline clip-path=\"url(#clip472)\" style=\"stroke:#000000; stroke-width:4; stroke-opacity:1; fill:none\" points=\"\n",
       "  872.641,204.816 1053.02,204.816 1053.02,899.988 872.641,899.988 872.641,204.816 \n",
       "  \"/>\n",
       "<path clip-path=\"url(#clip472)\" d=\"\n",
       "M151.118 88.9544 L872.641 88.9544 L872.641 899.988 L151.118 899.988 L151.118 88.9544 L151.118 88.9544  Z\n",
       "  \" fill=\"#ffffff\" fill-rule=\"evenodd\" fill-opacity=\"1\"/>\n",
       "<polyline clip-path=\"url(#clip472)\" style=\"stroke:#000000; stroke-width:4; stroke-opacity:1; fill:none\" points=\"\n",
       "  151.118,88.9544 872.641,88.9544 872.641,899.988 151.118,899.988 151.118,88.9544 \n",
       "  \"/>\n",
       "<path clip-path=\"url(#clip472)\" d=\"\n",
       "M1053.02 784.126 L2288.63 784.126 L2288.63 1479.3 L1053.02 1479.3 L1053.02 784.126 L1053.02 784.126  Z\n",
       "  \" fill=\"#ffffff\" fill-rule=\"evenodd\" fill-opacity=\"1\"/>\n",
       "<polyline clip-path=\"url(#clip472)\" style=\"stroke:#000000; stroke-width:4; stroke-opacity:1; fill:none\" points=\"\n",
       "  1053.02,784.126 2288.63,784.126 2288.63,1479.3 1053.02,1479.3 1053.02,784.126 \n",
       "  \"/>\n",
       "<path clip-path=\"url(#clip472)\" d=\"\n",
       "M1233.4 88.9544 L1864.74 88.9544 L1864.74 668.264 L1233.4 668.264 L1233.4 88.9544 L1233.4 88.9544  Z\n",
       "  \" fill=\"#ffffff\" fill-rule=\"evenodd\" fill-opacity=\"1\"/>\n",
       "<polyline clip-path=\"url(#clip472)\" style=\"stroke:#000000; stroke-width:4; stroke-opacity:1; fill:none\" points=\"\n",
       "  1233.4,88.9544 1864.74,88.9544 1864.74,668.264 1233.4,668.264 1233.4,88.9544 \n",
       "  \"/>\n",
       "<path clip-path=\"url(#clip472)\" d=\"\n",
       "M1053.02 88.9544 L1233.4 88.9544 L1233.4 552.402 L1053.02 552.402 L1053.02 88.9544 L1053.02 88.9544  Z\n",
       "  \" fill=\"#ffffff\" fill-rule=\"evenodd\" fill-opacity=\"1\"/>\n",
       "<polyline clip-path=\"url(#clip472)\" style=\"stroke:#000000; stroke-width:4; stroke-opacity:1; fill:none\" points=\"\n",
       "  1053.02,88.9544 1233.4,88.9544 1233.4,552.402 1053.02,552.402 1053.02,88.9544 \n",
       "  \"/>\n",
       "<path clip-path=\"url(#clip472)\" d=\"\n",
       "M1864.74 378.609 L2045.12 378.609 L2045.12 668.264 L1864.74 668.264 L1864.74 378.609 L1864.74 378.609  Z\n",
       "  \" fill=\"#ffffff\" fill-rule=\"evenodd\" fill-opacity=\"1\"/>\n",
       "<polyline clip-path=\"url(#clip472)\" style=\"stroke:#000000; stroke-width:4; stroke-opacity:1; fill:none\" points=\"\n",
       "  1864.74,378.609 2045.12,378.609 2045.12,668.264 1864.74,668.264 1864.74,378.609 \n",
       "  \"/>\n",
       "<path clip-path=\"url(#clip472)\" d=\"\n",
       "M1864.74 262.747 L1864.74 88.9544 L2045.12 88.9544 L2045.12 262.747 L1864.74 262.747 L1864.74 262.747  Z\n",
       "  \" fill=\"#ffffff\" fill-rule=\"evenodd\" fill-opacity=\"1\"/>\n",
       "<polyline clip-path=\"url(#clip472)\" style=\"stroke:#000000; stroke-width:4; stroke-opacity:1; fill:none\" points=\"\n",
       "  1864.74,262.747 1864.74,88.9544 2045.12,88.9544 2045.12,262.747 1864.74,262.747 \n",
       "  \"/>\n",
       "<path clip-path=\"url(#clip472)\" d=\"\n",
       "M2045.12 88.9544 L2288.63 88.9544 L2288.63 668.264 L2045.12 668.264 L2045.12 88.9544 L2045.12 88.9544  Z\n",
       "  \" fill=\"#ffffff\" fill-rule=\"evenodd\" fill-opacity=\"1\"/>\n",
       "<polyline clip-path=\"url(#clip472)\" style=\"stroke:#000000; stroke-width:4; stroke-opacity:1; fill:none\" points=\"\n",
       "  2045.12,88.9544 2288.63,88.9544 2288.63,668.264 2045.12,668.264 2045.12,88.9544 \n",
       "  \"/>\n",
       "<path clip-path=\"url(#clip472)\" d=\"\n",
       "M1864.74 378.609 L1864.74 262.747 L2045.12 262.747 L2045.12 378.609 L1864.74 378.609 L1864.74 378.609  Z\n",
       "  \" fill=\"#ffffff\" fill-rule=\"evenodd\" fill-opacity=\"1\"/>\n",
       "<polyline clip-path=\"url(#clip472)\" style=\"stroke:#000000; stroke-width:4; stroke-opacity:1; fill:none\" points=\"\n",
       "  1864.74,378.609 1864.74,262.747 2045.12,262.747 2045.12,378.609 1864.74,378.609 \n",
       "  \"/>\n",
       "<path clip-path=\"url(#clip472)\" d=\"\n",
       "M151.118 899.988 L1053.02 899.988 L1053.02 1479.3 L151.118 1479.3 L151.118 899.988 L151.118 899.988  Z\n",
       "  \" fill=\"#000000\" fill-rule=\"evenodd\" fill-opacity=\"0.1\"/>\n",
       "<polyline clip-path=\"url(#clip472)\" style=\"stroke:#000000; stroke-width:4; stroke-opacity:1; fill:none\" points=\"\n",
       "  151.118,899.988 1053.02,899.988 1053.02,1479.3 151.118,1479.3 151.118,899.988 \n",
       "  \"/>\n",
       "<path clip-path=\"url(#clip472)\" d=\"\n",
       "M1053.02 668.264 L2288.63 668.264 L2288.63 784.126 L1053.02 784.126 L1053.02 668.264 L1053.02 668.264  Z\n",
       "  \" fill=\"#000000\" fill-rule=\"evenodd\" fill-opacity=\"0.1\"/>\n",
       "<polyline clip-path=\"url(#clip472)\" style=\"stroke:#000000; stroke-width:4; stroke-opacity:1; fill:none\" points=\"\n",
       "  1053.02,668.264 2288.63,668.264 2288.63,784.126 1053.02,784.126 1053.02,668.264 \n",
       "  \"/>\n",
       "<circle clip-path=\"url(#clip472)\" cx=\"2135.31\" cy=\"1015.85\" r=\"14\" fill=\"#ed5d92\" fill-rule=\"evenodd\" fill-opacity=\"1\" stroke=\"#000000\" stroke-opacity=\"1\" stroke-width=\"3.2\"/>\n",
       "<circle clip-path=\"url(#clip472)\" cx=\"1229.43\" cy=\"789.234\" r=\"14\" fill=\"#c68125\" fill-rule=\"evenodd\" fill-opacity=\"1\" stroke=\"#000000\" stroke-opacity=\"1\" stroke-width=\"3.2\"/>\n",
       "<circle clip-path=\"url(#clip472)\" cx=\"650.746\" cy=\"595.517\" r=\"14\" fill=\"#c68125\" fill-rule=\"evenodd\" fill-opacity=\"1\" stroke=\"#000000\" stroke-opacity=\"1\" stroke-width=\"3.2\"/>\n",
       "<circle clip-path=\"url(#clip472)\" cx=\"348.045\" cy=\"434.7\" r=\"14\" fill=\"#c68125\" fill-rule=\"evenodd\" fill-opacity=\"1\" stroke=\"#000000\" stroke-opacity=\"1\" stroke-width=\"3.2\"/>\n",
       "<circle clip-path=\"url(#clip472)\" cx=\"270.104\" cy=\"306.782\" r=\"14\" fill=\"#c68125\" fill-rule=\"evenodd\" fill-opacity=\"1\" stroke=\"#000000\" stroke-opacity=\"1\" stroke-width=\"3.2\"/>\n",
       "<circle clip-path=\"url(#clip472)\" cx=\"365.703\" cy=\"211.764\" r=\"14\" fill=\"#c68125\" fill-rule=\"evenodd\" fill-opacity=\"1\" stroke=\"#000000\" stroke-opacity=\"1\" stroke-width=\"3.2\"/>\n",
       "<circle clip-path=\"url(#clip472)\" cx=\"583.622\" cy=\"149.645\" r=\"14\" fill=\"#c68125\" fill-rule=\"evenodd\" fill-opacity=\"1\" stroke=\"#000000\" stroke-opacity=\"1\" stroke-width=\"3.2\"/>\n",
       "<circle clip-path=\"url(#clip472)\" cx=\"872.641\" cy=\"120.426\" r=\"14\" fill=\"#c68125\" fill-rule=\"evenodd\" fill-opacity=\"1\" stroke=\"#000000\" stroke-opacity=\"1\" stroke-width=\"3.2\"/>\n",
       "<circle clip-path=\"url(#clip472)\" cx=\"1184.94\" cy=\"119.744\" r=\"14\" fill=\"#c68125\" fill-rule=\"evenodd\" fill-opacity=\"1\" stroke=\"#000000\" stroke-opacity=\"1\" stroke-width=\"3.2\"/>\n",
       "<circle clip-path=\"url(#clip472)\" cx=\"1479.48\" cy=\"143.237\" r=\"14\" fill=\"#c68125\" fill-rule=\"evenodd\" fill-opacity=\"1\" stroke=\"#000000\" stroke-opacity=\"1\" stroke-width=\"3.2\"/>\n",
       "<circle clip-path=\"url(#clip472)\" cx=\"1718.62\" cy=\"190.905\" r=\"14\" fill=\"#c68125\" fill-rule=\"evenodd\" fill-opacity=\"1\" stroke=\"#000000\" stroke-opacity=\"1\" stroke-width=\"3.2\"/>\n",
       "<circle clip-path=\"url(#clip472)\" cx=\"1864.74\" cy=\"262.747\" r=\"14\" fill=\"#c68125\" fill-rule=\"evenodd\" fill-opacity=\"1\" stroke=\"#000000\" stroke-opacity=\"1\" stroke-width=\"3.2\"/>\n",
       "<path clip-path=\"url(#clip470)\" d=\"M 0 0 M948.404 572.419 L959.863 572.419 L959.863 532.871 L947.397 535.371 L947.397 528.982 L959.793 526.482 L966.807 526.482 L966.807 572.419 L978.265 572.419 L978.265 578.322 L948.404 578.322 L948.404 572.419 Z\" fill=\"#000000\" fill-rule=\"evenodd\" fill-opacity=\"1\" /><path clip-path=\"url(#clip470)\" d=\"M 0 0 M503.858 514.488 L528.337 514.488 L528.337 520.391 L495.421 520.391 L495.421 514.488 Q499.414 510.356 506.289 503.412 Q513.199 496.433 514.969 494.419 Q518.338 490.634 519.657 488.03 Q521.011 485.391 521.011 482.857 Q521.011 478.725 518.094 476.121 Q515.213 473.516 510.56 473.516 Q507.261 473.516 503.581 474.662 Q499.935 475.808 495.768 478.134 L495.768 471.051 Q500.004 469.35 503.685 468.482 Q507.365 467.614 510.421 467.614 Q518.476 467.614 523.268 471.641 Q528.06 475.669 528.06 482.405 Q528.06 485.6 526.844 488.482 Q525.664 491.329 522.504 495.218 Q521.636 496.225 516.983 501.051 Q512.331 505.843 503.858 514.488 Z\" fill=\"#000000\" fill-rule=\"evenodd\" fill-opacity=\"1\" /><path clip-path=\"url(#clip470)\" d=\"M 0 0 M1677.2 1129.68 Q1682.23 1130.76 1685.04 1134.16 Q1687.89 1137.56 1687.89 1142.56 Q1687.89 1150.24 1682.61 1154.44 Q1677.34 1158.64 1667.61 1158.64 Q1664.35 1158.64 1660.88 1157.98 Q1657.44 1157.35 1653.76 1156.07 L1653.76 1149.3 Q1656.68 1151 1660.15 1151.87 Q1663.62 1152.74 1667.41 1152.74 Q1674 1152.74 1677.44 1150.13 Q1680.91 1147.53 1680.91 1142.56 Q1680.91 1137.98 1677.68 1135.41 Q1674.49 1132.81 1668.76 1132.81 L1662.72 1132.81 L1662.72 1127.04 L1669.04 1127.04 Q1674.21 1127.04 1676.95 1124.99 Q1679.7 1122.91 1679.7 1119.02 Q1679.7 1115.03 1676.85 1112.91 Q1674.04 1110.76 1668.76 1110.76 Q1665.88 1110.76 1662.58 1111.38 Q1659.28 1112.01 1655.32 1113.33 L1655.32 1107.08 Q1659.32 1105.97 1662.79 1105.41 Q1666.29 1104.85 1669.39 1104.85 Q1677.37 1104.85 1682.02 1108.5 Q1686.68 1112.11 1686.68 1118.29 Q1686.68 1122.6 1684.21 1125.58 Q1681.75 1128.53 1677.2 1129.68 Z\" fill=\"#000000\" fill-rule=\"evenodd\" fill-opacity=\"1\" /><path clip-path=\"url(#clip470)\" d=\"M 0 0 M1553.58 358.8 L1535.87 386.474 L1553.58 386.474 L1553.58 358.8 M1551.74 352.689 L1560.56 352.689 L1560.56 386.474 L1567.96 386.474 L1567.96 392.307 L1560.56 392.307 L1560.56 404.529 L1553.58 404.529 L1553.58 392.307 L1530.18 392.307 L1530.18 385.536 L1551.74 352.689 Z\" fill=\"#000000\" fill-rule=\"evenodd\" fill-opacity=\"1\" /><path clip-path=\"url(#clip470)\" d=\"M 0 0 M1128.63 294.758 L1156.16 294.758 L1156.16 300.661 L1135.05 300.661 L1135.05 313.369 Q1136.58 312.848 1138.11 312.605 Q1139.64 312.328 1141.16 312.328 Q1149.84 312.328 1154.91 317.085 Q1159.98 321.841 1159.98 329.966 Q1159.98 338.334 1154.77 342.987 Q1149.57 347.605 1140.09 347.605 Q1136.82 347.605 1133.42 347.05 Q1130.05 346.494 1126.44 345.383 L1126.44 338.334 Q1129.57 340.036 1132.9 340.869 Q1136.23 341.702 1139.95 341.702 Q1145.96 341.702 1149.46 338.543 Q1152.97 335.383 1152.97 329.966 Q1152.97 324.55 1149.46 321.39 Q1145.96 318.23 1139.95 318.23 Q1137.14 318.23 1134.32 318.855 Q1131.55 319.48 1128.63 320.8 L1128.63 294.758 Z\" fill=\"#000000\" fill-rule=\"evenodd\" fill-opacity=\"1\" /><path clip-path=\"url(#clip470)\" d=\"M 0 0 M1955.53 520.642 Q1950.81 520.642 1948.03 523.871 Q1945.29 527.1 1945.29 532.725 Q1945.29 538.315 1948.03 541.579 Q1950.81 544.808 1955.53 544.808 Q1960.26 544.808 1963 541.579 Q1965.78 538.315 1965.78 532.725 Q1965.78 527.1 1963 523.871 Q1960.26 520.642 1955.53 520.642 M1969.46 498.662 L1969.46 505.051 Q1966.82 503.801 1964.11 503.142 Q1961.44 502.482 1958.8 502.482 Q1951.85 502.482 1948.17 507.169 Q1944.53 511.857 1944.01 521.336 Q1946.05 518.315 1949.14 516.718 Q1952.23 515.086 1955.95 515.086 Q1963.76 515.086 1968.28 519.843 Q1972.83 524.565 1972.83 532.725 Q1972.83 540.711 1968.1 545.537 Q1963.38 550.364 1955.53 550.364 Q1946.54 550.364 1941.78 543.489 Q1937.03 536.579 1937.03 523.489 Q1937.03 511.197 1942.86 503.905 Q1948.69 496.579 1958.52 496.579 Q1961.16 496.579 1963.83 497.1 Q1966.54 497.621 1969.46 498.662 Z\" fill=\"#000000\" fill-rule=\"evenodd\" fill-opacity=\"1\" /><path clip-path=\"url(#clip470)\" d=\"M 0 0 M1938.26 149.931 L1971.59 149.931 L1971.59 152.917 L1952.77 201.771 L1945.45 201.771 L1963.16 155.834 L1938.26 155.834 L1938.26 149.931 Z\" fill=\"#000000\" fill-rule=\"evenodd\" fill-opacity=\"1\" /><path clip-path=\"url(#clip470)\" d=\"M 0 0 M2166.87 379.911 Q2161.87 379.911 2158.99 382.585 Q2156.14 385.258 2156.14 389.946 Q2156.14 394.633 2158.99 397.307 Q2161.87 399.981 2166.87 399.981 Q2171.87 399.981 2174.76 397.307 Q2177.64 394.599 2177.64 389.946 Q2177.64 385.258 2174.76 382.585 Q2171.91 379.911 2166.87 379.911 M2159.86 376.925 Q2155.35 375.814 2152.81 372.724 Q2150.31 369.634 2150.31 365.189 Q2150.31 358.974 2154.72 355.363 Q2159.17 351.752 2166.87 351.752 Q2174.62 351.752 2179.03 355.363 Q2183.44 358.974 2183.44 365.189 Q2183.44 369.634 2180.9 372.724 Q2178.4 375.814 2173.92 376.925 Q2178.99 378.106 2181.8 381.543 Q2184.65 384.981 2184.65 389.946 Q2184.65 397.481 2180.03 401.508 Q2175.45 405.536 2166.87 405.536 Q2158.3 405.536 2153.68 401.508 Q2149.1 397.481 2149.1 389.946 Q2149.1 384.981 2151.94 381.543 Q2154.79 378.106 2159.86 376.925 M2157.29 365.849 Q2157.29 369.877 2159.79 372.134 Q2162.32 374.39 2166.87 374.39 Q2171.39 374.39 2173.92 372.134 Q2176.49 369.877 2176.49 365.849 Q2176.49 361.821 2173.92 359.564 Q2171.39 357.307 2166.87 357.307 Q2162.32 357.307 2159.79 359.564 Q2157.29 361.821 2157.29 365.849 Z\" fill=\"#000000\" fill-rule=\"evenodd\" fill-opacity=\"1\" /><path clip-path=\"url(#clip470)\" d=\"M 0 0 M1913.9 294.758 L1921.44 294.758 L1934.32 314.029 L1947.27 294.758 L1954.8 294.758 L1938.14 319.654 L1955.92 346.598 L1948.38 346.598 L1933.8 324.55 L1919.11 346.598 L1911.54 346.598 L1930.05 318.925 L1913.9 294.758 Z\" fill=\"#000000\" fill-rule=\"evenodd\" fill-opacity=\"1\" /><path clip-path=\"url(#clip470)\" d=\"M 0 0 M1954.46 294.758 L1998.31 294.758 L1998.31 300.661 L1979.91 300.661 L1979.91 346.598 L1972.86 346.598 L1972.86 300.661 L1954.46 300.661 L1954.46 294.758 Z\" fill=\"#000000\" fill-rule=\"evenodd\" fill-opacity=\"1\" /><path clip-path=\"url(#clip470)\" d=\"M 0 0 M962.831 127.875 L953.317 153.674 L972.38 153.674 L962.831 127.875 M958.873 120.965 L966.824 120.965 L986.581 172.805 L979.29 172.805 L974.567 159.507 L951.199 159.507 L946.477 172.805 L939.081 172.805 L958.873 120.965 Z\" fill=\"#000000\" fill-rule=\"evenodd\" fill-opacity=\"1\" /><path clip-path=\"url(#clip470)\" d=\"M 0 0 M1131.84 611.496 L1131.84 630.489 L1143.09 630.489 Q1148.75 630.489 1151.46 628.163 Q1154.2 625.802 1154.2 620.975 Q1154.2 616.114 1151.46 613.823 Q1148.75 611.496 1143.09 611.496 L1131.84 611.496 M1131.84 590.177 L1131.84 605.802 L1142.22 605.802 Q1147.36 605.802 1149.86 603.892 Q1152.4 601.948 1152.4 597.989 Q1152.4 594.066 1149.86 592.121 Q1147.36 590.177 1142.22 590.177 L1131.84 590.177 M1124.83 584.413 L1142.74 584.413 Q1150.76 584.413 1155.1 587.746 Q1159.44 591.08 1159.44 597.226 Q1159.44 601.982 1157.22 604.795 Q1155 607.607 1150.69 608.302 Q1155.87 609.413 1158.72 612.955 Q1161.6 616.462 1161.6 621.739 Q1161.6 628.684 1156.88 632.468 Q1152.15 636.253 1143.44 636.253 L1124.83 636.253 L1124.83 584.413 Z\" fill=\"#000000\" fill-rule=\"evenodd\" fill-opacity=\"1\" /><path clip-path=\"url(#clip470)\" d=\"M 0 0 M948.404 572.419 L959.863 572.419 L959.863 532.871 L947.397 535.371 L947.397 528.982 L959.793 526.482 L966.807 526.482 L966.807 572.419 L978.265 572.419 L978.265 578.322 L948.404 578.322 L948.404 572.419 Z\" fill=\"#000000\" fill-rule=\"evenodd\" fill-opacity=\"1\" /><path clip-path=\"url(#clip470)\" d=\"M 0 0 M503.858 514.488 L528.337 514.488 L528.337 520.391 L495.421 520.391 L495.421 514.488 Q499.414 510.356 506.289 503.412 Q513.199 496.433 514.969 494.419 Q518.338 490.634 519.657 488.03 Q521.011 485.391 521.011 482.857 Q521.011 478.725 518.094 476.121 Q515.213 473.516 510.56 473.516 Q507.261 473.516 503.581 474.662 Q499.935 475.808 495.768 478.134 L495.768 471.051 Q500.004 469.35 503.685 468.482 Q507.365 467.614 510.421 467.614 Q518.476 467.614 523.268 471.641 Q528.06 475.669 528.06 482.405 Q528.06 485.6 526.844 488.482 Q525.664 491.329 522.504 495.218 Q521.636 496.225 516.983 501.051 Q512.331 505.843 503.858 514.488 Z\" fill=\"#000000\" fill-rule=\"evenodd\" fill-opacity=\"1\" /><path clip-path=\"url(#clip470)\" d=\"M 0 0 M1677.2 1129.68 Q1682.23 1130.76 1685.04 1134.16 Q1687.89 1137.56 1687.89 1142.56 Q1687.89 1150.24 1682.61 1154.44 Q1677.34 1158.64 1667.61 1158.64 Q1664.35 1158.64 1660.88 1157.98 Q1657.44 1157.35 1653.76 1156.07 L1653.76 1149.3 Q1656.68 1151 1660.15 1151.87 Q1663.62 1152.74 1667.41 1152.74 Q1674 1152.74 1677.44 1150.13 Q1680.91 1147.53 1680.91 1142.56 Q1680.91 1137.98 1677.68 1135.41 Q1674.49 1132.81 1668.76 1132.81 L1662.72 1132.81 L1662.72 1127.04 L1669.04 1127.04 Q1674.21 1127.04 1676.95 1124.99 Q1679.7 1122.91 1679.7 1119.02 Q1679.7 1115.03 1676.85 1112.91 Q1674.04 1110.76 1668.76 1110.76 Q1665.88 1110.76 1662.58 1111.38 Q1659.28 1112.01 1655.32 1113.33 L1655.32 1107.08 Q1659.32 1105.97 1662.79 1105.41 Q1666.29 1104.85 1669.39 1104.85 Q1677.37 1104.85 1682.02 1108.5 Q1686.68 1112.11 1686.68 1118.29 Q1686.68 1122.6 1684.21 1125.58 Q1681.75 1128.53 1677.2 1129.68 Z\" fill=\"#000000\" fill-rule=\"evenodd\" fill-opacity=\"1\" /><path clip-path=\"url(#clip470)\" d=\"M 0 0 M1553.58 358.8 L1535.87 386.474 L1553.58 386.474 L1553.58 358.8 M1551.74 352.689 L1560.56 352.689 L1560.56 386.474 L1567.96 386.474 L1567.96 392.307 L1560.56 392.307 L1560.56 404.529 L1553.58 404.529 L1553.58 392.307 L1530.18 392.307 L1530.18 385.536 L1551.74 352.689 Z\" fill=\"#000000\" fill-rule=\"evenodd\" fill-opacity=\"1\" /><path clip-path=\"url(#clip470)\" d=\"M 0 0 M1128.63 294.758 L1156.16 294.758 L1156.16 300.661 L1135.05 300.661 L1135.05 313.369 Q1136.58 312.848 1138.11 312.605 Q1139.64 312.328 1141.16 312.328 Q1149.84 312.328 1154.91 317.085 Q1159.98 321.841 1159.98 329.966 Q1159.98 338.334 1154.77 342.987 Q1149.57 347.605 1140.09 347.605 Q1136.82 347.605 1133.42 347.05 Q1130.05 346.494 1126.44 345.383 L1126.44 338.334 Q1129.57 340.036 1132.9 340.869 Q1136.23 341.702 1139.95 341.702 Q1145.96 341.702 1149.46 338.543 Q1152.97 335.383 1152.97 329.966 Q1152.97 324.55 1149.46 321.39 Q1145.96 318.23 1139.95 318.23 Q1137.14 318.23 1134.32 318.855 Q1131.55 319.48 1128.63 320.8 L1128.63 294.758 Z\" fill=\"#000000\" fill-rule=\"evenodd\" fill-opacity=\"1\" /><path clip-path=\"url(#clip470)\" d=\"M 0 0 M1955.53 520.642 Q1950.81 520.642 1948.03 523.871 Q1945.29 527.1 1945.29 532.725 Q1945.29 538.315 1948.03 541.579 Q1950.81 544.808 1955.53 544.808 Q1960.26 544.808 1963 541.579 Q1965.78 538.315 1965.78 532.725 Q1965.78 527.1 1963 523.871 Q1960.26 520.642 1955.53 520.642 M1969.46 498.662 L1969.46 505.051 Q1966.82 503.801 1964.11 503.142 Q1961.44 502.482 1958.8 502.482 Q1951.85 502.482 1948.17 507.169 Q1944.53 511.857 1944.01 521.336 Q1946.05 518.315 1949.14 516.718 Q1952.23 515.086 1955.95 515.086 Q1963.76 515.086 1968.28 519.843 Q1972.83 524.565 1972.83 532.725 Q1972.83 540.711 1968.1 545.537 Q1963.38 550.364 1955.53 550.364 Q1946.54 550.364 1941.78 543.489 Q1937.03 536.579 1937.03 523.489 Q1937.03 511.197 1942.86 503.905 Q1948.69 496.579 1958.52 496.579 Q1961.16 496.579 1963.83 497.1 Q1966.54 497.621 1969.46 498.662 Z\" fill=\"#000000\" fill-rule=\"evenodd\" fill-opacity=\"1\" /><path clip-path=\"url(#clip470)\" d=\"M 0 0 M1938.26 149.931 L1971.59 149.931 L1971.59 152.917 L1952.77 201.771 L1945.45 201.771 L1963.16 155.834 L1938.26 155.834 L1938.26 149.931 Z\" fill=\"#000000\" fill-rule=\"evenodd\" fill-opacity=\"1\" /><path clip-path=\"url(#clip470)\" d=\"M 0 0 M2166.87 379.911 Q2161.87 379.911 2158.99 382.585 Q2156.14 385.258 2156.14 389.946 Q2156.14 394.633 2158.99 397.307 Q2161.87 399.981 2166.87 399.981 Q2171.87 399.981 2174.76 397.307 Q2177.64 394.599 2177.64 389.946 Q2177.64 385.258 2174.76 382.585 Q2171.91 379.911 2166.87 379.911 M2159.86 376.925 Q2155.35 375.814 2152.81 372.724 Q2150.31 369.634 2150.31 365.189 Q2150.31 358.974 2154.72 355.363 Q2159.17 351.752 2166.87 351.752 Q2174.62 351.752 2179.03 355.363 Q2183.44 358.974 2183.44 365.189 Q2183.44 369.634 2180.9 372.724 Q2178.4 375.814 2173.92 376.925 Q2178.99 378.106 2181.8 381.543 Q2184.65 384.981 2184.65 389.946 Q2184.65 397.481 2180.03 401.508 Q2175.45 405.536 2166.87 405.536 Q2158.3 405.536 2153.68 401.508 Q2149.1 397.481 2149.1 389.946 Q2149.1 384.981 2151.94 381.543 Q2154.79 378.106 2159.86 376.925 M2157.29 365.849 Q2157.29 369.877 2159.79 372.134 Q2162.32 374.39 2166.87 374.39 Q2171.39 374.39 2173.92 372.134 Q2176.49 369.877 2176.49 365.849 Q2176.49 361.821 2173.92 359.564 Q2171.39 357.307 2166.87 357.307 Q2162.32 357.307 2159.79 359.564 Q2157.29 361.821 2157.29 365.849 Z\" fill=\"#000000\" fill-rule=\"evenodd\" fill-opacity=\"1\" /><path clip-path=\"url(#clip470)\" d=\"M 0 0 M1913.9 294.758 L1921.44 294.758 L1934.32 314.029 L1947.27 294.758 L1954.8 294.758 L1938.14 319.654 L1955.92 346.598 L1948.38 346.598 L1933.8 324.55 L1919.11 346.598 L1911.54 346.598 L1930.05 318.925 L1913.9 294.758 Z\" fill=\"#000000\" fill-rule=\"evenodd\" fill-opacity=\"1\" /><path clip-path=\"url(#clip470)\" d=\"M 0 0 M1954.46 294.758 L1998.31 294.758 L1998.31 300.661 L1979.91 300.661 L1979.91 346.598 L1972.86 346.598 L1972.86 300.661 L1954.46 300.661 L1954.46 294.758 Z\" fill=\"#000000\" fill-rule=\"evenodd\" fill-opacity=\"1\" /><path clip-path=\"url(#clip470)\" d=\"M 0 0 M582.764 1168.48 Q575.125 1168.48 570.611 1174.17 Q566.132 1179.87 566.132 1189.69 Q566.132 1199.49 570.611 1205.18 Q575.125 1210.88 582.764 1210.88 Q590.403 1210.88 594.847 1205.18 Q599.327 1199.49 599.327 1189.69 Q599.327 1179.87 594.847 1174.17 Q590.403 1168.48 582.764 1168.48 M582.764 1162.79 Q593.667 1162.79 600.195 1170.11 Q606.722 1177.4 606.722 1189.69 Q606.722 1201.95 600.195 1209.28 Q593.667 1216.57 582.764 1216.57 Q571.827 1216.57 565.264 1209.28 Q558.737 1201.99 558.737 1189.69 Q558.737 1177.4 565.264 1170.11 Q571.827 1162.79 582.764 1162.79 Z\" fill=\"#000000\" fill-rule=\"evenodd\" fill-opacity=\"1\" /><path clip-path=\"url(#clip470)\" d=\"M 0 0 M615.542 1209.66 L627 1209.66 L627 1170.11 L614.535 1172.61 L614.535 1166.22 L626.931 1163.72 L633.944 1163.72 L633.944 1209.66 L645.403 1209.66 L645.403 1215.56 L615.542 1215.56 L615.542 1209.66 Z\" fill=\"#000000\" fill-rule=\"evenodd\" fill-opacity=\"1\" /><path clip-path=\"url(#clip470)\" d=\"M 0 0 M1651.8 705.032 Q1644.16 705.032 1639.65 710.726 Q1635.17 716.421 1635.17 726.247 Q1635.17 736.039 1639.65 741.733 Q1644.16 747.428 1651.8 747.428 Q1659.44 747.428 1663.88 741.733 Q1668.36 736.039 1668.36 726.247 Q1668.36 716.421 1663.88 710.726 Q1659.44 705.032 1651.8 705.032 M1651.8 699.338 Q1662.7 699.338 1669.23 706.664 Q1675.76 713.956 1675.76 726.247 Q1675.76 738.504 1669.23 745.83 Q1662.7 753.122 1651.8 753.122 Q1640.86 753.122 1634.3 745.83 Q1627.77 738.539 1627.77 726.247 Q1627.77 713.956 1634.3 706.664 Q1640.86 699.338 1651.8 699.338 Z\" fill=\"#000000\" fill-rule=\"evenodd\" fill-opacity=\"1\" /><path clip-path=\"url(#clip470)\" d=\"M 0 0 M1689.4 746.212 L1713.88 746.212 L1713.88 752.115 L1680.96 752.115 L1680.96 746.212 Q1684.96 742.08 1691.83 735.136 Q1698.74 728.157 1700.51 726.143 Q1703.88 722.358 1705.2 719.754 Q1706.56 717.115 1706.56 714.58 Q1706.56 710.449 1703.64 707.844 Q1700.76 705.24 1696.1 705.24 Q1692.81 705.24 1689.12 706.386 Q1685.48 707.532 1681.31 709.858 L1681.31 702.775 Q1685.55 701.074 1689.23 700.206 Q1692.91 699.338 1695.96 699.338 Q1704.02 699.338 1708.81 703.365 Q1713.6 707.393 1713.6 714.129 Q1713.6 717.324 1712.39 720.205 Q1711.21 723.053 1708.05 726.942 Q1707.18 727.948 1702.53 732.775 Q1697.87 737.566 1689.4 746.212 Z\" fill=\"#000000\" fill-rule=\"evenodd\" fill-opacity=\"1\" /><path clip-path=\"url(#clip470)\" d=\"M 0 0 M2133.53 1062.97 L2121.81 1078.74 L2134.13 1095.38 L2127.86 1095.38 L2118.42 1082.65 L2108.99 1095.38 L2102.71 1095.38 L2115.3 1078.42 L2103.78 1062.97 L2110.06 1062.97 L2118.65 1074.52 L2127.25 1062.97 L2133.53 1062.97 Z\" fill=\"#000000\" fill-rule=\"evenodd\" fill-opacity=\"1\" /><path clip-path=\"url(#clip470)\" d=\"M 0 0 M2152.97 1056.03 Q2148.46 1056.03 2146.17 1060.49 Q2143.91 1064.91 2143.91 1073.82 Q2143.91 1082.71 2146.17 1087.16 Q2148.46 1091.59 2152.97 1091.59 Q2157.51 1091.59 2159.77 1087.16 Q2162.06 1082.71 2162.06 1073.82 Q2162.06 1064.91 2159.77 1060.49 Q2157.51 1056.03 2152.97 1056.03 M2152.97 1051.4 Q2160.23 1051.4 2164.05 1057.16 Q2167.9 1062.89 2167.9 1073.82 Q2167.9 1084.73 2164.05 1090.49 Q2160.23 1096.22 2152.97 1096.22 Q2145.71 1096.22 2141.86 1090.49 Q2138.04 1084.73 2138.04 1073.82 Q2138.04 1062.89 2141.86 1057.16 Q2145.71 1051.4 2152.97 1051.4 Z\" fill=\"#000000\" fill-rule=\"evenodd\" fill-opacity=\"1\" /></svg>\n"
      ]
     },
     "metadata": {},
     "execution_count": 13
    }
   ],
   "cell_type": "code",
   "source": [
    "using Plots\n",
    "using Colors\n",
    "\n",
    "##Auxiliary function for annotating\n",
    "function text_in_set_plot!(pl, po, t; kws...)\n",
    "    ##solve finding center (other solvers? https://jump.dev/JuMP.jl/dev/installation/#Supported-solvers)\n",
    "    solver = optimizer_with_attributes(GLPK.Optimizer, \"presolve\" => GLPK.ON)\n",
    "    plot!(pl, po; kws...)\n",
    "    if t !== nothing\n",
    "        c, r = hchebyshevcenter(hrep(po), solver, verbose=0)\n",
    "        annotate!(pl, [(c..., text(t, 12))])\n",
    "    end\n",
    "end\n",
    "\n",
    "##Initialize our canvas\n",
    "p = Plots.plot(fmt = :png, fillcolor = :white)\n",
    "\n",
    "##Show the discrete modes\n",
    "for mode in states(system)\n",
    "    t = (system.ext[:q_T] in [mode, mode + 11]) ? \"XT\" : (mode == system.ext[:q_A] ? \"A\" : (mode == system.ext[:q_B] ? \"B\" :\n",
    "            mode <= 11 ? string(mode) : string(mode - 11)))\n",
    "    text_in_set_plot!(p, stateset(system, mode), t, fillcolor = :white, linecolor = :black)\n",
    "end\n",
    "\n",
    "##Plot obstacles\n",
    "for i in eachindex(system.ext[:obstacles])\n",
    "    text_in_set_plot!(p, system.ext[:obstacles][i], \"O$i\", fillcolor = :black, fillalpha = 0.1)\n",
    "end\n",
    "\n",
    "\n",
    "##Initial state\n",
    "scatter!(p, [x0[1]], [x0[2]])\n",
    "annotate!(p, [(x0[1], x0[2] - 0.5, text(\"x0\", 10))])\n",
    "\n",
    "##Split the vector into x1 and x2\n",
    "x1 = [xu.x[j][1] for j in eachindex(xu.x)]\n",
    "x2 = [xu.x[j][2] for j in eachindex(xu.x)]\n",
    "\n",
    "##Plot the trajectory\n",
    "scatter!(p, x1, x2)"
   ],
   "metadata": {},
   "execution_count": 13
  },
  {
   "cell_type": "markdown",
   "source": [
    "### References\n",
    "\n",
    "1. Gol, E. A., Lazar, M., & Belta, C. (2013). Language-guided controller synthesis for linear systems. IEEE Transactions on Automatic Control, 59(5), 1163-1176.\n",
    "1. Bemporad, A., & Morari, M. (1999). Control of systems integrating logic, dynamics, and constraints. Automatica, 35(3), 407-427."
   ],
   "metadata": {}
  },
  {
   "cell_type": "markdown",
   "source": [
    "---\n",
    "\n",
    "*This notebook was generated using [Literate.jl](https://github.com/fredrikekre/Literate.jl).*"
   ],
   "metadata": {}
  }
 ],
 "nbformat_minor": 3,
 "metadata": {
  "language_info": {
   "file_extension": ".jl",
   "mimetype": "application/julia",
   "name": "julia",
   "version": "1.5.4"
  },
  "kernelspec": {
   "name": "julia-1.5",
   "display_name": "Julia 1.5.4",
   "language": "julia"
  }
 },
 "nbformat": 4
}
