{
 "cells": [
  {
   "cell_type": "markdown",
   "source": [
    "# Example: Gol, Lazar and Belta (2013)\n",
    "\n",
    "This example reproduces parts of the numerical results of [3]. A similar example reproducing all results of [3] is available as a codeocean capsule in [4].\n",
    "\n",
    "This example was borrowed from [1, Example VIII.A] and tackles\n",
    "an optimal control for the hybrid system with state evolution governed by\n",
    "$$\n",
    "x(k+1) = \\begin{bmatrix} 1 & 1 \\\\ 0 & 1 \\end{bmatrix}x(k) + \\begin{bmatrix} 0.5 \\\\ 1.0 \\end{bmatrix} u(k)\n",
    "$$"
   ],
   "metadata": {}
  },
  {
   "cell_type": "markdown",
   "source": [
    "The goal is to take the state vector toward a target set **XT** by visiting one of the squares\n",
    "**A** or **B** and avoiding the obstacles **O1** and **O2**"
   ],
   "metadata": {}
  },
  {
   "cell_type": "markdown",
   "source": [
    "First, let us import [CDDLib](https://github.com/JuliaPolyhedra/CDDLib.jl),\n",
    "[GLPK](https://github.com/jump-dev/GLPK.jl), [OSQP](https://github.com/oxfordcontrol/OSQP.jl),\n",
    "[JuMP](https://github.com/jump-dev/JuMP.jl), [Pavito](https://github.com/jump-dev/Pavito.jl)\n",
    "and [Ipopt](https://github.com/jump-dev/Ipopt.jl)"
   ],
   "metadata": {}
  },
  {
   "outputs": [],
   "cell_type": "code",
   "source": [
    "import CDDLib\n",
    "import GLPK\n",
    "import OSQP\n",
    "using JuMP\n",
    "import Pavito\n",
    "import Cbc\n",
    "import Ipopt"
   ],
   "metadata": {},
   "execution_count": 1
  },
  {
   "cell_type": "markdown",
   "source": [
    "At this point we import Dionysos"
   ],
   "metadata": {}
  },
  {
   "outputs": [],
   "cell_type": "code",
   "source": [
    "using Dionysos"
   ],
   "metadata": {},
   "execution_count": 2
  },
  {
   "cell_type": "markdown",
   "source": [
    "And the file defining the hybrid system for this problem"
   ],
   "metadata": {}
  },
  {
   "outputs": [
    {
     "output_type": "execute_result",
     "data": {
      "text/plain": "gol_lazar_belta (generic function with 1 method)"
     },
     "metadata": {},
     "execution_count": 3
    }
   ],
   "cell_type": "code",
   "source": [
    "include(joinpath(dirname(dirname(pathof(Dionysos))), \"examples\", \"gol_lazar_belta.jl\"))"
   ],
   "metadata": {},
   "execution_count": 3
  },
  {
   "cell_type": "markdown",
   "source": [
    "Now we instantiate our system using the function provided by [gol\\_lazar\\_belta.jl](https://github.com/dionysos-dev/Dionysos.jl/blob/master/examples/gol_lazar_belta.jl)"
   ],
   "metadata": {}
  },
  {
   "outputs": [],
   "cell_type": "code",
   "source": [
    "system = gol_lazar_belta(CDDLib.Library(), Float64);"
   ],
   "metadata": {},
   "execution_count": 4
  },
  {
   "cell_type": "markdown",
   "source": [
    "Then, we define initial conditions (continuous and discrete states) to this system\n",
    "and set `N` as the search depth, i.e., the number of allowed time steps."
   ],
   "metadata": {}
  },
  {
   "outputs": [],
   "cell_type": "code",
   "source": [
    "x0 = [1.0, -6.0];\n",
    "q0 = 3;\n",
    "\n",
    "N = 11;"
   ],
   "metadata": {},
   "execution_count": 5
  },
  {
   "cell_type": "markdown",
   "source": [
    "We instantiate our Optimal Control Problem by defining the state and transition costs.\n",
    "Notice that Comment that `state_cost` is defined to be zero for each mode/discrete state\n",
    "of the system and the `transition_cost` is defined to be `u_1^2` which is defined by the\n",
    "quadratic form `u' * Q * u` with `Q = ones(1, 1)`."
   ],
   "metadata": {}
  },
  {
   "outputs": [],
   "cell_type": "code",
   "source": [
    "state_cost = Fill(ZeroFunction(), nmodes(system))\n",
    "transition_cost = QuadraticControlFunction(ones(1, 1))\n",
    "\n",
    "problem = OptimalControlProblem(\n",
    "    system,\n",
    "    q0, x0,\n",
    "    Fill(state_cost, N),\n",
    "    Fill(Fill(transition_cost, ntransitions(system)), N),\n",
    "    system.ext[:q_T],\n",
    "    N\n",
    ");"
   ],
   "metadata": {},
   "execution_count": 6
  },
  {
   "cell_type": "markdown",
   "source": [
    "Notice that we used `Fill` for all `N` time steps as we consider time-invariant costs.\n",
    "Finally, we select the method presented in [2] as our optimizer"
   ],
   "metadata": {}
  },
  {
   "outputs": [],
   "cell_type": "code",
   "source": [
    "qp_solver = optimizer_with_attributes(\n",
    "    OSQP.Optimizer,\n",
    "    \"eps_abs\" => 1e-8,\n",
    "    \"eps_rel\" => 1e-8,\n",
    "    \"max_iter\" => 100000,\n",
    "    MOI.Silent() => true\n",
    ");\n",
    "\n",
    "mip_solver = optimizer_with_attributes(\n",
    "    Cbc.Optimizer,\n",
    "    MOI.Silent() => true\n",
    ");\n",
    "\n",
    "cont_solver = optimizer_with_attributes(\n",
    "    Ipopt.Optimizer,\n",
    "    MOI.Silent() => true\n",
    ");\n",
    "\n",
    "miqp_solver = optimizer_with_attributes(\n",
    "    Pavito.Optimizer,\n",
    "    \"mip_solver\" => mip_solver,\n",
    "    \"cont_solver\" => cont_solver,\n",
    "    MOI.Silent() => true\n",
    ");\n",
    "\n",
    "\n",
    "algo = optimizer_with_attributes(BemporadMorari.Optimizer{Float64},\n",
    "    \"continuous_solver\" => qp_solver,\n",
    "    \"mixed_integer_solver\" => miqp_solver,\n",
    "    \"indicator\" => false,\n",
    "    \"log_level\" => 0\n",
    ");"
   ],
   "metadata": {},
   "execution_count": 7
  },
  {
   "cell_type": "markdown",
   "source": [
    "and use it to solve the given problem, with the help of the abstraction layer\n",
    "MathOptInterface provided by [JuMP](https://github.com/jump-dev/JuMP.jl)"
   ],
   "metadata": {}
  },
  {
   "outputs": [
    {
     "name": "stdout",
     "output_type": "stream",
     "text": [
      "\n",
      "******************************************************************************\n",
      "This program contains Ipopt, a library for large-scale nonlinear optimization.\n",
      " Ipopt is released as open source code under the Eclipse Public License (EPL).\n",
      "         For more information visit https://github.com/coin-or/Ipopt\n",
      "******************************************************************************\n",
      "\n"
     ]
    }
   ],
   "cell_type": "code",
   "source": [
    "optimizer = MOI.instantiate(algo)\n",
    "MOI.set(optimizer, MOI.RawParameter(\"problem\"), problem)\n",
    "MOI.optimize!(optimizer)"
   ],
   "metadata": {},
   "execution_count": 8
  },
  {
   "cell_type": "markdown",
   "source": [
    "We check the solver time"
   ],
   "metadata": {}
  },
  {
   "outputs": [
    {
     "output_type": "execute_result",
     "data": {
      "text/plain": "23.840147972106934"
     },
     "metadata": {},
     "execution_count": 9
    }
   ],
   "cell_type": "code",
   "source": [
    "MOI.get(optimizer, MOI.SolveTime())"
   ],
   "metadata": {},
   "execution_count": 9
  },
  {
   "cell_type": "markdown",
   "source": [
    "the termination status"
   ],
   "metadata": {}
  },
  {
   "outputs": [
    {
     "output_type": "execute_result",
     "data": {
      "text/plain": "OPTIMAL::TerminationStatusCode = 1"
     },
     "metadata": {},
     "execution_count": 10
    }
   ],
   "cell_type": "code",
   "source": [
    "termination = MOI.get(optimizer, MOI.TerminationStatus())"
   ],
   "metadata": {},
   "execution_count": 10
  },
  {
   "cell_type": "markdown",
   "source": [
    "the objective value"
   ],
   "metadata": {}
  },
  {
   "outputs": [
    {
     "output_type": "execute_result",
     "data": {
      "text/plain": "11.385062952226304"
     },
     "metadata": {},
     "execution_count": 11
    }
   ],
   "cell_type": "code",
   "source": [
    "objective_value = MOI.get(optimizer, MOI.ObjectiveValue())"
   ],
   "metadata": {},
   "execution_count": 11
  },
  {
   "cell_type": "markdown",
   "source": [
    "and recover the corresponding continuous trajectory"
   ],
   "metadata": {}
  },
  {
   "outputs": [],
   "cell_type": "code",
   "source": [
    "xu = MOI.get(optimizer, ContinuousTrajectoryAttribute());"
   ],
   "metadata": {},
   "execution_count": 12
  },
  {
   "cell_type": "markdown",
   "source": [
    "A little bit of data visualization now:"
   ],
   "metadata": {}
  },
  {
   "outputs": [
    {
     "name": "stdout",
     "output_type": "stream",
     "text": [
      "glp_simplex: unable to recover undefined or non-optimal solution\n",
      "glp_simplex: unable to recover undefined or non-optimal solution\n",
      "glp_simplex: unable to recover undefined or non-optimal solution\n",
      "glp_simplex: unable to recover undefined or non-optimal solution\n",
      "glp_simplex: unable to recover undefined or non-optimal solution\n",
      "glp_simplex: unable to recover undefined or non-optimal solution\n",
      "glp_simplex: unable to recover undefined or non-optimal solution\n",
      "glp_simplex: unable to recover undefined or non-optimal solution\n",
      "glp_simplex: unable to recover undefined or non-optimal solution\n",
      "glp_simplex: unable to recover undefined or non-optimal solution\n",
      "glp_simplex: unable to recover undefined or non-optimal solution\n",
      "glp_simplex: unable to recover undefined or non-optimal solution\n",
      "glp_simplex: unable to recover undefined or non-optimal solution\n",
      "glp_simplex: unable to recover undefined or non-optimal solution\n",
      "glp_simplex: unable to recover undefined or non-optimal solution\n",
      "glp_simplex: unable to recover undefined or non-optimal solution\n",
      "glp_simplex: unable to recover undefined or non-optimal solution\n",
      "glp_simplex: unable to recover undefined or non-optimal solution\n",
      "glp_simplex: unable to recover undefined or non-optimal solution\n",
      "glp_simplex: unable to recover undefined or non-optimal solution\n",
      "glp_simplex: unable to recover undefined or non-optimal solution\n",
      "glp_simplex: unable to recover undefined or non-optimal solution\n",
      "glp_simplex: unable to recover undefined or non-optimal solution\n",
      "glp_simplex: unable to recover undefined or non-optimal solution\n",
      "glp_simplex: unable to recover undefined or non-optimal solution\n",
      "glp_simplex: unable to recover undefined or non-optimal solution\n",
      "glp_simplex: unable to recover undefined or non-optimal solution\n",
      "glp_simplex: unable to recover undefined or non-optimal solution\n",
      "glp_simplex: unable to recover undefined or non-optimal solution\n",
      "glp_simplex: unable to recover undefined or non-optimal solution\n",
      "glp_simplex: unable to recover undefined or non-optimal solution\n",
      "glp_simplex: unable to recover undefined or non-optimal solution\n",
      "glp_simplex: unable to recover undefined or non-optimal solution\n",
      "glp_simplex: unable to recover undefined or non-optimal solution\n",
      "glp_simplex: unable to recover undefined or non-optimal solution\n",
      "glp_simplex: unable to recover undefined or non-optimal solution\n",
      "glp_simplex: unable to recover undefined or non-optimal solution\n"
     ]
    },
    {
     "output_type": "execute_result",
     "data": {
      "text/plain": "Plot{Plots.GRBackend() n=24}",
      "image/png": "[encoded data removed]",
      "text/html": [
       "<img src=\"data:image/png;base64,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\" />"
      ],
      "image/svg+xml": [
       "<?xml version=\"1.0\" encoding=\"utf-8\"?>\n",
       "<svg xmlns=\"http://www.w3.org/2000/svg\" xmlns:xlink=\"http://www.w3.org/1999/xlink\" width=\"600\" height=\"400\" viewBox=\"0 0 2400 1600\">\n",
       "<defs>\n",
       "  <clipPath id=\"clip820\">\n",
       "    <rect x=\"0\" y=\"0\" width=\"2400\" height=\"1600\"/>\n",
       "  </clipPath>\n",
       "</defs>\n",
       "<path clip-path=\"url(#clip820)\" d=\"\n",
       "M0 1600 L2400 1600 L2400 0 L0 0  Z\n",
       "  \" fill=\"#ffffff\" fill-rule=\"evenodd\" fill-opacity=\"1\"/>\n",
       "<defs>\n",
       "  <clipPath id=\"clip821\">\n",
       "    <rect x=\"480\" y=\"0\" width=\"1681\" height=\"1600\"/>\n",
       "  </clipPath>\n",
       "</defs>\n",
       "<path clip-path=\"url(#clip820)\" d=\"\n",
       "M86.9921 1521.01 L2352.76 1521.01 L2352.76 47.2441 L86.9921 47.2441  Z\n",
       "  \" fill=\"#ffffff\" fill-rule=\"evenodd\" fill-opacity=\"1\"/>\n",
       "<defs>\n",
       "  <clipPath id=\"clip822\">\n",
       "    <rect x=\"86\" y=\"47\" width=\"2267\" height=\"1475\"/>\n",
       "  </clipPath>\n",
       "</defs>\n",
       "<polyline clip-path=\"url(#clip822)\" style=\"stroke:#000000; stroke-linecap:butt; stroke-linejoin:round; stroke-width:2; stroke-opacity:0.1; fill:none\" points=\"\n",
       "  151.118,1521.01 151.118,47.2441 \n",
       "  \"/>\n",
       "<polyline clip-path=\"url(#clip822)\" style=\"stroke:#000000; stroke-linecap:butt; stroke-linejoin:round; stroke-width:2; stroke-opacity:0.1; fill:none\" points=\"\n",
       "  602.07,1521.01 602.07,47.2441 \n",
       "  \"/>\n",
       "<polyline clip-path=\"url(#clip822)\" style=\"stroke:#000000; stroke-linecap:butt; stroke-linejoin:round; stroke-width:2; stroke-opacity:0.1; fill:none\" points=\"\n",
       "  1053.02,1521.01 1053.02,47.2441 \n",
       "  \"/>\n",
       "<polyline clip-path=\"url(#clip822)\" style=\"stroke:#000000; stroke-linecap:butt; stroke-linejoin:round; stroke-width:2; stroke-opacity:0.1; fill:none\" points=\"\n",
       "  1503.97,1521.01 1503.97,47.2441 \n",
       "  \"/>\n",
       "<polyline clip-path=\"url(#clip822)\" style=\"stroke:#000000; stroke-linecap:butt; stroke-linejoin:round; stroke-width:2; stroke-opacity:0.1; fill:none\" points=\"\n",
       "  1954.93,1521.01 1954.93,47.2441 \n",
       "  \"/>\n",
       "<polyline clip-path=\"url(#clip820)\" style=\"stroke:#000000; stroke-linecap:butt; stroke-linejoin:round; stroke-width:4; stroke-opacity:1; fill:none\" points=\"\n",
       "  86.9921,1521.01 2352.76,1521.01 \n",
       "  \"/>\n",
       "<polyline clip-path=\"url(#clip820)\" style=\"stroke:#000000; stroke-linecap:butt; stroke-linejoin:round; stroke-width:4; stroke-opacity:1; fill:none\" points=\"\n",
       "  151.118,1521.01 151.118,1503.32 \n",
       "  \"/>\n",
       "<polyline clip-path=\"url(#clip820)\" style=\"stroke:#000000; stroke-linecap:butt; stroke-linejoin:round; stroke-width:4; stroke-opacity:1; fill:none\" points=\"\n",
       "  602.07,1521.01 602.07,1503.32 \n",
       "  \"/>\n",
       "<polyline clip-path=\"url(#clip820)\" style=\"stroke:#000000; stroke-linecap:butt; stroke-linejoin:round; stroke-width:4; stroke-opacity:1; fill:none\" points=\"\n",
       "  1053.02,1521.01 1053.02,1503.32 \n",
       "  \"/>\n",
       "<polyline clip-path=\"url(#clip820)\" style=\"stroke:#000000; stroke-linecap:butt; stroke-linejoin:round; stroke-width:4; stroke-opacity:1; fill:none\" points=\"\n",
       "  1503.97,1521.01 1503.97,1503.32 \n",
       "  \"/>\n",
       "<polyline clip-path=\"url(#clip820)\" style=\"stroke:#000000; stroke-linecap:butt; stroke-linejoin:round; stroke-width:4; stroke-opacity:1; fill:none\" points=\"\n",
       "  1954.93,1521.01 1954.93,1503.32 \n",
       "  \"/>\n",
       "<path clip-path=\"url(#clip820)\" d=\"M82.5646 1564.85 L112.24 1564.85 L112.24 1568.79 L82.5646 1568.79 L82.5646 1564.85 Z\" fill=\"#000000\" fill-rule=\"evenodd\" fill-opacity=\"1\" /><path clip-path=\"url(#clip820)\" d=\"M123.143 1577.74 L130.782 1577.74 L130.782 1551.38 L122.472 1553.05 L122.472 1548.79 L130.736 1547.12 L135.412 1547.12 L135.412 1577.74 L143.05 1577.74 L143.05 1581.68 L123.143 1581.68 L123.143 1577.74 Z\" fill=\"#000000\" fill-rule=\"evenodd\" fill-opacity=\"1\" /><path clip-path=\"url(#clip820)\" d=\"M162.495 1550.2 Q158.884 1550.2 157.055 1553.76 Q155.249 1557.31 155.249 1564.43 Q155.249 1571.54 157.055 1575.11 Q158.884 1578.65 162.495 1578.65 Q166.129 1578.65 167.935 1575.11 Q169.763 1571.54 169.763 1564.43 Q169.763 1557.31 167.935 1553.76 Q166.129 1550.2 162.495 1550.2 M162.495 1546.49 Q168.305 1546.49 171.36 1551.1 Q174.439 1555.68 174.439 1564.43 Q174.439 1573.16 171.36 1577.77 Q168.305 1582.35 162.495 1582.35 Q156.685 1582.35 153.606 1577.77 Q150.55 1573.16 150.55 1564.43 Q150.55 1555.68 153.606 1551.1 Q156.685 1546.49 162.495 1546.49 Z\" fill=\"#000000\" fill-rule=\"evenodd\" fill-opacity=\"1\" /><path clip-path=\"url(#clip820)\" d=\"M182.657 1575.8 L187.541 1575.8 L187.541 1581.68 L182.657 1581.68 L182.657 1575.8 Z\" fill=\"#000000\" fill-rule=\"evenodd\" fill-opacity=\"1\" /><path clip-path=\"url(#clip820)\" d=\"M207.726 1550.2 Q204.115 1550.2 202.286 1553.76 Q200.481 1557.31 200.481 1564.43 Q200.481 1571.54 202.286 1575.11 Q204.115 1578.65 207.726 1578.65 Q211.36 1578.65 213.166 1575.11 Q214.994 1571.54 214.994 1564.43 Q214.994 1557.31 213.166 1553.76 Q211.36 1550.2 207.726 1550.2 M207.726 1546.49 Q213.536 1546.49 216.592 1551.1 Q219.67 1555.68 219.67 1564.43 Q219.67 1573.16 216.592 1577.77 Q213.536 1582.35 207.726 1582.35 Q201.916 1582.35 198.837 1577.77 Q195.782 1573.16 195.782 1564.43 Q195.782 1555.68 198.837 1551.1 Q201.916 1546.49 207.726 1546.49 Z\" fill=\"#000000\" fill-rule=\"evenodd\" fill-opacity=\"1\" /><path clip-path=\"url(#clip820)\" d=\"M549.095 1564.85 L578.771 1564.85 L578.771 1568.79 L549.095 1568.79 L549.095 1564.85 Z\" fill=\"#000000\" fill-rule=\"evenodd\" fill-opacity=\"1\" /><path clip-path=\"url(#clip820)\" d=\"M587.683 1547.12 L609.905 1547.12 L609.905 1549.11 L597.359 1581.68 L592.475 1581.68 L604.28 1551.06 L587.683 1551.06 L587.683 1547.12 Z\" fill=\"#000000\" fill-rule=\"evenodd\" fill-opacity=\"1\" /><path clip-path=\"url(#clip820)\" d=\"M619.026 1575.8 L623.91 1575.8 L623.91 1581.68 L619.026 1581.68 L619.026 1575.8 Z\" fill=\"#000000\" fill-rule=\"evenodd\" fill-opacity=\"1\" /><path clip-path=\"url(#clip820)\" d=\"M634.141 1547.12 L652.498 1547.12 L652.498 1551.06 L638.424 1551.06 L638.424 1559.53 Q639.442 1559.18 640.461 1559.02 Q641.479 1558.83 642.498 1558.83 Q648.285 1558.83 651.664 1562 Q655.044 1565.18 655.044 1570.59 Q655.044 1576.17 651.572 1579.27 Q648.099 1582.35 641.78 1582.35 Q639.604 1582.35 637.336 1581.98 Q635.09 1581.61 632.683 1580.87 L632.683 1576.17 Q634.766 1577.3 636.988 1577.86 Q639.211 1578.42 641.687 1578.42 Q645.692 1578.42 648.03 1576.31 Q650.368 1574.2 650.368 1570.59 Q650.368 1566.98 648.03 1564.87 Q645.692 1562.77 641.687 1562.77 Q639.812 1562.77 637.937 1563.18 Q636.086 1563.6 634.141 1564.48 L634.141 1547.12 Z\" fill=\"#000000\" fill-rule=\"evenodd\" fill-opacity=\"1\" /><path clip-path=\"url(#clip820)\" d=\"M999.55 1564.85 L1029.23 1564.85 L1029.23 1568.79 L999.55 1568.79 L999.55 1564.85 Z\" fill=\"#000000\" fill-rule=\"evenodd\" fill-opacity=\"1\" /><path clip-path=\"url(#clip820)\" d=\"M1039.36 1547.12 L1057.72 1547.12 L1057.72 1551.06 L1043.65 1551.06 L1043.65 1559.53 Q1044.67 1559.18 1045.68 1559.02 Q1046.7 1558.83 1047.72 1558.83 Q1053.51 1558.83 1056.89 1562 Q1060.27 1565.18 1060.27 1570.59 Q1060.27 1576.17 1056.79 1579.27 Q1053.32 1582.35 1047 1582.35 Q1044.83 1582.35 1042.56 1581.98 Q1040.31 1581.61 1037.91 1580.87 L1037.91 1576.17 Q1039.99 1577.3 1042.21 1577.86 Q1044.43 1578.42 1046.91 1578.42 Q1050.92 1578.42 1053.25 1576.31 Q1055.59 1574.2 1055.59 1570.59 Q1055.59 1566.98 1053.25 1564.87 Q1050.92 1562.77 1046.91 1562.77 Q1045.04 1562.77 1043.16 1563.18 Q1041.31 1563.6 1039.36 1564.48 L1039.36 1547.12 Z\" fill=\"#000000\" fill-rule=\"evenodd\" fill-opacity=\"1\" /><path clip-path=\"url(#clip820)\" d=\"M1069.48 1575.8 L1074.36 1575.8 L1074.36 1581.68 L1069.48 1581.68 L1069.48 1575.8 Z\" fill=\"#000000\" fill-rule=\"evenodd\" fill-opacity=\"1\" /><path clip-path=\"url(#clip820)\" d=\"M1094.55 1550.2 Q1090.94 1550.2 1089.11 1553.76 Q1087.3 1557.31 1087.3 1564.43 Q1087.3 1571.54 1089.11 1575.11 Q1090.94 1578.65 1094.55 1578.65 Q1098.18 1578.65 1099.99 1575.11 Q1101.82 1571.54 1101.82 1564.43 Q1101.82 1557.31 1099.99 1553.76 Q1098.18 1550.2 1094.55 1550.2 M1094.55 1546.49 Q1100.36 1546.49 1103.41 1551.1 Q1106.49 1555.68 1106.49 1564.43 Q1106.49 1573.16 1103.41 1577.77 Q1100.36 1582.35 1094.55 1582.35 Q1088.74 1582.35 1085.66 1577.77 Q1082.6 1573.16 1082.6 1564.43 Q1082.6 1555.68 1085.66 1551.1 Q1088.74 1546.49 1094.55 1546.49 Z\" fill=\"#000000\" fill-rule=\"evenodd\" fill-opacity=\"1\" /><path clip-path=\"url(#clip820)\" d=\"M1451 1564.85 L1480.68 1564.85 L1480.68 1568.79 L1451 1568.79 L1451 1564.85 Z\" fill=\"#000000\" fill-rule=\"evenodd\" fill-opacity=\"1\" /><path clip-path=\"url(#clip820)\" d=\"M1494.8 1577.74 L1511.12 1577.74 L1511.12 1581.68 L1489.17 1581.68 L1489.17 1577.74 Q1491.83 1574.99 1496.42 1570.36 Q1501.02 1565.71 1502.2 1564.37 Q1504.45 1561.84 1505.33 1560.11 Q1506.23 1558.35 1506.23 1556.66 Q1506.23 1553.9 1504.29 1552.17 Q1502.37 1550.43 1499.26 1550.43 Q1497.06 1550.43 1494.61 1551.19 Q1492.18 1551.96 1489.4 1553.51 L1489.4 1548.79 Q1492.23 1547.65 1494.68 1547.07 Q1497.13 1546.49 1499.17 1546.49 Q1504.54 1546.49 1507.74 1549.18 Q1510.93 1551.87 1510.93 1556.36 Q1510.93 1558.49 1510.12 1560.41 Q1509.33 1562.3 1507.23 1564.9 Q1506.65 1565.57 1503.55 1568.79 Q1500.44 1571.98 1494.8 1577.74 Z\" fill=\"#000000\" fill-rule=\"evenodd\" fill-opacity=\"1\" /><path clip-path=\"url(#clip820)\" d=\"M1520.93 1575.8 L1525.81 1575.8 L1525.81 1581.68 L1520.93 1581.68 L1520.93 1575.8 Z\" fill=\"#000000\" fill-rule=\"evenodd\" fill-opacity=\"1\" /><path clip-path=\"url(#clip820)\" d=\"M1536.05 1547.12 L1554.4 1547.12 L1554.4 1551.06 L1540.33 1551.06 L1540.33 1559.53 Q1541.35 1559.18 1542.36 1559.02 Q1543.38 1558.83 1544.4 1558.83 Q1550.19 1558.83 1553.57 1562 Q1556.95 1565.18 1556.95 1570.59 Q1556.95 1576.17 1553.48 1579.27 Q1550 1582.35 1543.68 1582.35 Q1541.51 1582.35 1539.24 1581.98 Q1536.99 1581.61 1534.59 1580.87 L1534.59 1576.17 Q1536.67 1577.3 1538.89 1577.86 Q1541.11 1578.42 1543.59 1578.42 Q1547.6 1578.42 1549.93 1576.31 Q1552.27 1574.2 1552.27 1570.59 Q1552.27 1566.98 1549.93 1564.87 Q1547.6 1562.77 1543.59 1562.77 Q1541.72 1562.77 1539.84 1563.18 Q1537.99 1563.6 1536.05 1564.48 L1536.05 1547.12 Z\" fill=\"#000000\" fill-rule=\"evenodd\" fill-opacity=\"1\" /><path clip-path=\"url(#clip820)\" d=\"M1932.31 1550.2 Q1928.7 1550.2 1926.87 1553.76 Q1925.07 1557.31 1925.07 1564.43 Q1925.07 1571.54 1926.87 1575.11 Q1928.7 1578.65 1932.31 1578.65 Q1935.94 1578.65 1937.75 1575.11 Q1939.58 1571.54 1939.58 1564.43 Q1939.58 1557.31 1937.75 1553.76 Q1935.94 1550.2 1932.31 1550.2 M1932.31 1546.49 Q1938.12 1546.49 1941.18 1551.1 Q1944.25 1555.68 1944.25 1564.43 Q1944.25 1573.16 1941.18 1577.77 Q1938.12 1582.35 1932.31 1582.35 Q1926.5 1582.35 1923.42 1577.77 Q1920.37 1573.16 1920.37 1564.43 Q1920.37 1555.68 1923.42 1551.1 Q1926.5 1546.49 1932.31 1546.49 Z\" fill=\"#000000\" fill-rule=\"evenodd\" fill-opacity=\"1\" /><path clip-path=\"url(#clip820)\" d=\"M1952.47 1575.8 L1957.36 1575.8 L1957.36 1581.68 L1952.47 1581.68 L1952.47 1575.8 Z\" fill=\"#000000\" fill-rule=\"evenodd\" fill-opacity=\"1\" /><path clip-path=\"url(#clip820)\" d=\"M1977.54 1550.2 Q1973.93 1550.2 1972.1 1553.76 Q1970.3 1557.31 1970.3 1564.43 Q1970.3 1571.54 1972.1 1575.11 Q1973.93 1578.65 1977.54 1578.65 Q1981.18 1578.65 1982.98 1575.11 Q1984.81 1571.54 1984.81 1564.43 Q1984.81 1557.31 1982.98 1553.76 Q1981.18 1550.2 1977.54 1550.2 M1977.54 1546.49 Q1983.35 1546.49 1986.41 1551.1 Q1989.49 1555.68 1989.49 1564.43 Q1989.49 1573.16 1986.41 1577.77 Q1983.35 1582.35 1977.54 1582.35 Q1971.73 1582.35 1968.65 1577.77 Q1965.6 1573.16 1965.6 1564.43 Q1965.6 1555.68 1968.65 1551.1 Q1971.73 1546.49 1977.54 1546.49 Z\" fill=\"#000000\" fill-rule=\"evenodd\" fill-opacity=\"1\" /><polyline clip-path=\"url(#clip822)\" style=\"stroke:#000000; stroke-linecap:butt; stroke-linejoin:round; stroke-width:2; stroke-opacity:0.1; fill:none\" points=\"\n",
       "  86.9921,1479.3 2352.76,1479.3 \n",
       "  \"/>\n",
       "<polyline clip-path=\"url(#clip822)\" style=\"stroke:#000000; stroke-linecap:butt; stroke-linejoin:round; stroke-width:2; stroke-opacity:0.1; fill:none\" points=\"\n",
       "  86.9921,1189.64 2352.76,1189.64 \n",
       "  \"/>\n",
       "<polyline clip-path=\"url(#clip822)\" style=\"stroke:#000000; stroke-linecap:butt; stroke-linejoin:round; stroke-width:2; stroke-opacity:0.1; fill:none\" points=\"\n",
       "  86.9921,899.988 2352.76,899.988 \n",
       "  \"/>\n",
       "<polyline clip-path=\"url(#clip822)\" style=\"stroke:#000000; stroke-linecap:butt; stroke-linejoin:round; stroke-width:2; stroke-opacity:0.1; fill:none\" points=\"\n",
       "  86.9921,610.333 2352.76,610.333 \n",
       "  \"/>\n",
       "<polyline clip-path=\"url(#clip822)\" style=\"stroke:#000000; stroke-linecap:butt; stroke-linejoin:round; stroke-width:2; stroke-opacity:0.1; fill:none\" points=\"\n",
       "  86.9921,320.678 2352.76,320.678 \n",
       "  \"/>\n",
       "<polyline clip-path=\"url(#clip820)\" style=\"stroke:#000000; stroke-linecap:butt; stroke-linejoin:round; stroke-width:4; stroke-opacity:1; fill:none\" points=\"\n",
       "  86.9921,1521.01 86.9921,47.2441 \n",
       "  \"/>\n",
       "<polyline clip-path=\"url(#clip820)\" style=\"stroke:#000000; stroke-linecap:butt; stroke-linejoin:round; stroke-width:4; stroke-opacity:1; fill:none\" points=\"\n",
       "  86.9921,1479.3 114.181,1479.3 \n",
       "  \"/>\n",
       "<polyline clip-path=\"url(#clip820)\" style=\"stroke:#000000; stroke-linecap:butt; stroke-linejoin:round; stroke-width:4; stroke-opacity:1; fill:none\" points=\"\n",
       "  86.9921,1189.64 114.181,1189.64 \n",
       "  \"/>\n",
       "<polyline clip-path=\"url(#clip820)\" style=\"stroke:#000000; stroke-linecap:butt; stroke-linejoin:round; stroke-width:4; stroke-opacity:1; fill:none\" points=\"\n",
       "  86.9921,899.988 114.181,899.988 \n",
       "  \"/>\n",
       "<polyline clip-path=\"url(#clip820)\" style=\"stroke:#000000; stroke-linecap:butt; stroke-linejoin:round; stroke-width:4; stroke-opacity:1; fill:none\" points=\"\n",
       "  86.9921,610.333 114.181,610.333 \n",
       "  \"/>\n",
       "<polyline clip-path=\"url(#clip820)\" style=\"stroke:#000000; stroke-linecap:butt; stroke-linejoin:round; stroke-width:4; stroke-opacity:1; fill:none\" points=\"\n",
       "  86.9921,320.678 114.181,320.678 \n",
       "  \"/>\n",
       "<path clip-path=\"url(#clip820)\" d=\"M-86.1136 1479.75 L-56.4379 1479.75 L-56.4379 1483.68 L-86.1136 1483.68 L-86.1136 1479.75 Z\" fill=\"#000000\" fill-rule=\"evenodd\" fill-opacity=\"1\" /><path clip-path=\"url(#clip820)\" d=\"M-45.5351 1492.64 L-37.8963 1492.64 L-37.8963 1466.28 L-46.2064 1467.94 L-46.2064 1463.68 L-37.9426 1462.02 L-33.2667 1462.02 L-33.2667 1492.64 L-25.6278 1492.64 L-25.6278 1496.58 L-45.5351 1496.58 L-45.5351 1492.64 Z\" fill=\"#000000\" fill-rule=\"evenodd\" fill-opacity=\"1\" /><path clip-path=\"url(#clip820)\" d=\"M-6.18349 1465.1 Q-9.79459 1465.1 -11.6233 1468.66 Q-13.4288 1472.2 -13.4288 1479.33 Q-13.4288 1486.44 -11.6233 1490 Q-9.79459 1493.55 -6.18349 1493.55 Q-2.54925 1493.55 -0.743708 1490 Q1.08499 1486.44 1.08499 1479.33 Q1.08499 1472.2 -0.743708 1468.66 Q-2.54925 1465.1 -6.18349 1465.1 M-6.18349 1461.39 Q-0.37334 1461.39 2.6822 1466 Q5.76089 1470.58 5.76089 1479.33 Q5.76089 1488.06 2.6822 1492.67 Q-0.37334 1497.25 -6.18349 1497.25 Q-11.9936 1497.25 -15.0723 1492.67 Q-18.1279 1488.06 -18.1279 1479.33 Q-18.1279 1470.58 -15.0723 1466 Q-11.9936 1461.39 -6.18349 1461.39 Z\" fill=\"#000000\" fill-rule=\"evenodd\" fill-opacity=\"1\" /><path clip-path=\"url(#clip820)\" d=\"M13.9784 1490.7 L18.8627 1490.7 L18.8627 1496.58 L13.9784 1496.58 L13.9784 1490.7 Z\" fill=\"#000000\" fill-rule=\"evenodd\" fill-opacity=\"1\" /><path clip-path=\"url(#clip820)\" d=\"M39.0477 1465.1 Q35.4367 1465.1 33.608 1468.66 Q31.8024 1472.2 31.8024 1479.33 Q31.8024 1486.44 33.608 1490 Q35.4367 1493.55 39.0477 1493.55 Q42.682 1493.55 44.4875 1490 Q46.3162 1486.44 46.3162 1479.33 Q46.3162 1472.2 44.4875 1468.66 Q42.682 1465.1 39.0477 1465.1 M39.0477 1461.39 Q44.8579 1461.39 47.9134 1466 Q50.9921 1470.58 50.9921 1479.33 Q50.9921 1488.06 47.9134 1492.67 Q44.8579 1497.25 39.0477 1497.25 Q33.2376 1497.25 30.1589 1492.67 Q27.1034 1488.06 27.1034 1479.33 Q27.1034 1470.58 30.1589 1466 Q33.2376 1461.39 39.0477 1461.39 Z\" fill=\"#000000\" fill-rule=\"evenodd\" fill-opacity=\"1\" /><path clip-path=\"url(#clip820)\" d=\"M-54.9564 1190.09 L-25.2806 1190.09 L-25.2806 1194.03 L-54.9564 1194.03 L-54.9564 1190.09 Z\" fill=\"#000000\" fill-rule=\"evenodd\" fill-opacity=\"1\" /><path clip-path=\"url(#clip820)\" d=\"M-16.3686 1172.36 L5.85348 1172.36 L5.85348 1174.35 L-6.69275 1206.92 L-11.577 1206.92 L0.228509 1176.3 L-16.3686 1176.3 L-16.3686 1172.36 Z\" fill=\"#000000\" fill-rule=\"evenodd\" fill-opacity=\"1\" /><path clip-path=\"url(#clip820)\" d=\"M14.9738 1201.04 L19.858 1201.04 L19.858 1206.92 L14.9738 1206.92 L14.9738 1201.04 Z\" fill=\"#000000\" fill-rule=\"evenodd\" fill-opacity=\"1\" /><path clip-path=\"url(#clip820)\" d=\"M30.0895 1172.36 L48.4458 1172.36 L48.4458 1176.3 L34.3718 1176.3 L34.3718 1184.77 Q35.3904 1184.42 36.4089 1184.26 Q37.4274 1184.08 38.4459 1184.08 Q44.2329 1184.08 47.6125 1187.25 Q50.9921 1190.42 50.9921 1195.83 Q50.9921 1201.41 47.5199 1204.52 Q44.0477 1207.59 37.7283 1207.59 Q35.5524 1207.59 33.2839 1207.22 Q31.0385 1206.85 28.6311 1206.11 L28.6311 1201.41 Q30.7145 1202.55 32.9367 1203.1 Q35.1589 1203.66 37.6357 1203.66 Q41.6403 1203.66 43.9783 1201.55 Q46.3162 1199.45 46.3162 1195.83 Q46.3162 1192.22 43.9783 1190.12 Q41.6403 1188.01 37.6357 1188.01 Q35.7607 1188.01 33.8857 1188.43 Q32.0339 1188.84 30.0895 1189.72 L30.0895 1172.36 Z\" fill=\"#000000\" fill-rule=\"evenodd\" fill-opacity=\"1\" /><path clip-path=\"url(#clip820)\" d=\"M-55.9517 900.439 L-26.276 900.439 L-26.276 904.374 L-55.9517 904.374 L-55.9517 900.439 Z\" fill=\"#000000\" fill-rule=\"evenodd\" fill-opacity=\"1\" /><path clip-path=\"url(#clip820)\" d=\"M-16.1371 882.708 L2.21924 882.708 L2.21924 886.643 L-11.8548 886.643 L-11.8548 895.115 Q-10.8362 894.768 -9.81773 894.606 Q-8.79922 894.421 -7.78071 894.421 Q-1.9937 894.421 1.38591 897.592 Q4.76552 900.763 4.76552 906.18 Q4.76552 911.759 1.29332 914.861 Q-2.17889 917.939 -8.4983 917.939 Q-10.6742 917.939 -12.9427 917.569 Q-15.1881 917.198 -17.5955 916.458 L-17.5955 911.759 Q-15.5121 912.893 -13.2899 913.448 Q-11.0677 914.004 -8.59089 914.004 Q-4.58628 914.004 -2.24833 911.898 Q0.089621 909.791 0.089621 906.18 Q0.089621 902.569 -2.24833 900.462 Q-4.58628 898.356 -8.59089 898.356 Q-10.4659 898.356 -12.3409 898.773 Q-14.1927 899.189 -16.1371 900.069 L-16.1371 882.708 Z\" fill=\"#000000\" fill-rule=\"evenodd\" fill-opacity=\"1\" /><path clip-path=\"url(#clip820)\" d=\"M13.9784 911.388 L18.8627 911.388 L18.8627 917.268 L13.9784 917.268 L13.9784 911.388 Z\" fill=\"#000000\" fill-rule=\"evenodd\" fill-opacity=\"1\" /><path clip-path=\"url(#clip820)\" d=\"M39.0477 885.787 Q35.4367 885.787 33.608 889.351 Q31.8024 892.893 31.8024 900.023 Q31.8024 907.129 33.608 910.694 Q35.4367 914.236 39.0477 914.236 Q42.682 914.236 44.4875 910.694 Q46.3162 907.129 46.3162 900.023 Q46.3162 892.893 44.4875 889.351 Q42.682 885.787 39.0477 885.787 M39.0477 882.083 Q44.8579 882.083 47.9134 886.689 Q50.9921 891.273 50.9921 900.023 Q50.9921 908.749 47.9134 913.356 Q44.8579 917.939 39.0477 917.939 Q33.2376 917.939 30.1589 913.356 Q27.1034 908.749 27.1034 900.023 Q27.1034 891.273 30.1589 886.689 Q33.2376 882.083 39.0477 882.083 Z\" fill=\"#000000\" fill-rule=\"evenodd\" fill-opacity=\"1\" /><path clip-path=\"url(#clip820)\" d=\"M-54.9564 610.784 L-25.2806 610.784 L-25.2806 614.72 L-54.9564 614.72 L-54.9564 610.784 Z\" fill=\"#000000\" fill-rule=\"evenodd\" fill-opacity=\"1\" /><path clip-path=\"url(#clip820)\" d=\"M-11.1603 623.678 L5.15904 623.678 L5.15904 627.613 L-16.7853 627.613 L-16.7853 623.678 Q-14.1233 620.923 -9.53996 616.294 Q-4.9335 611.641 -3.75295 610.298 Q-1.50759 607.775 -0.627968 606.039 Q0.274805 604.28 0.274805 602.59 Q0.274805 599.835 -1.66963 598.099 Q-3.59091 596.363 -6.69275 596.363 Q-8.89181 596.363 -11.3455 597.127 Q-13.776 597.891 -16.5538 599.442 L-16.5538 594.72 Q-13.7297 593.585 -11.2761 593.007 Q-8.82237 592.428 -6.78534 592.428 Q-1.415 592.428 1.77943 595.113 Q4.97385 597.798 4.97385 602.289 Q4.97385 604.419 4.16367 606.34 Q3.37664 608.238 1.27017 610.831 Q0.69147 611.502 -2.41037 614.72 Q-5.5122 617.914 -11.1603 623.678 Z\" fill=\"#000000\" fill-rule=\"evenodd\" fill-opacity=\"1\" /><path clip-path=\"url(#clip820)\" d=\"M14.9738 621.733 L19.858 621.733 L19.858 627.613 L14.9738 627.613 L14.9738 621.733 Z\" fill=\"#000000\" fill-rule=\"evenodd\" fill-opacity=\"1\" /><path clip-path=\"url(#clip820)\" d=\"M30.0895 593.053 L48.4458 593.053 L48.4458 596.988 L34.3718 596.988 L34.3718 605.46 Q35.3904 605.113 36.4089 604.951 Q37.4274 604.766 38.4459 604.766 Q44.2329 604.766 47.6125 607.937 Q50.9921 611.109 50.9921 616.525 Q50.9921 622.104 47.5199 625.206 Q44.0477 628.284 37.7283 628.284 Q35.5524 628.284 33.2839 627.914 Q31.0385 627.544 28.6311 626.803 L28.6311 622.104 Q30.7145 623.238 32.9367 623.794 Q35.1589 624.349 37.6357 624.349 Q41.6403 624.349 43.9783 622.243 Q46.3162 620.136 46.3162 616.525 Q46.3162 612.914 43.9783 610.808 Q41.6403 608.701 37.6357 608.701 Q35.7607 608.701 33.8857 609.118 Q32.0339 609.534 30.0895 610.414 L30.0895 593.053 Z\" fill=\"#000000\" fill-rule=\"evenodd\" fill-opacity=\"1\" /><path clip-path=\"url(#clip820)\" d=\"M-6.18349 306.477 Q-9.79459 306.477 -11.6233 310.042 Q-13.4288 313.583 -13.4288 320.713 Q-13.4288 327.819 -11.6233 331.384 Q-9.79459 334.926 -6.18349 334.926 Q-2.54925 334.926 -0.743708 331.384 Q1.08499 327.819 1.08499 320.713 Q1.08499 313.583 -0.743708 310.042 Q-2.54925 306.477 -6.18349 306.477 M-6.18349 302.773 Q-0.37334 302.773 2.6822 307.38 Q5.76089 311.963 5.76089 320.713 Q5.76089 329.44 2.6822 334.046 Q-0.37334 338.63 -6.18349 338.63 Q-11.9936 338.63 -15.0723 334.046 Q-18.1279 329.44 -18.1279 320.713 Q-18.1279 311.963 -15.0723 307.38 Q-11.9936 302.773 -6.18349 302.773 Z\" fill=\"#000000\" fill-rule=\"evenodd\" fill-opacity=\"1\" /><path clip-path=\"url(#clip820)\" d=\"M13.9784 332.079 L18.8627 332.079 L18.8627 337.958 L13.9784 337.958 L13.9784 332.079 Z\" fill=\"#000000\" fill-rule=\"evenodd\" fill-opacity=\"1\" /><path clip-path=\"url(#clip820)\" d=\"M39.0477 306.477 Q35.4367 306.477 33.608 310.042 Q31.8024 313.583 31.8024 320.713 Q31.8024 327.819 33.608 331.384 Q35.4367 334.926 39.0477 334.926 Q42.682 334.926 44.4875 331.384 Q46.3162 327.819 46.3162 320.713 Q46.3162 313.583 44.4875 310.042 Q42.682 306.477 39.0477 306.477 M39.0477 302.773 Q44.8579 302.773 47.9134 307.38 Q50.9921 311.963 50.9921 320.713 Q50.9921 329.44 47.9134 334.046 Q44.8579 338.63 39.0477 338.63 Q33.2376 338.63 30.1589 334.046 Q27.1034 329.44 27.1034 320.713 Q27.1034 311.963 30.1589 307.38 Q33.2376 302.773 39.0477 302.773 Z\" fill=\"#000000\" fill-rule=\"evenodd\" fill-opacity=\"1\" /><path clip-path=\"url(#clip822)\" d=\"\n",
       "M872.641 204.816 L1053.02 204.816 L1053.02 899.988 L872.641 899.988 L872.641 204.816 L872.641 204.816  Z\n",
       "  \" fill=\"#ffffff\" fill-rule=\"evenodd\" fill-opacity=\"1\"/>\n",
       "<polyline clip-path=\"url(#clip822)\" style=\"stroke:#000000; stroke-linecap:butt; stroke-linejoin:round; stroke-width:4; stroke-opacity:1; fill:none\" points=\"\n",
       "  872.641,204.816 1053.02,204.816 1053.02,899.988 872.641,899.988 872.641,204.816 \n",
       "  \"/>\n",
       "<path clip-path=\"url(#clip822)\" d=\"\n",
       "M151.118 88.9544 L872.641 88.9544 L872.641 899.988 L151.118 899.988 L151.118 88.9544 L151.118 88.9544  Z\n",
       "  \" fill=\"#ffffff\" fill-rule=\"evenodd\" fill-opacity=\"1\"/>\n",
       "<polyline clip-path=\"url(#clip822)\" style=\"stroke:#000000; stroke-linecap:butt; stroke-linejoin:round; stroke-width:4; stroke-opacity:1; fill:none\" points=\"\n",
       "  151.118,88.9544 872.641,88.9544 872.641,899.988 151.118,899.988 151.118,88.9544 \n",
       "  \"/>\n",
       "<path clip-path=\"url(#clip822)\" d=\"\n",
       "M1053.02 784.126 L2288.63 784.126 L2288.63 1479.3 L1053.02 1479.3 L1053.02 784.126 L1053.02 784.126  Z\n",
       "  \" fill=\"#ffffff\" fill-rule=\"evenodd\" fill-opacity=\"1\"/>\n",
       "<polyline clip-path=\"url(#clip822)\" style=\"stroke:#000000; stroke-linecap:butt; stroke-linejoin:round; stroke-width:4; stroke-opacity:1; fill:none\" points=\"\n",
       "  1053.02,784.126 2288.63,784.126 2288.63,1479.3 1053.02,1479.3 1053.02,784.126 \n",
       "  \"/>\n",
       "<path clip-path=\"url(#clip822)\" d=\"\n",
       "M1233.4 88.9544 L1864.74 88.9544 L1864.74 668.264 L1233.4 668.264 L1233.4 88.9544 L1233.4 88.9544  Z\n",
       "  \" fill=\"#ffffff\" fill-rule=\"evenodd\" fill-opacity=\"1\"/>\n",
       "<polyline clip-path=\"url(#clip822)\" style=\"stroke:#000000; stroke-linecap:butt; stroke-linejoin:round; stroke-width:4; stroke-opacity:1; fill:none\" points=\"\n",
       "  1233.4,88.9544 1864.74,88.9544 1864.74,668.264 1233.4,668.264 1233.4,88.9544 \n",
       "  \"/>\n",
       "<path clip-path=\"url(#clip822)\" d=\"\n",
       "M1053.02 88.9544 L1233.4 88.9544 L1233.4 552.402 L1053.02 552.402 L1053.02 88.9544 L1053.02 88.9544  Z\n",
       "  \" fill=\"#ffffff\" fill-rule=\"evenodd\" fill-opacity=\"1\"/>\n",
       "<polyline clip-path=\"url(#clip822)\" style=\"stroke:#000000; stroke-linecap:butt; stroke-linejoin:round; stroke-width:4; stroke-opacity:1; fill:none\" points=\"\n",
       "  1053.02,88.9544 1233.4,88.9544 1233.4,552.402 1053.02,552.402 1053.02,88.9544 \n",
       "  \"/>\n",
       "<path clip-path=\"url(#clip822)\" d=\"\n",
       "M1864.74 378.609 L2045.12 378.609 L2045.12 668.264 L1864.74 668.264 L1864.74 378.609 L1864.74 378.609  Z\n",
       "  \" fill=\"#ffffff\" fill-rule=\"evenodd\" fill-opacity=\"1\"/>\n",
       "<polyline clip-path=\"url(#clip822)\" style=\"stroke:#000000; stroke-linecap:butt; stroke-linejoin:round; stroke-width:4; stroke-opacity:1; fill:none\" points=\"\n",
       "  1864.74,378.609 2045.12,378.609 2045.12,668.264 1864.74,668.264 1864.74,378.609 \n",
       "  \"/>\n",
       "<path clip-path=\"url(#clip822)\" d=\"\n",
       "M1864.74 262.747 L1864.74 88.9544 L2045.12 88.9544 L2045.12 262.747 L1864.74 262.747 L1864.74 262.747  Z\n",
       "  \" fill=\"#ffffff\" fill-rule=\"evenodd\" fill-opacity=\"1\"/>\n",
       "<polyline clip-path=\"url(#clip822)\" style=\"stroke:#000000; stroke-linecap:butt; stroke-linejoin:round; stroke-width:4; stroke-opacity:1; fill:none\" points=\"\n",
       "  1864.74,262.747 1864.74,88.9544 2045.12,88.9544 2045.12,262.747 1864.74,262.747 \n",
       "  \"/>\n",
       "<path clip-path=\"url(#clip822)\" d=\"\n",
       "M2045.12 88.9544 L2288.63 88.9544 L2288.63 668.264 L2045.12 668.264 L2045.12 88.9544 L2045.12 88.9544  Z\n",
       "  \" fill=\"#ffffff\" fill-rule=\"evenodd\" fill-opacity=\"1\"/>\n",
       "<polyline clip-path=\"url(#clip822)\" style=\"stroke:#000000; stroke-linecap:butt; stroke-linejoin:round; stroke-width:4; stroke-opacity:1; fill:none\" points=\"\n",
       "  2045.12,88.9544 2288.63,88.9544 2288.63,668.264 2045.12,668.264 2045.12,88.9544 \n",
       "  \"/>\n",
       "<path clip-path=\"url(#clip822)\" d=\"\n",
       "M1864.74 378.609 L1864.74 262.747 L2045.12 262.747 L2045.12 378.609 L1864.74 378.609 L1864.74 378.609  Z\n",
       "  \" fill=\"#ffffff\" fill-rule=\"evenodd\" fill-opacity=\"1\"/>\n",
       "<polyline clip-path=\"url(#clip822)\" style=\"stroke:#000000; stroke-linecap:butt; stroke-linejoin:round; stroke-width:4; stroke-opacity:1; fill:none\" points=\"\n",
       "  1864.74,378.609 1864.74,262.747 2045.12,262.747 2045.12,378.609 1864.74,378.609 \n",
       "  \"/>\n",
       "<path clip-path=\"url(#clip822)\" d=\"\n",
       "M872.641 204.816 L872.641 88.9544 L1053.02 88.9544 L1053.02 204.816 L872.641 204.816 L872.641 204.816  Z\n",
       "  \" fill=\"#ffffff\" fill-rule=\"evenodd\" fill-opacity=\"1\"/>\n",
       "<polyline clip-path=\"url(#clip822)\" style=\"stroke:#000000; stroke-linecap:butt; stroke-linejoin:round; stroke-width:4; stroke-opacity:1; fill:none\" points=\"\n",
       "  872.641,204.816 872.641,88.9544 1053.02,88.9544 1053.02,204.816 872.641,204.816 \n",
       "  \"/>\n",
       "<path clip-path=\"url(#clip822)\" d=\"\n",
       "M1053.02 552.402 L1233.4 552.402 L1233.4 668.264 L1053.02 668.264 L1053.02 552.402 L1053.02 552.402  Z\n",
       "  \" fill=\"#ffffff\" fill-rule=\"evenodd\" fill-opacity=\"1\"/>\n",
       "<polyline clip-path=\"url(#clip822)\" style=\"stroke:#000000; stroke-linecap:butt; stroke-linejoin:round; stroke-width:4; stroke-opacity:1; fill:none\" points=\"\n",
       "  1053.02,552.402 1233.4,552.402 1233.4,668.264 1053.02,668.264 1053.02,552.402 \n",
       "  \"/>\n",
       "<path clip-path=\"url(#clip822)\" d=\"\n",
       "M872.641 204.816 L1053.02 204.816 L1053.02 899.988 L872.641 899.988 L872.641 204.816 L872.641 204.816  Z\n",
       "  \" fill=\"#ffffff\" fill-rule=\"evenodd\" fill-opacity=\"1\"/>\n",
       "<polyline clip-path=\"url(#clip822)\" style=\"stroke:#000000; stroke-linecap:butt; stroke-linejoin:round; stroke-width:4; stroke-opacity:1; fill:none\" points=\"\n",
       "  872.641,204.816 1053.02,204.816 1053.02,899.988 872.641,899.988 872.641,204.816 \n",
       "  \"/>\n",
       "<path clip-path=\"url(#clip822)\" d=\"\n",
       "M151.118 88.9544 L872.641 88.9544 L872.641 899.988 L151.118 899.988 L151.118 88.9544 L151.118 88.9544  Z\n",
       "  \" fill=\"#ffffff\" fill-rule=\"evenodd\" fill-opacity=\"1\"/>\n",
       "<polyline clip-path=\"url(#clip822)\" style=\"stroke:#000000; stroke-linecap:butt; stroke-linejoin:round; stroke-width:4; stroke-opacity:1; fill:none\" points=\"\n",
       "  151.118,88.9544 872.641,88.9544 872.641,899.988 151.118,899.988 151.118,88.9544 \n",
       "  \"/>\n",
       "<path clip-path=\"url(#clip822)\" d=\"\n",
       "M1053.02 784.126 L2288.63 784.126 L2288.63 1479.3 L1053.02 1479.3 L1053.02 784.126 L1053.02 784.126  Z\n",
       "  \" fill=\"#ffffff\" fill-rule=\"evenodd\" fill-opacity=\"1\"/>\n",
       "<polyline clip-path=\"url(#clip822)\" style=\"stroke:#000000; stroke-linecap:butt; stroke-linejoin:round; stroke-width:4; stroke-opacity:1; fill:none\" points=\"\n",
       "  1053.02,784.126 2288.63,784.126 2288.63,1479.3 1053.02,1479.3 1053.02,784.126 \n",
       "  \"/>\n",
       "<path clip-path=\"url(#clip822)\" d=\"\n",
       "M1233.4 88.9544 L1864.74 88.9544 L1864.74 668.264 L1233.4 668.264 L1233.4 88.9544 L1233.4 88.9544  Z\n",
       "  \" fill=\"#ffffff\" fill-rule=\"evenodd\" fill-opacity=\"1\"/>\n",
       "<polyline clip-path=\"url(#clip822)\" style=\"stroke:#000000; stroke-linecap:butt; stroke-linejoin:round; stroke-width:4; stroke-opacity:1; fill:none\" points=\"\n",
       "  1233.4,88.9544 1864.74,88.9544 1864.74,668.264 1233.4,668.264 1233.4,88.9544 \n",
       "  \"/>\n",
       "<path clip-path=\"url(#clip822)\" d=\"\n",
       "M1053.02 88.9544 L1233.4 88.9544 L1233.4 552.402 L1053.02 552.402 L1053.02 88.9544 L1053.02 88.9544  Z\n",
       "  \" fill=\"#ffffff\" fill-rule=\"evenodd\" fill-opacity=\"1\"/>\n",
       "<polyline clip-path=\"url(#clip822)\" style=\"stroke:#000000; stroke-linecap:butt; stroke-linejoin:round; stroke-width:4; stroke-opacity:1; fill:none\" points=\"\n",
       "  1053.02,88.9544 1233.4,88.9544 1233.4,552.402 1053.02,552.402 1053.02,88.9544 \n",
       "  \"/>\n",
       "<path clip-path=\"url(#clip822)\" d=\"\n",
       "M1864.74 378.609 L2045.12 378.609 L2045.12 668.264 L1864.74 668.264 L1864.74 378.609 L1864.74 378.609  Z\n",
       "  \" fill=\"#ffffff\" fill-rule=\"evenodd\" fill-opacity=\"1\"/>\n",
       "<polyline clip-path=\"url(#clip822)\" style=\"stroke:#000000; stroke-linecap:butt; stroke-linejoin:round; stroke-width:4; stroke-opacity:1; fill:none\" points=\"\n",
       "  1864.74,378.609 2045.12,378.609 2045.12,668.264 1864.74,668.264 1864.74,378.609 \n",
       "  \"/>\n",
       "<path clip-path=\"url(#clip822)\" d=\"\n",
       "M1864.74 262.747 L1864.74 88.9544 L2045.12 88.9544 L2045.12 262.747 L1864.74 262.747 L1864.74 262.747  Z\n",
       "  \" fill=\"#ffffff\" fill-rule=\"evenodd\" fill-opacity=\"1\"/>\n",
       "<polyline clip-path=\"url(#clip822)\" style=\"stroke:#000000; stroke-linecap:butt; stroke-linejoin:round; stroke-width:4; stroke-opacity:1; fill:none\" points=\"\n",
       "  1864.74,262.747 1864.74,88.9544 2045.12,88.9544 2045.12,262.747 1864.74,262.747 \n",
       "  \"/>\n",
       "<path clip-path=\"url(#clip822)\" d=\"\n",
       "M2045.12 88.9544 L2288.63 88.9544 L2288.63 668.264 L2045.12 668.264 L2045.12 88.9544 L2045.12 88.9544  Z\n",
       "  \" fill=\"#ffffff\" fill-rule=\"evenodd\" fill-opacity=\"1\"/>\n",
       "<polyline clip-path=\"url(#clip822)\" style=\"stroke:#000000; stroke-linecap:butt; stroke-linejoin:round; stroke-width:4; stroke-opacity:1; fill:none\" points=\"\n",
       "  2045.12,88.9544 2288.63,88.9544 2288.63,668.264 2045.12,668.264 2045.12,88.9544 \n",
       "  \"/>\n",
       "<path clip-path=\"url(#clip822)\" d=\"\n",
       "M1864.74 378.609 L1864.74 262.747 L2045.12 262.747 L2045.12 378.609 L1864.74 378.609 L1864.74 378.609  Z\n",
       "  \" fill=\"#ffffff\" fill-rule=\"evenodd\" fill-opacity=\"1\"/>\n",
       "<polyline clip-path=\"url(#clip822)\" style=\"stroke:#000000; stroke-linecap:butt; stroke-linejoin:round; stroke-width:4; stroke-opacity:1; fill:none\" points=\"\n",
       "  1864.74,378.609 1864.74,262.747 2045.12,262.747 2045.12,378.609 1864.74,378.609 \n",
       "  \"/>\n",
       "<path clip-path=\"url(#clip822)\" d=\"\n",
       "M151.118 899.988 L1053.02 899.988 L1053.02 1479.3 L151.118 1479.3 L151.118 899.988 L151.118 899.988  Z\n",
       "  \" fill=\"#000000\" fill-rule=\"evenodd\" fill-opacity=\"0.1\"/>\n",
       "<polyline clip-path=\"url(#clip822)\" style=\"stroke:#000000; stroke-linecap:butt; stroke-linejoin:round; stroke-width:4; stroke-opacity:1; fill:none\" points=\"\n",
       "  151.118,899.988 1053.02,899.988 1053.02,1479.3 151.118,1479.3 151.118,899.988 \n",
       "  \"/>\n",
       "<path clip-path=\"url(#clip822)\" d=\"\n",
       "M1053.02 668.264 L2288.63 668.264 L2288.63 784.126 L1053.02 784.126 L1053.02 668.264 L1053.02 668.264  Z\n",
       "  \" fill=\"#000000\" fill-rule=\"evenodd\" fill-opacity=\"0.1\"/>\n",
       "<polyline clip-path=\"url(#clip822)\" style=\"stroke:#000000; stroke-linecap:butt; stroke-linejoin:round; stroke-width:4; stroke-opacity:1; fill:none\" points=\"\n",
       "  1053.02,668.264 2288.63,668.264 2288.63,784.126 1053.02,784.126 1053.02,668.264 \n",
       "  \"/>\n",
       "<circle clip-path=\"url(#clip822)\" cx=\"2135.31\" cy=\"1015.85\" r=\"14\" fill=\"#ed5d92\" fill-rule=\"evenodd\" fill-opacity=\"1\" stroke=\"#000000\" stroke-opacity=\"1\" stroke-width=\"3.2\"/>\n",
       "<circle clip-path=\"url(#clip822)\" cx=\"1229.43\" cy=\"789.234\" r=\"14\" fill=\"#c68125\" fill-rule=\"evenodd\" fill-opacity=\"1\" stroke=\"#000000\" stroke-opacity=\"1\" stroke-width=\"3.2\"/>\n",
       "<circle clip-path=\"url(#clip822)\" cx=\"650.746\" cy=\"595.517\" r=\"14\" fill=\"#c68125\" fill-rule=\"evenodd\" fill-opacity=\"1\" stroke=\"#000000\" stroke-opacity=\"1\" stroke-width=\"3.2\"/>\n",
       "<circle clip-path=\"url(#clip822)\" cx=\"348.045\" cy=\"434.7\" r=\"14\" fill=\"#c68125\" fill-rule=\"evenodd\" fill-opacity=\"1\" stroke=\"#000000\" stroke-opacity=\"1\" stroke-width=\"3.2\"/>\n",
       "<circle clip-path=\"url(#clip822)\" cx=\"270.104\" cy=\"306.782\" r=\"14\" fill=\"#c68125\" fill-rule=\"evenodd\" fill-opacity=\"1\" stroke=\"#000000\" stroke-opacity=\"1\" stroke-width=\"3.2\"/>\n",
       "<circle clip-path=\"url(#clip822)\" cx=\"365.703\" cy=\"211.764\" r=\"14\" fill=\"#c68125\" fill-rule=\"evenodd\" fill-opacity=\"1\" stroke=\"#000000\" stroke-opacity=\"1\" stroke-width=\"3.2\"/>\n",
       "<circle clip-path=\"url(#clip822)\" cx=\"583.622\" cy=\"149.645\" r=\"14\" fill=\"#c68125\" fill-rule=\"evenodd\" fill-opacity=\"1\" stroke=\"#000000\" stroke-opacity=\"1\" stroke-width=\"3.2\"/>\n",
       "<circle clip-path=\"url(#clip822)\" cx=\"872.641\" cy=\"120.426\" r=\"14\" fill=\"#c68125\" fill-rule=\"evenodd\" fill-opacity=\"1\" stroke=\"#000000\" stroke-opacity=\"1\" stroke-width=\"3.2\"/>\n",
       "<circle clip-path=\"url(#clip822)\" cx=\"1184.94\" cy=\"119.744\" r=\"14\" fill=\"#c68125\" fill-rule=\"evenodd\" fill-opacity=\"1\" stroke=\"#000000\" stroke-opacity=\"1\" stroke-width=\"3.2\"/>\n",
       "<circle clip-path=\"url(#clip822)\" cx=\"1479.48\" cy=\"143.237\" r=\"14\" fill=\"#c68125\" fill-rule=\"evenodd\" fill-opacity=\"1\" stroke=\"#000000\" stroke-opacity=\"1\" stroke-width=\"3.2\"/>\n",
       "<circle clip-path=\"url(#clip822)\" cx=\"1718.62\" cy=\"190.905\" r=\"14\" fill=\"#c68125\" fill-rule=\"evenodd\" fill-opacity=\"1\" stroke=\"#000000\" stroke-opacity=\"1\" stroke-width=\"3.2\"/>\n",
       "<circle clip-path=\"url(#clip822)\" cx=\"1864.74\" cy=\"262.747\" r=\"14\" fill=\"#c68125\" fill-rule=\"evenodd\" fill-opacity=\"1\" stroke=\"#000000\" stroke-opacity=\"1\" stroke-width=\"3.2\"/>\n",
       "<path clip-path=\"url(#clip820)\" d=\"M948.404 572.419 L959.863 572.419 L959.863 532.871 L947.397 535.371 L947.397 528.982 L959.793 526.482 L966.807 526.482 L966.807 572.419 L978.265 572.419 L978.265 578.322 L948.404 578.322 L948.404 572.419 Z\" fill=\"#000000\" fill-rule=\"evenodd\" fill-opacity=\"1\" /><path clip-path=\"url(#clip820)\" d=\"M503.858 514.488 L528.337 514.488 L528.337 520.391 L495.421 520.391 L495.421 514.488 Q499.414 510.356 506.289 503.412 Q513.199 496.433 514.969 494.419 Q518.338 490.634 519.657 488.03 Q521.011 485.391 521.011 482.857 Q521.011 478.725 518.094 476.121 Q515.213 473.516 510.56 473.516 Q507.261 473.516 503.581 474.662 Q499.935 475.808 495.768 478.134 L495.768 471.051 Q500.004 469.35 503.685 468.482 Q507.365 467.614 510.421 467.614 Q518.476 467.614 523.268 471.641 Q528.06 475.669 528.06 482.405 Q528.06 485.6 526.844 488.482 Q525.664 491.329 522.504 495.218 Q521.636 496.225 516.983 501.051 Q512.331 505.843 503.858 514.488 Z\" fill=\"#000000\" fill-rule=\"evenodd\" fill-opacity=\"1\" /><path clip-path=\"url(#clip820)\" d=\"M1677.2 1129.68 Q1682.23 1130.76 1685.04 1134.16 Q1687.89 1137.56 1687.89 1142.56 Q1687.89 1150.24 1682.61 1154.44 Q1677.34 1158.64 1667.61 1158.64 Q1664.35 1158.64 1660.88 1157.98 Q1657.44 1157.35 1653.76 1156.07 L1653.76 1149.3 Q1656.68 1151 1660.15 1151.87 Q1663.62 1152.74 1667.41 1152.74 Q1674 1152.74 1677.44 1150.13 Q1680.91 1147.53 1680.91 1142.56 Q1680.91 1137.98 1677.68 1135.41 Q1674.49 1132.81 1668.76 1132.81 L1662.72 1132.81 L1662.72 1127.04 L1669.04 1127.04 Q1674.21 1127.04 1676.95 1124.99 Q1679.7 1122.91 1679.7 1119.02 Q1679.7 1115.03 1676.85 1112.91 Q1674.04 1110.76 1668.76 1110.76 Q1665.88 1110.76 1662.58 1111.38 Q1659.28 1112.01 1655.32 1113.33 L1655.32 1107.08 Q1659.32 1105.97 1662.79 1105.41 Q1666.29 1104.85 1669.39 1104.85 Q1677.37 1104.85 1682.02 1108.5 Q1686.68 1112.11 1686.68 1118.29 Q1686.68 1122.6 1684.21 1125.58 Q1681.75 1128.53 1677.2 1129.68 Z\" fill=\"#000000\" fill-rule=\"evenodd\" fill-opacity=\"1\" /><path clip-path=\"url(#clip820)\" d=\"M1553.58 358.8 L1535.87 386.474 L1553.58 386.474 L1553.58 358.8 M1551.74 352.689 L1560.56 352.689 L1560.56 386.474 L1567.96 386.474 L1567.96 392.307 L1560.56 392.307 L1560.56 404.529 L1553.58 404.529 L1553.58 392.307 L1530.18 392.307 L1530.18 385.536 L1551.74 352.689 Z\" fill=\"#000000\" fill-rule=\"evenodd\" fill-opacity=\"1\" /><path clip-path=\"url(#clip820)\" d=\"M1128.63 294.758 L1156.16 294.758 L1156.16 300.661 L1135.05 300.661 L1135.05 313.369 Q1136.58 312.848 1138.11 312.605 Q1139.64 312.328 1141.16 312.328 Q1149.84 312.328 1154.91 317.085 Q1159.98 321.841 1159.98 329.966 Q1159.98 338.334 1154.77 342.987 Q1149.57 347.605 1140.09 347.605 Q1136.82 347.605 1133.42 347.05 Q1130.05 346.494 1126.44 345.383 L1126.44 338.334 Q1129.57 340.036 1132.9 340.869 Q1136.23 341.702 1139.95 341.702 Q1145.96 341.702 1149.46 338.543 Q1152.97 335.383 1152.97 329.966 Q1152.97 324.55 1149.46 321.39 Q1145.96 318.23 1139.95 318.23 Q1137.14 318.23 1134.32 318.855 Q1131.55 319.48 1128.63 320.8 L1128.63 294.758 Z\" fill=\"#000000\" fill-rule=\"evenodd\" fill-opacity=\"1\" /><path clip-path=\"url(#clip820)\" d=\"M1955.53 520.642 Q1950.81 520.642 1948.03 523.871 Q1945.29 527.1 1945.29 532.725 Q1945.29 538.315 1948.03 541.579 Q1950.81 544.808 1955.53 544.808 Q1960.26 544.808 1963 541.579 Q1965.78 538.315 1965.78 532.725 Q1965.78 527.1 1963 523.871 Q1960.26 520.642 1955.53 520.642 M1969.46 498.662 L1969.46 505.051 Q1966.82 503.801 1964.11 503.142 Q1961.44 502.482 1958.8 502.482 Q1951.85 502.482 1948.17 507.169 Q1944.53 511.857 1944.01 521.336 Q1946.05 518.315 1949.14 516.718 Q1952.23 515.086 1955.95 515.086 Q1963.76 515.086 1968.28 519.843 Q1972.83 524.565 1972.83 532.725 Q1972.83 540.711 1968.1 545.537 Q1963.38 550.364 1955.53 550.364 Q1946.54 550.364 1941.78 543.489 Q1937.03 536.579 1937.03 523.489 Q1937.03 511.197 1942.86 503.905 Q1948.69 496.579 1958.52 496.579 Q1961.16 496.579 1963.83 497.1 Q1966.54 497.621 1969.46 498.662 Z\" fill=\"#000000\" fill-rule=\"evenodd\" fill-opacity=\"1\" /><path clip-path=\"url(#clip820)\" d=\"M1938.26 149.931 L1971.59 149.931 L1971.59 152.917 L1952.77 201.771 L1945.45 201.771 L1963.16 155.834 L1938.26 155.834 L1938.26 149.931 Z\" fill=\"#000000\" fill-rule=\"evenodd\" fill-opacity=\"1\" /><path clip-path=\"url(#clip820)\" d=\"M2166.87 379.911 Q2161.87 379.911 2158.99 382.585 Q2156.14 385.258 2156.14 389.946 Q2156.14 394.633 2158.99 397.307 Q2161.87 399.981 2166.87 399.981 Q2171.87 399.981 2174.76 397.307 Q2177.64 394.599 2177.64 389.946 Q2177.64 385.258 2174.76 382.585 Q2171.91 379.911 2166.87 379.911 M2159.86 376.925 Q2155.35 375.814 2152.81 372.724 Q2150.31 369.634 2150.31 365.189 Q2150.31 358.974 2154.72 355.363 Q2159.17 351.752 2166.87 351.752 Q2174.62 351.752 2179.03 355.363 Q2183.44 358.974 2183.44 365.189 Q2183.44 369.634 2180.9 372.724 Q2178.4 375.814 2173.92 376.925 Q2178.99 378.106 2181.8 381.543 Q2184.65 384.981 2184.65 389.946 Q2184.65 397.481 2180.03 401.508 Q2175.45 405.536 2166.87 405.536 Q2158.3 405.536 2153.68 401.508 Q2149.1 397.481 2149.1 389.946 Q2149.1 384.981 2151.94 381.543 Q2154.79 378.106 2159.86 376.925 M2157.29 365.849 Q2157.29 369.877 2159.79 372.134 Q2162.32 374.39 2166.87 374.39 Q2171.39 374.39 2173.92 372.134 Q2176.49 369.877 2176.49 365.849 Q2176.49 361.821 2173.92 359.564 Q2171.39 357.307 2166.87 357.307 Q2162.32 357.307 2159.79 359.564 Q2157.29 361.821 2157.29 365.849 Z\" fill=\"#000000\" fill-rule=\"evenodd\" fill-opacity=\"1\" /><path clip-path=\"url(#clip820)\" d=\"M1912.79 294.758 L1920.33 294.758 L1933.21 314.029 L1946.16 294.758 L1953.69 294.758 L1937.03 319.654 L1954.8 346.598 L1947.27 346.598 L1932.69 324.55 L1918 346.598 L1910.43 346.598 L1928.94 318.925 L1912.79 294.758 Z\" fill=\"#000000\" fill-rule=\"evenodd\" fill-opacity=\"1\" /><path clip-path=\"url(#clip820)\" d=\"M1955.57 294.758 L1999.42 294.758 L1999.42 300.661 L1981.02 300.661 L1981.02 346.598 L1973.97 346.598 L1973.97 300.661 L1955.57 300.661 L1955.57 294.758 Z\" fill=\"#000000\" fill-rule=\"evenodd\" fill-opacity=\"1\" /><path clip-path=\"url(#clip820)\" d=\"M962.831 127.875 L953.317 153.674 L972.38 153.674 L962.831 127.875 M958.873 120.965 L966.824 120.965 L986.581 172.805 L979.29 172.805 L974.567 159.507 L951.199 159.507 L946.477 172.805 L939.081 172.805 L958.873 120.965 Z\" fill=\"#000000\" fill-rule=\"evenodd\" fill-opacity=\"1\" /><path clip-path=\"url(#clip820)\" d=\"M1131.84 611.496 L1131.84 630.489 L1143.09 630.489 Q1148.75 630.489 1151.46 628.163 Q1154.2 625.802 1154.2 620.975 Q1154.2 616.114 1151.46 613.823 Q1148.75 611.496 1143.09 611.496 L1131.84 611.496 M1131.84 590.177 L1131.84 605.802 L1142.22 605.802 Q1147.36 605.802 1149.86 603.892 Q1152.4 601.948 1152.4 597.989 Q1152.4 594.066 1149.86 592.121 Q1147.36 590.177 1142.22 590.177 L1131.84 590.177 M1124.83 584.413 L1142.74 584.413 Q1150.76 584.413 1155.1 587.746 Q1159.44 591.08 1159.44 597.226 Q1159.44 601.982 1157.22 604.795 Q1155 607.607 1150.69 608.302 Q1155.87 609.413 1158.72 612.955 Q1161.6 616.462 1161.6 621.739 Q1161.6 628.684 1156.88 632.468 Q1152.15 636.253 1143.44 636.253 L1124.83 636.253 L1124.83 584.413 Z\" fill=\"#000000\" fill-rule=\"evenodd\" fill-opacity=\"1\" /><path clip-path=\"url(#clip820)\" d=\"M948.404 572.419 L959.863 572.419 L959.863 532.871 L947.397 535.371 L947.397 528.982 L959.793 526.482 L966.807 526.482 L966.807 572.419 L978.265 572.419 L978.265 578.322 L948.404 578.322 L948.404 572.419 Z\" fill=\"#000000\" fill-rule=\"evenodd\" fill-opacity=\"1\" /><path clip-path=\"url(#clip820)\" d=\"M503.858 514.488 L528.337 514.488 L528.337 520.391 L495.421 520.391 L495.421 514.488 Q499.414 510.356 506.289 503.412 Q513.199 496.433 514.969 494.419 Q518.338 490.634 519.657 488.03 Q521.011 485.391 521.011 482.857 Q521.011 478.725 518.094 476.121 Q515.213 473.516 510.56 473.516 Q507.261 473.516 503.581 474.662 Q499.935 475.808 495.768 478.134 L495.768 471.051 Q500.004 469.35 503.685 468.482 Q507.365 467.614 510.421 467.614 Q518.476 467.614 523.268 471.641 Q528.06 475.669 528.06 482.405 Q528.06 485.6 526.844 488.482 Q525.664 491.329 522.504 495.218 Q521.636 496.225 516.983 501.051 Q512.331 505.843 503.858 514.488 Z\" fill=\"#000000\" fill-rule=\"evenodd\" fill-opacity=\"1\" /><path clip-path=\"url(#clip820)\" d=\"M1677.2 1129.68 Q1682.23 1130.76 1685.04 1134.16 Q1687.89 1137.56 1687.89 1142.56 Q1687.89 1150.24 1682.61 1154.44 Q1677.34 1158.64 1667.61 1158.64 Q1664.35 1158.64 1660.88 1157.98 Q1657.44 1157.35 1653.76 1156.07 L1653.76 1149.3 Q1656.68 1151 1660.15 1151.87 Q1663.62 1152.74 1667.41 1152.74 Q1674 1152.74 1677.44 1150.13 Q1680.91 1147.53 1680.91 1142.56 Q1680.91 1137.98 1677.68 1135.41 Q1674.49 1132.81 1668.76 1132.81 L1662.72 1132.81 L1662.72 1127.04 L1669.04 1127.04 Q1674.21 1127.04 1676.95 1124.99 Q1679.7 1122.91 1679.7 1119.02 Q1679.7 1115.03 1676.85 1112.91 Q1674.04 1110.76 1668.76 1110.76 Q1665.88 1110.76 1662.58 1111.38 Q1659.28 1112.01 1655.32 1113.33 L1655.32 1107.08 Q1659.32 1105.97 1662.79 1105.41 Q1666.29 1104.85 1669.39 1104.85 Q1677.37 1104.85 1682.02 1108.5 Q1686.68 1112.11 1686.68 1118.29 Q1686.68 1122.6 1684.21 1125.58 Q1681.75 1128.53 1677.2 1129.68 Z\" fill=\"#000000\" fill-rule=\"evenodd\" fill-opacity=\"1\" /><path clip-path=\"url(#clip820)\" d=\"M1553.58 358.8 L1535.87 386.474 L1553.58 386.474 L1553.58 358.8 M1551.74 352.689 L1560.56 352.689 L1560.56 386.474 L1567.96 386.474 L1567.96 392.307 L1560.56 392.307 L1560.56 404.529 L1553.58 404.529 L1553.58 392.307 L1530.18 392.307 L1530.18 385.536 L1551.74 352.689 Z\" fill=\"#000000\" fill-rule=\"evenodd\" fill-opacity=\"1\" /><path clip-path=\"url(#clip820)\" d=\"M1128.63 294.758 L1156.16 294.758 L1156.16 300.661 L1135.05 300.661 L1135.05 313.369 Q1136.58 312.848 1138.11 312.605 Q1139.64 312.328 1141.16 312.328 Q1149.84 312.328 1154.91 317.085 Q1159.98 321.841 1159.98 329.966 Q1159.98 338.334 1154.77 342.987 Q1149.57 347.605 1140.09 347.605 Q1136.82 347.605 1133.42 347.05 Q1130.05 346.494 1126.44 345.383 L1126.44 338.334 Q1129.57 340.036 1132.9 340.869 Q1136.23 341.702 1139.95 341.702 Q1145.96 341.702 1149.46 338.543 Q1152.97 335.383 1152.97 329.966 Q1152.97 324.55 1149.46 321.39 Q1145.96 318.23 1139.95 318.23 Q1137.14 318.23 1134.32 318.855 Q1131.55 319.48 1128.63 320.8 L1128.63 294.758 Z\" fill=\"#000000\" fill-rule=\"evenodd\" fill-opacity=\"1\" /><path clip-path=\"url(#clip820)\" d=\"M1955.53 520.642 Q1950.81 520.642 1948.03 523.871 Q1945.29 527.1 1945.29 532.725 Q1945.29 538.315 1948.03 541.579 Q1950.81 544.808 1955.53 544.808 Q1960.26 544.808 1963 541.579 Q1965.78 538.315 1965.78 532.725 Q1965.78 527.1 1963 523.871 Q1960.26 520.642 1955.53 520.642 M1969.46 498.662 L1969.46 505.051 Q1966.82 503.801 1964.11 503.142 Q1961.44 502.482 1958.8 502.482 Q1951.85 502.482 1948.17 507.169 Q1944.53 511.857 1944.01 521.336 Q1946.05 518.315 1949.14 516.718 Q1952.23 515.086 1955.95 515.086 Q1963.76 515.086 1968.28 519.843 Q1972.83 524.565 1972.83 532.725 Q1972.83 540.711 1968.1 545.537 Q1963.38 550.364 1955.53 550.364 Q1946.54 550.364 1941.78 543.489 Q1937.03 536.579 1937.03 523.489 Q1937.03 511.197 1942.86 503.905 Q1948.69 496.579 1958.52 496.579 Q1961.16 496.579 1963.83 497.1 Q1966.54 497.621 1969.46 498.662 Z\" fill=\"#000000\" fill-rule=\"evenodd\" fill-opacity=\"1\" /><path clip-path=\"url(#clip820)\" d=\"M1938.26 149.931 L1971.59 149.931 L1971.59 152.917 L1952.77 201.771 L1945.45 201.771 L1963.16 155.834 L1938.26 155.834 L1938.26 149.931 Z\" fill=\"#000000\" fill-rule=\"evenodd\" fill-opacity=\"1\" /><path clip-path=\"url(#clip820)\" d=\"M2166.87 379.911 Q2161.87 379.911 2158.99 382.585 Q2156.14 385.258 2156.14 389.946 Q2156.14 394.633 2158.99 397.307 Q2161.87 399.981 2166.87 399.981 Q2171.87 399.981 2174.76 397.307 Q2177.64 394.599 2177.64 389.946 Q2177.64 385.258 2174.76 382.585 Q2171.91 379.911 2166.87 379.911 M2159.86 376.925 Q2155.35 375.814 2152.81 372.724 Q2150.31 369.634 2150.31 365.189 Q2150.31 358.974 2154.72 355.363 Q2159.17 351.752 2166.87 351.752 Q2174.62 351.752 2179.03 355.363 Q2183.44 358.974 2183.44 365.189 Q2183.44 369.634 2180.9 372.724 Q2178.4 375.814 2173.92 376.925 Q2178.99 378.106 2181.8 381.543 Q2184.65 384.981 2184.65 389.946 Q2184.65 397.481 2180.03 401.508 Q2175.45 405.536 2166.87 405.536 Q2158.3 405.536 2153.68 401.508 Q2149.1 397.481 2149.1 389.946 Q2149.1 384.981 2151.94 381.543 Q2154.79 378.106 2159.86 376.925 M2157.29 365.849 Q2157.29 369.877 2159.79 372.134 Q2162.32 374.39 2166.87 374.39 Q2171.39 374.39 2173.92 372.134 Q2176.49 369.877 2176.49 365.849 Q2176.49 361.821 2173.92 359.564 Q2171.39 357.307 2166.87 357.307 Q2162.32 357.307 2159.79 359.564 Q2157.29 361.821 2157.29 365.849 Z\" fill=\"#000000\" fill-rule=\"evenodd\" fill-opacity=\"1\" /><path clip-path=\"url(#clip820)\" d=\"M1912.79 294.758 L1920.33 294.758 L1933.21 314.029 L1946.16 294.758 L1953.69 294.758 L1937.03 319.654 L1954.8 346.598 L1947.27 346.598 L1932.69 324.55 L1918 346.598 L1910.43 346.598 L1928.94 318.925 L1912.79 294.758 Z\" fill=\"#000000\" fill-rule=\"evenodd\" fill-opacity=\"1\" /><path clip-path=\"url(#clip820)\" d=\"M1955.57 294.758 L1999.42 294.758 L1999.42 300.661 L1981.02 300.661 L1981.02 346.598 L1973.97 346.598 L1973.97 300.661 L1955.57 300.661 L1955.57 294.758 Z\" fill=\"#000000\" fill-rule=\"evenodd\" fill-opacity=\"1\" /><path clip-path=\"url(#clip820)\" d=\"M580.768 1168.48 Q573.129 1168.48 568.615 1174.17 Q564.136 1179.87 564.136 1189.69 Q564.136 1199.49 568.615 1205.18 Q573.129 1210.88 580.768 1210.88 Q588.407 1210.88 592.851 1205.18 Q597.33 1199.49 597.33 1189.69 Q597.33 1179.87 592.851 1174.17 Q588.407 1168.48 580.768 1168.48 M580.768 1162.79 Q591.67 1162.79 598.198 1170.11 Q604.726 1177.4 604.726 1189.69 Q604.726 1201.95 598.198 1209.28 Q591.67 1216.57 580.768 1216.57 Q569.83 1216.57 563.268 1209.28 Q556.74 1201.99 556.74 1189.69 Q556.74 1177.4 563.268 1170.11 Q569.83 1162.79 580.768 1162.79 Z\" fill=\"#000000\" fill-rule=\"evenodd\" fill-opacity=\"1\" /><path clip-path=\"url(#clip820)\" d=\"M617.538 1209.66 L628.997 1209.66 L628.997 1170.11 L616.531 1172.61 L616.531 1166.22 L628.927 1163.72 L635.941 1163.72 L635.941 1209.66 L647.399 1209.66 L647.399 1215.56 L617.538 1215.56 L617.538 1209.66 Z\" fill=\"#000000\" fill-rule=\"evenodd\" fill-opacity=\"1\" /><path clip-path=\"url(#clip820)\" d=\"M1649.8 705.032 Q1642.16 705.032 1637.65 710.726 Q1633.17 716.421 1633.17 726.247 Q1633.17 736.039 1637.65 741.733 Q1642.16 747.428 1649.8 747.428 Q1657.44 747.428 1661.89 741.733 Q1666.36 736.039 1666.36 726.247 Q1666.36 716.421 1661.89 710.726 Q1657.44 705.032 1649.8 705.032 M1649.8 699.338 Q1660.7 699.338 1667.23 706.664 Q1673.76 713.956 1673.76 726.247 Q1673.76 738.504 1667.23 745.83 Q1660.7 753.122 1649.8 753.122 Q1638.86 753.122 1632.3 745.83 Q1625.77 738.539 1625.77 726.247 Q1625.77 713.956 1632.3 706.664 Q1638.86 699.338 1649.8 699.338 Z\" fill=\"#000000\" fill-rule=\"evenodd\" fill-opacity=\"1\" /><path clip-path=\"url(#clip820)\" d=\"M1691.4 746.212 L1715.88 746.212 L1715.88 752.115 L1682.96 752.115 L1682.96 746.212 Q1686.95 742.08 1693.83 735.136 Q1700.74 728.157 1702.51 726.143 Q1705.88 722.358 1707.2 719.754 Q1708.55 717.115 1708.55 714.58 Q1708.55 710.449 1705.63 707.844 Q1702.75 705.24 1698.1 705.24 Q1694.8 705.24 1691.12 706.386 Q1687.48 707.532 1683.31 709.858 L1683.31 702.775 Q1687.54 701.074 1691.23 700.206 Q1694.91 699.338 1697.96 699.338 Q1706.02 699.338 1710.81 703.365 Q1715.6 707.393 1715.6 714.129 Q1715.6 717.324 1714.38 720.205 Q1713.2 723.053 1710.04 726.942 Q1709.18 727.948 1704.52 732.775 Q1699.87 737.566 1691.4 746.212 Z\" fill=\"#000000\" fill-rule=\"evenodd\" fill-opacity=\"1\" /><path clip-path=\"url(#clip820)\" d=\"M2132.56 1062.97 L2120.84 1078.74 L2133.17 1095.38 L2126.89 1095.38 L2117.45 1082.65 L2108.02 1095.38 L2101.74 1095.38 L2114.33 1078.42 L2102.81 1062.97 L2109.09 1062.97 L2117.69 1074.52 L2126.28 1062.97 L2132.56 1062.97 Z\" fill=\"#000000\" fill-rule=\"evenodd\" fill-opacity=\"1\" /><path clip-path=\"url(#clip820)\" d=\"M2153.94 1056.03 Q2149.43 1056.03 2147.14 1060.49 Q2144.88 1064.91 2144.88 1073.82 Q2144.88 1082.71 2147.14 1087.16 Q2149.43 1091.59 2153.94 1091.59 Q2158.48 1091.59 2160.74 1087.16 Q2163.03 1082.71 2163.03 1073.82 Q2163.03 1064.91 2160.74 1060.49 Q2158.48 1056.03 2153.94 1056.03 M2153.94 1051.4 Q2161.2 1051.4 2165.02 1057.16 Q2168.87 1062.89 2168.87 1073.82 Q2168.87 1084.73 2165.02 1090.49 Q2161.2 1096.22 2153.94 1096.22 Q2146.68 1096.22 2142.83 1090.49 Q2139.01 1084.73 2139.01 1073.82 Q2139.01 1062.89 2142.83 1057.16 Q2146.68 1051.4 2153.94 1051.4 Z\" fill=\"#000000\" fill-rule=\"evenodd\" fill-opacity=\"1\" /></svg>\n"
      ]
     },
     "metadata": {},
     "execution_count": 13
    }
   ],
   "cell_type": "code",
   "source": [
    "using Plots\n",
    "using Colors\n",
    "\n",
    "##Auxiliary function for annotating\n",
    "function text_in_set_plot!(pl, po, t; kws...)\n",
    "    ##solve finding center (other solvers? https://jump.dev/JuMP.jl/dev/installation/#Supported-solvers)\n",
    "    solver = optimizer_with_attributes(GLPK.Optimizer, \"presolve\" => GLPK.ON)\n",
    "    plot!(pl, po; kws...)\n",
    "    if t !== nothing\n",
    "        c, r = hchebyshevcenter(hrep(po), solver, verbose=0)\n",
    "        annotate!(pl, [(c..., text(t, 12))])\n",
    "    end\n",
    "end\n",
    "\n",
    "##Initialize our canvas\n",
    "p = Plots.plot(fmt = :png, fillcolor = :white)\n",
    "\n",
    "##Show the discrete modes\n",
    "for mode in states(system)\n",
    "    t = (system.ext[:q_T] in [mode, mode + 11]) ? \"XT\" : (mode == system.ext[:q_A] ? \"A\" : (mode == system.ext[:q_B] ? \"B\" :\n",
    "            mode <= 11 ? string(mode) : string(mode - 11)))\n",
    "    text_in_set_plot!(p, stateset(system, mode), t, fillcolor = :white, linecolor = :black)\n",
    "end\n",
    "\n",
    "##Plot obstacles\n",
    "for i in eachindex(system.ext[:obstacles])\n",
    "    text_in_set_plot!(p, system.ext[:obstacles][i], \"O$i\", fillcolor = :black, fillalpha = 0.1)\n",
    "end\n",
    "\n",
    "\n",
    "##Initial state\n",
    "scatter!(p, [x0[1]], [x0[2]])\n",
    "annotate!(p, [(x0[1], x0[2] - 0.5, text(\"x0\", 10))])\n",
    "\n",
    "##Split the vector into x1 and x2\n",
    "x1 = [xu.x[j][1] for j in eachindex(xu.x)]\n",
    "x2 = [xu.x[j][2] for j in eachindex(xu.x)]\n",
    "\n",
    "##Plot the trajectory\n",
    "scatter!(p, x1, x2)"
   ],
   "metadata": {},
   "execution_count": 13
  },
  {
   "cell_type": "markdown",
   "source": [
    "### References\n",
    "\n",
    "1. Gol, E. A., Lazar, M., & Belta, C. (2013). Language-guided controller synthesis for linear systems. IEEE Transactions on Automatic Control, 59(5), 1163-1176.\n",
    "1. Bemporad, A., & Morari, M. (1999). Control of systems integrating logic, dynamics, and constraints. Automatica, 35(3), 407-427.\n",
    "1. Legat B., Bouchat J., Jungers R. M. (2021). Abstraction-based branch and bound approach to Q-learning for hybrid optimal control. 3rd Annual Learning for Dynamics & Control Conference, 2021.\n",
    "1. Legat B., Bouchat J., Jungers R. M. (2021). Abstraction-based branch and bound approach to Q-learning for hybrid optimal control. https://www.codeocean.com/. https://doi.org/10.24433/CO.6650697.v1."
   ],
   "metadata": {}
  },
  {
   "cell_type": "markdown",
   "source": [
    "---\n",
    "\n",
    "*This notebook was generated using [Literate.jl](https://github.com/fredrikekre/Literate.jl).*"
   ],
   "metadata": {}
  }
 ],
 "nbformat_minor": 3,
 "metadata": {
  "language_info": {
   "file_extension": ".jl",
   "mimetype": "application/julia",
   "name": "julia",
   "version": "1.6.1"
  },
  "kernelspec": {
   "name": "julia-1.6",
   "display_name": "Julia 1.6.1",
   "language": "julia"
  }
 },
 "nbformat": 4
}
